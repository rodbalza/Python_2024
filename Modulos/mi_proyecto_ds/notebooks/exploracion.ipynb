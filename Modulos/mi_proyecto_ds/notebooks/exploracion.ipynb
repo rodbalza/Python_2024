{
 "cells": [
  {
   "cell_type": "code",
   "execution_count": null,
   "metadata": {},
   "outputs": [],
   "source": [
    "# Importa las bibliotecas necesarias\n",
    "import pandas as pd\n",
    "import numpy as np\n",
    "import matplotlib.pyplot as plt\n",
    "\n",
    "# Carga los datos desde el archivo dataset.csv\n",
    "ruta_archivo = 'data/dataset.csv'\n",
    "df = pd.read_csv(ruta_archivo)\n",
    "\n",
    "# Exploración inicial\n",
    "print(\"Información general del dataset:\")\n",
    "print(df.info())\n",
    "\n",
    "# Estadísticas descriptivas\n",
    "print(\"\\nEstadísticas descriptivas:\")\n",
    "print(df.describe())\n",
    "\n",
    "# Visualización de la relación entre Edad e Ingresos\n",
    "plt.figure(figsize=(10, 6))\n",
    "plt.scatter(df['Edad'], df['Ingresos'], alpha=0.5)\n",
    "plt.xlabel('Edad')\n",
    "plt.ylabel('Ingresos')\n",
    "plt.title('Relación entre Edad e Ingresos')\n",
    "plt.grid(True)\n",
    "plt.show()\n",
    "\n",
    "# Análisis de correlaciones\n",
    "correlation_matrix = df.corr()\n",
    "print(\"\\nMatriz de correlación:\")\n",
    "print(correlation_matrix)\n",
    "\n",
    "# Visualización del mapa de calor de correlaciones\n",
    "plt.figure(figsize=(8, 6))\n",
    "plt.imshow(correlation_matrix, cmap='coolwarm', interpolation='nearest')\n",
    "plt.colorbar()\n",
    "plt.xticks(range(len(df.columns)), df.columns, rotation=45)\n",
    "plt.yticks(range(len(df.columns)), df.columns)\n",
    "plt.title('Mapa de calor de correlaciones')\n",
    "plt.show()\n"
   ]
  }
 ],
 "metadata": {
  "language_info": {
   "name": "python"
  }
 },
 "nbformat": 4,
 "nbformat_minor": 2
}
