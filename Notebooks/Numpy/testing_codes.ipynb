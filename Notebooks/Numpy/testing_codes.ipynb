{
 "cells": [
  {
   "cell_type": "markdown",
   "id": "ae3f36d5-56d2-4e1b-9adb-4f6f7436c020",
   "metadata": {},
   "source": [
    "**Desde una terminal:**"
   ]
  },
  {
   "cell_type": "code",
   "execution_count": null,
   "id": "5f56454a-2a0d-4aa7-aba6-e106c87c5576",
   "metadata": {},
   "outputs": [],
   "source": [
    "# pip install numpy\n"
   ]
  },
  {
   "cell_type": "markdown",
   "id": "18403d69-a3b4-4a87-b78f-d44bef117c6f",
   "metadata": {},
   "source": [
    "**Desde una celda de código de Jupyter Notebooks:**"
   ]
  },
  {
   "cell_type": "code",
   "execution_count": null,
   "id": "f737a8ef-6342-47b8-91a7-eeeb26958d8a",
   "metadata": {},
   "outputs": [],
   "source": [
    "# !pip install numpy"
   ]
  },
  {
   "cell_type": "markdown",
   "id": "ee1ff884-9698-4d48-824e-5ae5bf971c52",
   "metadata": {},
   "source": [
    "**Para trabajar con Numpy debemos importarla como:**"
   ]
  },
  {
   "cell_type": "code",
   "execution_count": 3,
   "id": "c469d27a-56f3-4a37-a36d-d821f76bfa6f",
   "metadata": {},
   "outputs": [],
   "source": [
    "import numpy as np"
   ]
  },
  {
   "cell_type": "code",
   "execution_count": 2,
   "id": "77c018ab-1737-4a22-a261-eac87d4f5b9f",
   "metadata": {},
   "outputs": [],
   "source": [
    "a = np.array(42)\n",
    "b = np.array([1, 2, 3, 4, 5])\n",
    "c = np.array([[1, 2, 3], [4, 5, 6]])\n",
    "d = np.array([[[1, 2, 3], [4, 5, 6]], [[1, 2, 3], [4, 5, 6]]])"
   ]
  },
  {
   "cell_type": "code",
   "execution_count": 3,
   "id": "560b52c1-6d4a-4d07-91dd-4f62a01dba54",
   "metadata": {},
   "outputs": [
    {
     "name": "stdout",
     "output_type": "stream",
     "text": [
      "42\n"
     ]
    }
   ],
   "source": [
    "print(a)"
   ]
  },
  {
   "cell_type": "code",
   "execution_count": 4,
   "id": "1c62e1ed-9c08-4ba5-a9f1-559b3ad61e6c",
   "metadata": {},
   "outputs": [
    {
     "name": "stdout",
     "output_type": "stream",
     "text": [
      "[[[1 2 3]\n",
      "  [4 5 6]]\n",
      "\n",
      " [[1 2 3]\n",
      "  [4 5 6]]]\n"
     ]
    }
   ],
   "source": [
    "print(d)"
   ]
  },
  {
   "cell_type": "code",
   "execution_count": 5,
   "id": "ffaf71f5-3c89-44dd-bc3f-a8c9b2d23a67",
   "metadata": {},
   "outputs": [
    {
     "name": "stdout",
     "output_type": "stream",
     "text": [
      "[1 2 3]\n"
     ]
    }
   ],
   "source": [
    "# Array de una dimensión\n",
    "a1 = np.array([1, 2, 3])\n",
    "print(a1)"
   ]
  },
  {
   "cell_type": "code",
   "execution_count": 6,
   "id": "afc31737-2c81-495e-8e6a-8bfaf4ac6151",
   "metadata": {},
   "outputs": [
    {
     "name": "stdout",
     "output_type": "stream",
     "text": [
      "[[1 2 3]\n",
      " [4 5 6]]\n"
     ]
    }
   ],
   "source": [
    "# Array de dos dimensiones\n",
    "a2 = np.array([[1, 2, 3], [4, 5, 6]])\n",
    "print(a2)"
   ]
  },
  {
   "cell_type": "code",
   "execution_count": 7,
   "id": "591fd815-d14d-4d64-8279-c47f4ef6538e",
   "metadata": {},
   "outputs": [
    {
     "name": "stdout",
     "output_type": "stream",
     "text": [
      "[[[ 1  2  3]\n",
      "  [ 4  5  6]]\n",
      "\n",
      " [[ 7  8  9]\n",
      "  [10 11 12]]]\n"
     ]
    }
   ],
   "source": [
    "# Array de tres dimensiones\n",
    "a3 = np.array([[[1, 2, 3], [4, 5, 6]], [[7, 8, 9], [10, 11, 12]]])\n",
    "print(a3)"
   ]
  },
  {
   "cell_type": "code",
   "execution_count": 8,
   "id": "61fed7a6-6b63-43e0-98eb-a0cc54fe1cf2",
   "metadata": {},
   "outputs": [
    {
     "name": "stdout",
     "output_type": "stream",
     "text": [
      "[[[[ 1  2  3]\n",
      "   [ 4  5  6]]\n",
      "\n",
      "  [[ 7  8  9]\n",
      "   [10 11 12]]]\n",
      "\n",
      "\n",
      " [[[13 14 15]\n",
      "   [16 17 18]]\n",
      "\n",
      "  [[19 20 21]\n",
      "   [22 23 24]]]]\n"
     ]
    }
   ],
   "source": [
    "# Array de cuatro dimensiones\n",
    "#datos = [[[[1, 2, 3], [4, 5, 6]], [[7, 8, 9], [10, 11, 12]]], [[[13, 14, 15], [16, 17, 18]], [[19, 20, 21], [22, 23, 24]]]]\n",
    "\n",
    "array_4d = np.array(datos)\n",
    "\n",
    "print(array_4d)\n"
   ]
  },
  {
   "cell_type": "code",
   "execution_count": 9,
   "id": "615dde51-1ff6-4377-9820-27bef95add0b",
   "metadata": {},
   "outputs": [
    {
     "name": "stdout",
     "output_type": "stream",
     "text": [
      "[[[ 1  2  3]\n",
      "  [ 4  5  6]]\n",
      "\n",
      " [[ 7  8  9]\n",
      "  [10 11 12]]]\n"
     ]
    }
   ],
   "source": [
    "# array de tres dimensiones\n",
    "#data = [[[1, 2, 3], [4, 5, 6]], [[7, 8, 9], [10, 11, 12]]]\n",
    "array_3d = np.array(data)\n",
    "\n",
    "print(array_3d)\n"
   ]
  },
  {
   "cell_type": "code",
   "execution_count": 11,
   "id": "669ef961-133b-41ab-822c-b5efa6560073",
   "metadata": {},
   "outputs": [
    {
     "name": "stdout",
     "output_type": "stream",
     "text": [
      "(10, 10, 3)\n",
      "[[[0.69500942 0.95296751 0.06961152]\n",
      "  [0.03757462 0.67799389 0.49133249]\n",
      "  [0.8054559  0.3850331  0.24561346]\n",
      "  [0.53352382 0.37672278 0.25995876]\n",
      "  [0.30592798 0.81924526 0.10621013]\n",
      "  [0.49252346 0.20964704 0.33487882]\n",
      "  [0.92863458 0.49902847 0.1009777 ]\n",
      "  [0.32105971 0.2190574  0.92729943]\n",
      "  [0.1572389  0.97710787 0.5101201 ]\n",
      "  [0.61451354 0.24470009 0.18925452]]\n",
      "\n",
      " [[0.21963575 0.13506536 0.23800374]\n",
      "  [0.35016413 0.04482173 0.74752306]\n",
      "  [0.38587993 0.68780601 0.51131722]\n",
      "  [0.44806938 0.56592005 0.17353801]\n",
      "  [0.45576784 0.94069169 0.38180968]\n",
      "  [0.55603744 0.0089911  0.7185513 ]\n",
      "  [0.48811996 0.90382159 0.05346098]\n",
      "  [0.25803249 0.94509662 0.86508115]\n",
      "  [0.13045919 0.1754257  0.10420507]\n",
      "  [0.67114866 0.31668489 0.96789682]]\n",
      "\n",
      " [[0.31925335 0.69451167 0.7051132 ]\n",
      "  [0.08112653 0.79234627 0.47222184]\n",
      "  [0.25362003 0.80616811 0.44311591]\n",
      "  [0.55964885 0.09179121 0.52591783]\n",
      "  [0.27673789 0.17394023 0.5380444 ]\n",
      "  [0.23922299 0.3330898  0.2433177 ]\n",
      "  [0.08006723 0.58485173 0.09254288]\n",
      "  [0.94759698 0.21808027 0.92738764]\n",
      "  [0.07140191 0.79705018 0.59284907]\n",
      "  [0.27406965 0.63320221 0.99524553]]\n",
      "\n",
      " [[0.92787535 0.12881693 0.17204483]\n",
      "  [0.24144804 0.37704491 0.75003033]\n",
      "  [0.61582299 0.89032628 0.90030392]\n",
      "  [0.73483019 0.92531071 0.27989102]\n",
      "  [0.14439916 0.60276745 0.72933995]\n",
      "  [0.96717056 0.68569193 0.02799899]\n",
      "  [0.80826817 0.68288763 0.80865079]\n",
      "  [0.49120112 0.91350543 0.46652373]\n",
      "  [0.70245275 0.02977692 0.61250267]\n",
      "  [0.09961512 0.67716286 0.65830152]]\n",
      "\n",
      " [[0.36853547 0.91796377 0.6974075 ]\n",
      "  [0.80725414 0.56565619 0.40404602]\n",
      "  [0.8314389  0.52160595 0.66348005]\n",
      "  [0.42003075 0.82768852 0.21362454]\n",
      "  [0.05358783 0.4079382  0.25759073]\n",
      "  [0.87722952 0.96320492 0.48469614]\n",
      "  [0.0080425  0.73604738 0.80343404]\n",
      "  [0.77180375 0.95607994 0.25158333]\n",
      "  [0.31471221 0.55337981 0.31476416]\n",
      "  [0.91643689 0.16091023 0.5212658 ]]\n",
      "\n",
      " [[0.08161085 0.55947301 0.42202609]\n",
      "  [0.24730257 0.87433449 0.81483657]\n",
      "  [0.89727488 0.1586486  0.13193109]\n",
      "  [0.70673939 0.75067032 0.20886571]\n",
      "  [0.17482999 0.92332099 0.37960298]\n",
      "  [0.55370097 0.614828   0.37168489]\n",
      "  [0.25942408 0.90634415 0.96504059]\n",
      "  [0.03639224 0.22947258 0.00805801]\n",
      "  [0.67596591 0.04974062 0.80963636]\n",
      "  [0.48548749 0.34501149 0.20362633]]\n",
      "\n",
      " [[0.59267721 0.52484602 0.79329544]\n",
      "  [0.66126877 0.65609394 0.05041024]\n",
      "  [0.76181844 0.94488547 0.91790132]\n",
      "  [0.44837142 0.36360036 0.00672314]\n",
      "  [0.21997674 0.27296524 0.08604336]\n",
      "  [0.71130789 0.90796633 0.93815793]\n",
      "  [0.3359023  0.12192749 0.96225074]\n",
      "  [0.43944743 0.40337521 0.85642637]\n",
      "  [0.83648076 0.39548799 0.49880734]\n",
      "  [0.74580689 0.46837313 0.64042257]]\n",
      "\n",
      " [[0.13959799 0.94329989 0.57080959]\n",
      "  [0.1243512  0.39753511 0.43917225]\n",
      "  [0.60319258 0.56898097 0.90485345]\n",
      "  [0.44110154 0.70200839 0.58467142]\n",
      "  [0.8336855  0.08502495 0.14192762]\n",
      "  [0.71726453 0.13883492 0.15660308]\n",
      "  [0.58129513 0.89007973 0.95155554]\n",
      "  [0.69870452 0.70698    0.99605376]\n",
      "  [0.36329478 0.93510403 0.72469044]\n",
      "  [0.68968088 0.32376278 0.22226992]]\n",
      "\n",
      " [[0.38893327 0.78413842 0.77296484]\n",
      "  [0.86315848 0.44037025 0.32420171]\n",
      "  [0.37946867 0.96866187 0.50092941]\n",
      "  [0.18403748 0.72016979 0.53112216]\n",
      "  [0.93765454 0.34146376 0.50471364]\n",
      "  [0.43763972 0.8160457  0.59898324]\n",
      "  [0.81903497 0.20418069 0.4899666 ]\n",
      "  [0.80945729 0.73391816 0.21644757]\n",
      "  [0.2073119  0.90028172 0.73825168]\n",
      "  [0.54208657 0.02205292 0.85575184]]\n",
      "\n",
      " [[0.80377891 0.49996272 0.9609908 ]\n",
      "  [0.61943266 0.34120193 0.44774509]\n",
      "  [0.92676429 0.47280649 0.90026481]\n",
      "  [0.02051991 0.03845183 0.52417478]\n",
      "  [0.18314555 0.15310127 0.10757518]\n",
      "  [0.74931029 0.84677541 0.01138025]\n",
      "  [0.70023128 0.65432264 0.01270891]\n",
      "  [0.14720168 0.5198877  0.91144468]\n",
      "  [0.29179735 0.2892367  0.07096249]\n",
      "  [0.11415905 0.14514072 0.53709313]]]\n"
     ]
    }
   ],
   "source": [
    "# Supongamos que tienes una lista de 2D arrays (por ejemplo, 10x10)\n",
    "lista_arrays = [\n",
    "    np.random.random((10, 10)),\n",
    "    np.random.random((10, 10)),\n",
    "    np.random.random((10, 10))\n",
    "]\n",
    "\n",
    "# Convierte la lista en un array 3D\n",
    "#array_3d = np.dstack(lista_arrays)\n",
    "\n",
    "print(array_3d.shape)  # Debería ser (10, 10, 3)\n",
    "print(array_3d)"
   ]
  },
  {
   "cell_type": "code",
   "execution_count": 30,
   "id": "d271a874-1778-4169-a06a-c931289022d3",
   "metadata": {},
   "outputs": [
    {
     "name": "stdout",
     "output_type": "stream",
     "text": [
      "[[[[[ 1  2  3]\n",
      "    [ 4  5  6]]\n",
      "\n",
      "   [[ 7  8  9]\n",
      "    [10 11 12]]]\n",
      "\n",
      "\n",
      "  [[[13 14 15]\n",
      "    [16 17 18]]\n",
      "\n",
      "   [[19 20 21]\n",
      "    [22 23 24]]]]]\n"
     ]
    }
   ],
   "source": [
    "#array 5d\n",
    "data = [[[[[1, 2, 3], [4, 5, 6]], [[7, 8, 9], [10, 11, 12]]], [[[13, 14, 15], [16, 17, 18]], [[19, 20, 21], [22, 23, 24]]]]]\n",
    "\n",
    "array_5d = np.array(data)\n",
    "print(array_5d)\n"
   ]
  },
  {
   "cell_type": "code",
   "execution_count": 32,
   "id": "a0892942-170c-4149-a912-da44179b76ef",
   "metadata": {},
   "outputs": [
    {
     "name": "stdout",
     "output_type": "stream",
     "text": [
      "5\n"
     ]
    }
   ],
   "source": [
    "print(array_5d.ndim)"
   ]
  },
  {
   "cell_type": "code",
   "execution_count": 17,
   "id": "06f1b3e3-9d74-4f43-b335-af92f0804657",
   "metadata": {},
   "outputs": [
    {
     "name": "stdout",
     "output_type": "stream",
     "text": [
      "0\n",
      "1\n",
      "2\n",
      "3\n"
     ]
    }
   ],
   "source": [
    "# Verificando el numero de dimensiones\n",
    "a = np.array(42)\n",
    "b = np.array([1,2,3,4,5])\n",
    "c = np.array([[1,2,3],[4,5,6]])\n",
    "d = np.array([[[1,2,3], [4,5,6]],[[1,2,3],[4,5,6]]])\n",
    "print(a.ndim)\n",
    "print(b.ndim)\n",
    "print(c.ndim)\n",
    "print(d.ndim)"
   ]
  },
  {
   "cell_type": "code",
   "execution_count": 14,
   "id": "2f703734-27f1-430a-8784-92e8e8137430",
   "metadata": {},
   "outputs": [
    {
     "name": "stdout",
     "output_type": "stream",
     "text": [
      "[[[1 2 3]\n",
      "  [4 5 6]]\n",
      "\n",
      " [[1 2 3]\n",
      "  [4 5 6]]]\n"
     ]
    }
   ],
   "source": [
    "print(d)"
   ]
  },
  {
   "cell_type": "code",
   "execution_count": 20,
   "id": "5165d33c-1cac-46b5-a277-98390525852b",
   "metadata": {},
   "outputs": [
    {
     "name": "stdout",
     "output_type": "stream",
     "text": [
      "[[[[[1 2 3 4]]]]]\n"
     ]
    }
   ],
   "source": [
    "# Construyendo arrays con ndmin\n",
    "array_5 = np.array([1,2,3,4],ndmin=5 )\n",
    "print(array_5)"
   ]
  },
  {
   "cell_type": "code",
   "execution_count": 21,
   "id": "84d586eb-49e5-470b-ae7f-5331bad6d10b",
   "metadata": {},
   "outputs": [
    {
     "name": "stdout",
     "output_type": "stream",
     "text": [
      "[[[[[1 2 3 4 6 8]]]]]\n"
     ]
    }
   ],
   "source": [
    "# Construyendo arrays con ndmin\n",
    "array_a = np.array([1,2,3,4,6,8],ndmin=5 )\n",
    "print(array_a)"
   ]
  },
  {
   "cell_type": "code",
   "execution_count": 25,
   "id": "d6742fb0-4e7c-48a1-bae6-0bb122fb182a",
   "metadata": {},
   "outputs": [
    {
     "name": "stdout",
     "output_type": "stream",
     "text": [
      "[[[[[ 1  2  3  4  6  8]\n",
      "    [ 9 10 11 14 15 16]]]]]\n"
     ]
    }
   ],
   "source": [
    "# Construyendo arrays con ndmin\n",
    "array_a = np.array([[1,2,3,4,6,8], [9, 10,11, 14, 15, 16]],ndmin=5 )\n",
    "print(array_a)"
   ]
  },
  {
   "cell_type": "code",
   "execution_count": 26,
   "id": "d676f6c7-6227-4602-87d4-aa706865617c",
   "metadata": {},
   "outputs": [],
   "source": [
    "x = np.array([[[5, 8, 20, 34, 0],\n",
    "[6, 7, 3, 5, 1],\n",
    "[7, 80, 4, 36, 2]],\n",
    "[[5, 7, 2, 34, 0],\n",
    "[6, 79, 3, 35, 1],\n",
    "[7, 8, 4, 36, 2]],\n",
    "[[5, 78, 2, 3, 0],\n",
    "[6, 19, 3, 3, 1],\n",
    "[7, 8, 4, 36, 24]]])"
   ]
  },
  {
   "cell_type": "code",
   "execution_count": 27,
   "id": "79885cf5-d21f-4d67-ad33-3c108000e193",
   "metadata": {},
   "outputs": [
    {
     "name": "stdout",
     "output_type": "stream",
     "text": [
      "[[[ 5  8 20 34  0]\n",
      "  [ 6  7  3  5  1]\n",
      "  [ 7 80  4 36  2]]\n",
      "\n",
      " [[ 5  7  2 34  0]\n",
      "  [ 6 79  3 35  1]\n",
      "  [ 7  8  4 36  2]]\n",
      "\n",
      " [[ 5 78  2  3  0]\n",
      "  [ 6 19  3  3  1]\n",
      "  [ 7  8  4 36 24]]]\n"
     ]
    }
   ],
   "source": [
    "print(x)"
   ]
  },
  {
   "cell_type": "code",
   "execution_count": 28,
   "id": "7356071e-635c-4228-97b4-98976ea066d5",
   "metadata": {},
   "outputs": [
    {
     "name": "stdout",
     "output_type": "stream",
     "text": [
      "3\n"
     ]
    }
   ],
   "source": [
    "print(x.ndim)"
   ]
  },
  {
   "cell_type": "code",
   "execution_count": 39,
   "id": "b7624ebc-12d0-4d1b-9df0-3d518dbb3372",
   "metadata": {},
   "outputs": [
    {
     "name": "stdout",
     "output_type": "stream",
     "text": [
      "[[[[[[1 2]\n",
      "     [3 4]\n",
      "     [5 6]]\n",
      "\n",
      "    [[5 7]\n",
      "     [6 8]\n",
      "     [9 3]]]]]]\n"
     ]
    }
   ],
   "source": [
    "h = np.array([[[1,2],[3,4], [5,6]],[[5,7],[6,8],[9,3]]], ndmin=6)\n",
    "print(h)"
   ]
  },
  {
   "cell_type": "code",
   "execution_count": 41,
   "id": "45c2231d-c519-4da2-bd01-57110573d7a5",
   "metadata": {},
   "outputs": [
    {
     "name": "stdout",
     "output_type": "stream",
     "text": [
      "[[1 2]\n",
      " [5 7]]\n"
     ]
    }
   ],
   "source": [
    "array_1_2D = np.array([[1, 2], [5, 7]])\n",
    "array_2_2D = np.array([[8, 9], [5, 7]])\n",
    "array_3_2D = np.array([[1, 2], [5, 7]])\n",
    "array_3D = np.array([array_1_2D, array_2_2D, array_3_2D])\n",
    "print(array_1_2D)"
   ]
  },
  {
   "cell_type": "code",
   "execution_count": 42,
   "id": "ab974cfd-4074-46ff-9883-b320396183ce",
   "metadata": {},
   "outputs": [
    {
     "name": "stdout",
     "output_type": "stream",
     "text": [
      "[[8 9]\n",
      " [5 7]]\n"
     ]
    }
   ],
   "source": [
    "print(array_2_2D)"
   ]
  },
  {
   "cell_type": "code",
   "execution_count": 43,
   "id": "4a8938c2-4dd8-4aa2-bd9f-2e35031f4352",
   "metadata": {},
   "outputs": [
    {
     "name": "stdout",
     "output_type": "stream",
     "text": [
      "[[1 2]\n",
      " [5 7]]\n"
     ]
    }
   ],
   "source": [
    "print(array_3_2D)"
   ]
  },
  {
   "cell_type": "code",
   "execution_count": 44,
   "id": "c1d75510-f7ee-4fbc-a8df-824563ff4f55",
   "metadata": {},
   "outputs": [
    {
     "name": "stdout",
     "output_type": "stream",
     "text": [
      "[[[1 2]\n",
      "  [5 7]]\n",
      "\n",
      " [[8 9]\n",
      "  [5 7]]\n",
      "\n",
      " [[1 2]\n",
      "  [5 7]]]\n"
     ]
    }
   ],
   "source": [
    "print(array_3D)"
   ]
  },
  {
   "cell_type": "code",
   "execution_count": 47,
   "id": "0d7ac918-047c-41cd-b980-fc893fcb7a9d",
   "metadata": {},
   "outputs": [
    {
     "name": "stdout",
     "output_type": "stream",
     "text": [
      "3\n"
     ]
    }
   ],
   "source": [
    "print(array_3D.ndim)"
   ]
  },
  {
   "cell_type": "code",
   "execution_count": 4,
   "id": "0fbabcd5-a1ee-4421-944e-dc547922966c",
   "metadata": {},
   "outputs": [],
   "source": [
    "#array_4D = np.array([array_A_3D, array_B_3D, array_C_3D, array_D_3D, array_E_3D,array_F_3D, array_G_3D, array_H_3D, array_I_3D])"
   ]
  },
  {
   "cell_type": "code",
   "execution_count": 54,
   "id": "6f4e647b-db3d-4006-a9c1-e7607ea45f70",
   "metadata": {},
   "outputs": [
    {
     "data": {
      "text/plain": [
       "array([[0., 0., 0.],\n",
       "       [0., 0., 0.],\n",
       "       [0., 0., 0.],\n",
       "       [0., 0., 0.],\n",
       "       [0., 0., 0.]])"
      ]
     },
     "execution_count": 54,
     "metadata": {},
     "output_type": "execute_result"
    }
   ],
   "source": [
    "np.zeros((5, 3))"
   ]
  },
  {
   "cell_type": "code",
   "execution_count": 52,
   "id": "3e3338d7-3146-402a-941a-8f577b62720b",
   "metadata": {},
   "outputs": [
    {
     "name": "stdout",
     "output_type": "stream",
     "text": [
      "2\n"
     ]
    }
   ],
   "source": [
    "print(a1.ndim)"
   ]
  },
  {
   "cell_type": "code",
   "execution_count": 53,
   "id": "e945cfd7-30f0-4ee7-8818-aa00c070f6f7",
   "metadata": {},
   "outputs": [
    {
     "data": {
      "text/plain": [
       "(5, 3)"
      ]
     },
     "execution_count": 53,
     "metadata": {},
     "output_type": "execute_result"
    }
   ],
   "source": [
    "a1.shape"
   ]
  },
  {
   "cell_type": "code",
   "execution_count": 55,
   "id": "21c9b3e3-15ca-496f-9745-d5bb52576e71",
   "metadata": {},
   "outputs": [
    {
     "data": {
      "text/plain": [
       "array([[0.77183637, 0.13963875, 0.53352687, 0.39503942],\n",
       "       [0.2175358 , 0.48649627, 0.57947318, 0.5160233 ]])"
      ]
     },
     "execution_count": 55,
     "metadata": {},
     "output_type": "execute_result"
    }
   ],
   "source": [
    "np.random.random((2, 4))"
   ]
  },
  {
   "cell_type": "code",
   "execution_count": 56,
   "id": "3049edbb-6f15-4a40-90e4-d96563ef983a",
   "metadata": {},
   "outputs": [
    {
     "data": {
      "text/plain": [
       "array([-3, -2, -1,  0,  1,  2,  3])"
      ]
     },
     "execution_count": 56,
     "metadata": {},
     "output_type": "execute_result"
    }
   ],
   "source": [
    "np.arange(-3, 4)"
   ]
  },
  {
   "cell_type": "code",
   "execution_count": 57,
   "id": "22b4a382-dafb-49f7-a78b-d9761978731a",
   "metadata": {},
   "outputs": [
    {
     "data": {
      "text/plain": [
       "array([0, 1, 2, 3])"
      ]
     },
     "execution_count": 57,
     "metadata": {},
     "output_type": "execute_result"
    }
   ],
   "source": [
    "np.arange(4)"
   ]
  },
  {
   "cell_type": "code",
   "execution_count": 58,
   "id": "dc6b76a2-c292-4c68-b75f-9363e4332d86",
   "metadata": {},
   "outputs": [
    {
     "data": {
      "text/plain": [
       "array([-3,  0,  3])"
      ]
     },
     "execution_count": 58,
     "metadata": {},
     "output_type": "execute_result"
    }
   ],
   "source": [
    "np.arange(-3, 4, 3)"
   ]
  },
  {
   "cell_type": "code",
   "execution_count": 59,
   "id": "906ceeab-a6f9-4b32-ac0e-ad2a9c8991cc",
   "metadata": {},
   "outputs": [
    {
     "name": "stdout",
     "output_type": "stream",
     "text": [
      "[[0. 0. 0. 0. 0.]\n",
      " [0. 0. 0. 0. 0.]\n",
      " [0. 0. 0. 0. 0.]]\n"
     ]
    }
   ],
   "source": [
    "#array = np.zeros((3, 5))\n",
    "print(array)"
   ]
  },
  {
   "cell_type": "code",
   "execution_count": 60,
   "id": "e992ee12-5e5c-4033-9c16-f984096e7286",
   "metadata": {},
   "outputs": [
    {
     "data": {
      "text/plain": [
       "(3, 5)"
      ]
     },
     "execution_count": 60,
     "metadata": {},
     "output_type": "execute_result"
    }
   ],
   "source": [
    "#array.shape"
   ]
  },
  {
   "cell_type": "code",
   "execution_count": 62,
   "id": "bcf5ff7d-c7d5-4086-aa7d-d03168542df6",
   "metadata": {},
   "outputs": [
    {
     "data": {
      "text/plain": [
       "2"
      ]
     },
     "execution_count": 62,
     "metadata": {},
     "output_type": "execute_result"
    }
   ],
   "source": [
    "array_1 = np.array([[1, 2], [5, 7], [6, 6]])\n",
    "array_1.ndim"
   ]
  },
  {
   "cell_type": "code",
   "execution_count": 63,
   "id": "52a3e942-f4b2-40c8-89a5-26276405c1ae",
   "metadata": {},
   "outputs": [
    {
     "name": "stdout",
     "output_type": "stream",
     "text": [
      "[[1 2]\n",
      " [5 7]\n",
      " [6 6]]\n"
     ]
    }
   ],
   "source": [
    "print(array_1)"
   ]
  },
  {
   "cell_type": "code",
   "execution_count": 64,
   "id": "70043790-7958-4cdf-99bd-f97c59743e9b",
   "metadata": {},
   "outputs": [
    {
     "data": {
      "text/plain": [
       "array([1, 2, 5, 7, 6, 6])"
      ]
     },
     "execution_count": 64,
     "metadata": {},
     "output_type": "execute_result"
    }
   ],
   "source": [
    "array_1.flatten()"
   ]
  },
  {
   "cell_type": "code",
   "execution_count": 65,
   "id": "77ccc397-f0b9-4199-bd85-9b94c9a35128",
   "metadata": {},
   "outputs": [
    {
     "data": {
      "text/plain": [
       "1"
      ]
     },
     "execution_count": 65,
     "metadata": {},
     "output_type": "execute_result"
    }
   ],
   "source": [
    "array_1.flatten().ndim"
   ]
  },
  {
   "cell_type": "code",
   "execution_count": 67,
   "id": "638fc9b2-b639-421b-b2b5-4c7b33dc77a7",
   "metadata": {},
   "outputs": [
    {
     "name": "stdout",
     "output_type": "stream",
     "text": [
      "[[1 2]\n",
      " [5 7]\n",
      " [6 6]]\n"
     ]
    }
   ],
   "source": [
    "array_2 = np.array([[1, 2], [5, 7], [6, 6]])\n",
    "print(array_2)"
   ]
  },
  {
   "cell_type": "code",
   "execution_count": 69,
   "id": "8772efe6-6124-4f1c-9be8-aea5646c74fb",
   "metadata": {},
   "outputs": [
    {
     "data": {
      "text/plain": [
       "2"
      ]
     },
     "execution_count": 69,
     "metadata": {},
     "output_type": "execute_result"
    }
   ],
   "source": [
    "array_2.ndim"
   ]
  },
  {
   "cell_type": "code",
   "execution_count": 71,
   "id": "499ce610-3e74-455c-b2b1-6e69f3eabc09",
   "metadata": {},
   "outputs": [
    {
     "data": {
      "text/plain": [
       "(3, 2)"
      ]
     },
     "execution_count": 71,
     "metadata": {},
     "output_type": "execute_result"
    }
   ],
   "source": [
    "array_2.shape"
   ]
  },
  {
   "cell_type": "code",
   "execution_count": 74,
   "id": "9849fc32-efd9-4c2f-a102-1a25a60c38e7",
   "metadata": {},
   "outputs": [
    {
     "ename": "ValueError",
     "evalue": "cannot reshape array of size 6 into shape (3,3)",
     "output_type": "error",
     "traceback": [
      "\u001b[1;31m---------------------------------------------------------------------------\u001b[0m",
      "\u001b[1;31mValueError\u001b[0m                                Traceback (most recent call last)",
      "Cell \u001b[1;32mIn[74], line 1\u001b[0m\n\u001b[1;32m----> 1\u001b[0m \u001b[43marray_2\u001b[49m\u001b[38;5;241;43m.\u001b[39;49m\u001b[43mreshape\u001b[49m\u001b[43m(\u001b[49m\u001b[43m(\u001b[49m\u001b[38;5;241;43m3\u001b[39;49m\u001b[43m,\u001b[49m\u001b[43m \u001b[49m\u001b[38;5;241;43m3\u001b[39;49m\u001b[43m)\u001b[49m\u001b[43m)\u001b[49m\n",
      "\u001b[1;31mValueError\u001b[0m: cannot reshape array of size 6 into shape (3,3)"
     ]
    }
   ],
   "source": [
    "array_2.reshape((3, 3))"
   ]
  },
  {
   "cell_type": "code",
   "execution_count": 75,
   "id": "a9cbfc4f-583e-40fd-8a01-d0bb37dec857",
   "metadata": {},
   "outputs": [
    {
     "ename": "ValueError",
     "evalue": "cannot reshape array of size 6 into shape (2,2)",
     "output_type": "error",
     "traceback": [
      "\u001b[1;31m---------------------------------------------------------------------------\u001b[0m",
      "\u001b[1;31mValueError\u001b[0m                                Traceback (most recent call last)",
      "Cell \u001b[1;32mIn[75], line 1\u001b[0m\n\u001b[1;32m----> 1\u001b[0m \u001b[43marray_2\u001b[49m\u001b[38;5;241;43m.\u001b[39;49m\u001b[43mreshape\u001b[49m\u001b[43m(\u001b[49m\u001b[43m(\u001b[49m\u001b[38;5;241;43m2\u001b[39;49m\u001b[43m,\u001b[49m\u001b[38;5;241;43m2\u001b[39;49m\u001b[43m)\u001b[49m\u001b[43m)\u001b[49m\n",
      "\u001b[1;31mValueError\u001b[0m: cannot reshape array of size 6 into shape (2,2)"
     ]
    }
   ],
   "source": [
    "array_2.reshape((2,2))"
   ]
  },
  {
   "cell_type": "code",
   "execution_count": 80,
   "id": "a9e01818-f789-46da-86ca-f2a518c92378",
   "metadata": {},
   "outputs": [
    {
     "data": {
      "text/plain": [
       "2"
      ]
     },
     "execution_count": 80,
     "metadata": {},
     "output_type": "execute_result"
    }
   ],
   "source": [
    "array_2.reshape((2,3)).ndim"
   ]
  },
  {
   "cell_type": "code",
   "execution_count": 77,
   "id": "aebc2426-518d-45d8-9cc0-40348f9c8999",
   "metadata": {},
   "outputs": [
    {
     "data": {
      "text/plain": [
       "array([[1, 2],\n",
       "       [5, 7],\n",
       "       [6, 6]])"
      ]
     },
     "execution_count": 77,
     "metadata": {},
     "output_type": "execute_result"
    }
   ],
   "source": [
    "array_2"
   ]
  },
  {
   "cell_type": "code",
   "execution_count": 78,
   "id": "58bb367d-3152-401e-969e-8fd6269361c3",
   "metadata": {},
   "outputs": [
    {
     "data": {
      "text/plain": [
       "array([1, 2, 5, 7, 6, 6])"
      ]
     },
     "execution_count": 78,
     "metadata": {},
     "output_type": "execute_result"
    }
   ],
   "source": [
    "array_2.reshape(6)"
   ]
  },
  {
   "cell_type": "code",
   "execution_count": 79,
   "id": "8cf6cb48-a313-4b49-af7e-e841931bb26a",
   "metadata": {},
   "outputs": [
    {
     "ename": "ValueError",
     "evalue": "cannot reshape array of size 6 into shape (5,)",
     "output_type": "error",
     "traceback": [
      "\u001b[1;31m---------------------------------------------------------------------------\u001b[0m",
      "\u001b[1;31mValueError\u001b[0m                                Traceback (most recent call last)",
      "Cell \u001b[1;32mIn[79], line 1\u001b[0m\n\u001b[1;32m----> 1\u001b[0m \u001b[43marray_2\u001b[49m\u001b[38;5;241;43m.\u001b[39;49m\u001b[43mreshape\u001b[49m\u001b[43m(\u001b[49m\u001b[38;5;241;43m5\u001b[39;49m\u001b[43m)\u001b[49m\n",
      "\u001b[1;31mValueError\u001b[0m: cannot reshape array of size 6 into shape (5,)"
     ]
    }
   ],
   "source": [
    "array_2.reshape(5)"
   ]
  },
  {
   "cell_type": "code",
   "execution_count": 81,
   "id": "c0b6ae7a-3a8d-41dc-87bf-cbb4ed13eedb",
   "metadata": {},
   "outputs": [],
   "source": [
    "x_1 = np.array([[[5, 8, 20, 34, 0],\n",
    "[6, 7, 3, 5, 1],\n",
    "[7, 80, 4, 36, 2]],\n",
    "[[5, 7, 2, 34, 0],\n",
    "[6, 79, 3, 35, 1],\n",
    "[7, 8, 4, 36, 2]],\n",
    "[[5, 78, 2, 3, 0],\n",
    "[6, 19, 3, 3, 1],\n",
    "[7, 8, 4, 36, 24]]])"
   ]
  },
  {
   "cell_type": "code",
   "execution_count": 83,
   "id": "3772d1a7-758e-4297-8c6f-f354ca958de7",
   "metadata": {},
   "outputs": [
    {
     "data": {
      "text/plain": [
       "3"
      ]
     },
     "execution_count": 83,
     "metadata": {},
     "output_type": "execute_result"
    }
   ],
   "source": [
    "x_1.ndim"
   ]
  },
  {
   "cell_type": "code",
   "execution_count": 84,
   "id": "1f60ca5f-a209-44d2-8fca-70b497faf0ee",
   "metadata": {},
   "outputs": [
    {
     "data": {
      "text/plain": [
       "(3, 3, 5)"
      ]
     },
     "execution_count": 84,
     "metadata": {},
     "output_type": "execute_result"
    }
   ],
   "source": [
    "x_1.shape"
   ]
  },
  {
   "cell_type": "code",
   "execution_count": 85,
   "id": "7bcc3b3f-7d2c-487c-baf9-b4b1d4e4ec1a",
   "metadata": {},
   "outputs": [
    {
     "data": {
      "text/plain": [
       "array([[[ 5,  8, 20, 34,  0],\n",
       "        [ 6,  7,  3,  5,  1],\n",
       "        [ 7, 80,  4, 36,  2]],\n",
       "\n",
       "       [[ 5,  7,  2, 34,  0],\n",
       "        [ 6, 79,  3, 35,  1],\n",
       "        [ 7,  8,  4, 36,  2]],\n",
       "\n",
       "       [[ 5, 78,  2,  3,  0],\n",
       "        [ 6, 19,  3,  3,  1],\n",
       "        [ 7,  8,  4, 36, 24]]])"
      ]
     },
     "execution_count": 85,
     "metadata": {},
     "output_type": "execute_result"
    }
   ],
   "source": [
    "x_1"
   ]
  },
  {
   "cell_type": "code",
   "execution_count": 86,
   "id": "d88205a9-f7c1-4066-9c27-d4cb72b77c91",
   "metadata": {},
   "outputs": [
    {
     "name": "stdout",
     "output_type": "stream",
     "text": [
      "[[[[[ 1  2  3  4  6  8]\n",
      "    [ 9 10 11 14 15 16]]]]]\n"
     ]
    }
   ],
   "source": [
    "array_a = np.array([[1,2,3,4,6,8], [9, 10,11, 14, 15, 16]],ndmin=5 )\n",
    "print(array_a)"
   ]
  },
  {
   "cell_type": "code",
   "execution_count": 87,
   "id": "4dc49082-480d-4562-9053-a48449e9f961",
   "metadata": {},
   "outputs": [
    {
     "data": {
      "text/plain": [
       "(1, 1, 1, 2, 6)"
      ]
     },
     "execution_count": 87,
     "metadata": {},
     "output_type": "execute_result"
    }
   ],
   "source": [
    "array_a.shape"
   ]
  },
  {
   "cell_type": "markdown",
   "id": "c0fbf5c3-9116-4387-a212-b63586607ba9",
   "metadata": {},
   "source": [
    "Indexing"
   ]
  },
  {
   "cell_type": "code",
   "execution_count": 89,
   "id": "b693bfde-2ffe-44e8-9fa7-4544fcf7db5d",
   "metadata": {},
   "outputs": [
    {
     "data": {
      "text/plain": [
       "8"
      ]
     },
     "execution_count": 89,
     "metadata": {},
     "output_type": "execute_result"
    }
   ],
   "source": [
    "#array = np.array([2, 4, 6, 8, 10])\n",
    "#array[3]"
   ]
  },
  {
   "cell_type": "code",
   "execution_count": 90,
   "id": "2a9b4f3c-d710-4bb5-a22b-8369a2d3d610",
   "metadata": {},
   "outputs": [
    {
     "ename": "NameError",
     "evalue": "name 'sudoku_game' is not defined",
     "output_type": "error",
     "traceback": [
      "\u001b[1;31m---------------------------------------------------------------------------\u001b[0m",
      "\u001b[1;31mNameError\u001b[0m                                 Traceback (most recent call last)",
      "Cell \u001b[1;32mIn[90], line 1\u001b[0m\n\u001b[1;32m----> 1\u001b[0m \u001b[43msudoku_game\u001b[49m[\u001b[38;5;241m2\u001b[39m, \u001b[38;5;241m4\u001b[39m]\n",
      "\u001b[1;31mNameError\u001b[0m: name 'sudoku_game' is not defined"
     ]
    }
   ],
   "source": [
    "# sudoku_game[2, 4]"
   ]
  },
  {
   "cell_type": "code",
   "execution_count": 91,
   "id": "46243396-040e-4841-a44b-73b230083486",
   "metadata": {},
   "outputs": [
    {
     "data": {
      "text/plain": [
       "array([6, 8])"
      ]
     },
     "execution_count": 91,
     "metadata": {},
     "output_type": "execute_result"
    }
   ],
   "source": [
    "# array = np.array([2, 4, 6, 8, 10])\n",
    "# array[2:4]"
   ]
  },
  {
   "cell_type": "code",
   "execution_count": 29,
   "id": "4e3f28a8-1163-4d9e-ab58-084cafaa9ee8",
   "metadata": {},
   "outputs": [
    {
     "name": "stdout",
     "output_type": "stream",
     "text": [
      "¡El sudoku no cumple las reglas!\n",
      "[[1 6 3 8 1 5 1 4 5]\n",
      " [6 5 2 4 5 4 4 6 7]\n",
      " [8 1 8 1 7 2 6 2 9]\n",
      " [9 7 1 2 9 9 4 3 5]\n",
      " [8 3 3 8 9 1 7 8 2]\n",
      " [9 3 7 9 3 7 5 2 4]\n",
      " [3 9 1 9 9 7 4 4 5]\n",
      " [7 2 4 9 2 4 7 4 6]\n",
      " [3 4 6 8 4 9 5 9 4]]\n"
     ]
    }
   ],
   "source": [
    "import numpy as np\n",
    "\n",
    "# Crear un array 2D de 9 filas y 9 columnas con valores aleatorios entre 1 y 9\n",
    "sudoku_array = np.random.randint(1, 10, size=(9, 9))\n",
    "\n",
    "# Verificar que no haya números repetidos en filas y columnas\n",
    "for i in range(9):\n",
    "    if len(set(sudoku_array[i, :])) != 9 or len(set(sudoku_array[:, i])) != 9:\n",
    "        print(\"¡El sudoku no cumple las reglas!\")\n",
    "        break\n",
    "else:\n",
    "    print(\"¡Sudoku válido!\")\n",
    "\n",
    "print(sudoku_array)\n"
   ]
  },
  {
   "cell_type": "code",
   "execution_count": 5,
   "id": "0b81150d-a144-4f92-9757-8a285dadeec5",
   "metadata": {},
   "outputs": [
    {
     "name": "stdout",
     "output_type": "stream",
     "text": [
      "[[8 3 5 9 1 1 7 5 9]\n",
      " [5 9 6 8 8 7 4 6 8]\n",
      " [8 6 7 7 5 9 5 6 2]\n",
      " [5 6 1 5 6 2 9 6 7]\n",
      " [9 8 8 1 8 4 2 3 8]\n",
      " [3 9 5 2 8 4 5 8 9]\n",
      " [3 2 8 8 9 7 6 1 1]\n",
      " [2 2 9 9 9 5 9 6 6]\n",
      " [8 7 1 5 8 1 7 1 3]]\n"
     ]
    }
   ],
   "source": [
    "print(sudoku_array)"
   ]
  },
  {
   "cell_type": "code",
   "execution_count": 6,
   "id": "5d777594-0bc9-4dd7-8318-91d2498b0ec0",
   "metadata": {},
   "outputs": [],
   "source": [
    "sudoku = sudoku_array"
   ]
  },
  {
   "cell_type": "code",
   "execution_count": 8,
   "id": "20bb872b-7f31-49e5-9d39-4082749d05ba",
   "metadata": {},
   "outputs": [
    {
     "name": "stdout",
     "output_type": "stream",
     "text": [
      "[[8 3 5 9 1 1 7 5 9]\n",
      " [5 9 6 8 8 7 4 6 8]\n",
      " [8 6 7 7 5 9 5 6 2]\n",
      " [5 6 1 5 6 2 9 6 7]\n",
      " [9 8 8 1 8 4 2 3 8]\n",
      " [3 9 5 2 8 4 5 8 9]\n",
      " [3 2 8 8 9 7 6 1 1]\n",
      " [2 2 9 9 9 5 9 6 6]\n",
      " [8 7 1 5 8 1 7 1 3]]\n"
     ]
    }
   ],
   "source": [
    "print(sudoku)"
   ]
  },
  {
   "cell_type": "code",
   "execution_count": 9,
   "id": "c3bfc423-a1be-4be9-a332-24635b3aeaf6",
   "metadata": {},
   "outputs": [],
   "source": [
    "sudoku_game = sudoku\n"
   ]
  },
  {
   "cell_type": "code",
   "execution_count": 10,
   "id": "ff4a4b89-a04f-4174-a3e1-33cba365a43d",
   "metadata": {},
   "outputs": [
    {
     "data": {
      "text/plain": [
       "5"
      ]
     },
     "execution_count": 10,
     "metadata": {},
     "output_type": "execute_result"
    }
   ],
   "source": [
    "# sudoku_game[2,4]"
   ]
  },
  {
   "cell_type": "code",
   "execution_count": 11,
   "id": "bb072e8a-7ce1-4094-bae6-a05c023303e0",
   "metadata": {},
   "outputs": [
    {
     "data": {
      "text/plain": [
       "array([8, 3, 5, 9, 1, 1, 7, 5, 9])"
      ]
     },
     "execution_count": 11,
     "metadata": {},
     "output_type": "execute_result"
    }
   ],
   "source": [
    "# sudoku_game[0]"
   ]
  },
  {
   "cell_type": "code",
   "execution_count": 12,
   "id": "58694771-ef96-4681-8478-369c3e1e1d8b",
   "metadata": {},
   "outputs": [
    {
     "data": {
      "text/plain": [
       "array([9, 8, 7, 5, 1, 2, 8, 9, 5])"
      ]
     },
     "execution_count": 12,
     "metadata": {},
     "output_type": "execute_result"
    }
   ],
   "source": [
    "# sudoku_game[: , 3]"
   ]
  },
  {
   "cell_type": "markdown",
   "id": "a099eb0c-769e-400d-8a97-0c7e6dc0e27b",
   "metadata": {},
   "source": [
    "# np.array([255], np.uint8) + 1 # 2**8-1 is INT_MAX for uint8\n",
    "array([0], dtype=uint8)"
   ]
  },
  {
   "cell_type": "code",
   "execution_count": 31,
   "id": "e5dac023-de97-4eec-9e84-413ec31ec46c",
   "metadata": {},
   "outputs": [
    {
     "data": {
      "text/plain": [
       "dtype('int32')"
      ]
     },
     "execution_count": 31,
     "metadata": {},
     "output_type": "execute_result"
    }
   ],
   "source": [
    "# np.array([1,2,3]).dtype"
   ]
  },
  {
   "cell_type": "code",
   "execution_count": 32,
   "id": "2e409a76-2839-4eea-b198-fa6b4eb07fb4",
   "metadata": {},
   "outputs": [
    {
     "ename": "NameError",
     "evalue": "name 'dtype' is not defined",
     "output_type": "error",
     "traceback": [
      "\u001b[1;31m---------------------------------------------------------------------------\u001b[0m",
      "\u001b[1;31mNameError\u001b[0m                                 Traceback (most recent call last)",
      "Cell \u001b[1;32mIn[32], line 1\u001b[0m\n\u001b[1;32m----> 1\u001b[0m \u001b[43mdtype\u001b[49m(\u001b[38;5;124m'\u001b[39m\u001b[38;5;124mint32\u001b[39m\u001b[38;5;124m'\u001b[39m)\n",
      "\u001b[1;31mNameError\u001b[0m: name 'dtype' is not defined"
     ]
    }
   ],
   "source": [
    "dtype('int32')"
   ]
  },
  {
   "cell_type": "code",
   "execution_count": 33,
   "id": "0075caa6-7bc0-4522-9c20-f4b404731272",
   "metadata": {},
   "outputs": [
    {
     "data": {
      "text/plain": [
       "array([0], dtype=uint8)"
      ]
     },
     "execution_count": 33,
     "metadata": {},
     "output_type": "execute_result"
    }
   ],
   "source": [
    "np.array([255], np.uint8) + 1"
   ]
  },
  {
   "cell_type": "code",
   "execution_count": 34,
   "id": "a877e895-651d-4ae8-9b5e-29b6f8f6b90f",
   "metadata": {},
   "outputs": [
    {
     "data": {
      "text/plain": [
       "array([[5, 2],\n",
       "       [2, 4]])"
      ]
     },
     "execution_count": 34,
     "metadata": {},
     "output_type": "execute_result"
    }
   ],
   "source": [
    "sudoku_game[3:6:2, 3:6:2]"
   ]
  },
  {
   "cell_type": "code",
   "execution_count": 35,
   "id": "3861f02f-a7ee-45e0-a3f4-b9b5a877d58c",
   "metadata": {},
   "outputs": [
    {
     "name": "stdout",
     "output_type": "stream",
     "text": [
      "[[[ 1  2  3]\n",
      "  [ 4  5  6]]\n",
      "\n",
      " [[ 7  8  9]\n",
      "  [10 11 12]]\n",
      "\n",
      " [[13 14 15]\n",
      "  [16 17 18]]]\n"
     ]
    }
   ],
   "source": [
    "# array_3d = np.array([\n",
    "    [[1, 2, 3], [4, 5, 6]],\n",
    "    [[7, 8, 9], [10, 11, 12]],\n",
    "    [[13, 14, 15], [16, 17, 18]]\n",
    "])\n",
    "\n",
    "# print(array_3d)"
   ]
  },
  {
   "cell_type": "code",
   "execution_count": 36,
   "id": "f64a6914-aa88-45c1-9c91-830a0a07e1ae",
   "metadata": {},
   "outputs": [
    {
     "data": {
      "text/plain": [
       "(3, 2, 3)"
      ]
     },
     "execution_count": 36,
     "metadata": {},
     "output_type": "execute_result"
    }
   ],
   "source": [
    "# array_3d.shape\n"
   ]
  },
  {
   "cell_type": "code",
   "execution_count": 40,
   "id": "36c7d0ad-79d6-488c-8233-f69905dee7da",
   "metadata": {},
   "outputs": [],
   "source": [
    "array_3d = np.array([\n",
    "    [[1, 2, 3, 4, 5, 6], [7, 8, 9, 10, 11, 12], [3, 8, 9, 11, 19, 17], [7, 12, 13, 15, 24, 21]],\n",
    "    [[13, 14, 15, 16, 17, 18], [19, 20, 21, 22, 23, 24], [4, 9, 10, 12, 21, 18], [8, 13, 14, 16, 25, 22]],\n",
    "    [[25, 26, 27, 28, 29, 30], [31, 32, 33, 34, 35, 36], [5, 10, 11, 13, 22, 19], [9, 14, 15, 17, 26, 23]],\n",
    "    [[37, 38, 39, 40, 41, 42], [43, 44, 45, 46, 47, 48], [6, 11, 12, 14, 23, 20], [10, 11, 16, 18, 27, 24]]\n",
    "])"
   ]
  },
  {
   "cell_type": "code",
   "execution_count": 41,
   "id": "b6e7c90e-0eef-4ad5-aaa0-ce71121a5bc3",
   "metadata": {},
   "outputs": [
    {
     "data": {
      "text/plain": [
       "array([[[ 1,  2,  3,  4,  5,  6],\n",
       "        [ 7,  8,  9, 10, 11, 12],\n",
       "        [ 3,  8,  9, 11, 19, 17],\n",
       "        [ 7, 12, 13, 15, 24, 21]],\n",
       "\n",
       "       [[13, 14, 15, 16, 17, 18],\n",
       "        [19, 20, 21, 22, 23, 24],\n",
       "        [ 4,  9, 10, 12, 21, 18],\n",
       "        [ 8, 13, 14, 16, 25, 22]],\n",
       "\n",
       "       [[25, 26, 27, 28, 29, 30],\n",
       "        [31, 32, 33, 34, 35, 36],\n",
       "        [ 5, 10, 11, 13, 22, 19],\n",
       "        [ 9, 14, 15, 17, 26, 23]],\n",
       "\n",
       "       [[37, 38, 39, 40, 41, 42],\n",
       "        [43, 44, 45, 46, 47, 48],\n",
       "        [ 6, 11, 12, 14, 23, 20],\n",
       "        [10, 11, 16, 18, 27, 24]]])"
      ]
     },
     "execution_count": 41,
     "metadata": {},
     "output_type": "execute_result"
    }
   ],
   "source": [
    "array_3d"
   ]
  },
  {
   "cell_type": "markdown",
   "id": "17e4670a-8b8e-4fa6-8641-e7616acabc93",
   "metadata": {},
   "source": [
    "1 - ¿Cuál es el elemento en la fila 2, columna 3 y profundidad (capa) 1 del array?"
   ]
  },
  {
   "cell_type": "code",
   "execution_count": 42,
   "id": "6f007244-7630-42d2-bc3f-2f03933469b0",
   "metadata": {},
   "outputs": [
    {
     "name": "stdout",
     "output_type": "stream",
     "text": [
      "Elemento en fila 2, columna 3 y profundidad 1: 9\n"
     ]
    }
   ],
   "source": [
    "elemento = array_3d[1, 2, 1]\n",
    "print(f\"Elemento en fila 2, columna 3 y profundidad 1: {elemento}\")"
   ]
  },
  {
   "cell_type": "markdown",
   "id": "57108039-34ad-427f-93f4-ba44d39d6ebd",
   "metadata": {},
   "source": [
    "2 - ¿Cuál es el subarray formado por las filas 1 y 2 y las columnas 2 y 3 del array?"
   ]
  },
  {
   "cell_type": "code",
   "execution_count": 43,
   "id": "b1a3b9fa-edc6-4a14-8ace-fd947de81e32",
   "metadata": {},
   "outputs": [
    {
     "name": "stdout",
     "output_type": "stream",
     "text": [
      "Submatriz formada por filas 1 y 2, columnas 2 y 3:\n",
      "[[[19 20 21 22 23 24]\n",
      "  [ 4  9 10 12 21 18]]\n",
      "\n",
      " [[31 32 33 34 35 36]\n",
      "  [ 5 10 11 13 22 19]]]\n"
     ]
    }
   ],
   "source": [
    "submatriz = array_3d[1:3, 1:3]\n",
    "print(f\"Submatriz formada por filas 1 y 2, columnas 2 y 3:\\n{submatriz}\")"
   ]
  },
  {
   "cell_type": "code",
   "execution_count": 44,
   "id": "24ea2468-af1f-4d89-a69b-0a3fbceb1587",
   "metadata": {},
   "outputs": [
    {
     "data": {
      "text/plain": [
       "array([[[ 1,  2,  3,  4,  5,  6],\n",
       "        [ 7,  8,  9, 10, 11, 12],\n",
       "        [ 3,  8,  9, 11, 17, 19],\n",
       "        [ 7, 12, 13, 15, 21, 24]],\n",
       "\n",
       "       [[13, 14, 15, 16, 17, 18],\n",
       "        [19, 20, 21, 22, 23, 24],\n",
       "        [ 4,  9, 10, 12, 18, 21],\n",
       "        [ 8, 13, 14, 16, 22, 25]],\n",
       "\n",
       "       [[25, 26, 27, 28, 29, 30],\n",
       "        [31, 32, 33, 34, 35, 36],\n",
       "        [ 5, 10, 11, 13, 19, 22],\n",
       "        [ 9, 14, 15, 17, 23, 26]],\n",
       "\n",
       "       [[37, 38, 39, 40, 41, 42],\n",
       "        [43, 44, 45, 46, 47, 48],\n",
       "        [ 6, 11, 12, 14, 20, 23],\n",
       "        [10, 11, 16, 18, 24, 27]]])"
      ]
     },
     "execution_count": 44,
     "metadata": {},
     "output_type": "execute_result"
    }
   ],
   "source": [
    "np.sort(array_3d)"
   ]
  },
  {
   "cell_type": "code",
   "execution_count": 49,
   "id": "fb891d5a-5002-46c2-a931-31127999e617",
   "metadata": {},
   "outputs": [
    {
     "data": {
      "text/plain": [
       "array([[[ 1,  2,  3,  4,  5,  6],\n",
       "        [ 7,  8,  9, 10, 11, 12],\n",
       "        [ 3,  8,  9, 11, 19, 17],\n",
       "        [ 7, 11, 13, 15, 24, 21]],\n",
       "\n",
       "       [[13, 14, 15, 16, 17, 18],\n",
       "        [19, 20, 21, 22, 23, 24],\n",
       "        [ 4,  9, 10, 12, 21, 18],\n",
       "        [ 8, 12, 14, 16, 25, 22]],\n",
       "\n",
       "       [[25, 26, 27, 28, 29, 30],\n",
       "        [31, 32, 33, 34, 35, 36],\n",
       "        [ 5, 10, 11, 13, 22, 19],\n",
       "        [ 9, 13, 15, 17, 26, 23]],\n",
       "\n",
       "       [[37, 38, 39, 40, 41, 42],\n",
       "        [43, 44, 45, 46, 47, 48],\n",
       "        [ 6, 11, 12, 14, 23, 20],\n",
       "        [10, 14, 16, 18, 27, 24]]])"
      ]
     },
     "execution_count": 49,
     "metadata": {},
     "output_type": "execute_result"
    }
   ],
   "source": [
    "np.sort(array_3d, axis=0)"
   ]
  },
  {
   "cell_type": "code",
   "execution_count": null,
   "id": "c5998e20-1478-42b8-ab9b-e9c8b2d6b626",
   "metadata": {},
   "outputs": [],
   "source": []
  },
  {
   "cell_type": "code",
   "execution_count": 59,
   "id": "0f0d2789-4ff7-4e3c-8a64-f5bde218ef75",
   "metadata": {},
   "outputs": [
    {
     "data": {
      "text/plain": [
       "array([[29, 26, 13, 18, 15, 30],\n",
       "       [30,  8, 32, 25, 33, 45],\n",
       "       [15,  6, 37, 36, 36, 11],\n",
       "       [ 8, 47, 41,  0, 17, 10],\n",
       "       [14, 34, 17, 25,  2, 24]])"
      ]
     },
     "execution_count": 59,
     "metadata": {},
     "output_type": "execute_result"
    }
   ],
   "source": [
    "# Generate a 2D array with random integers between 0 and 50\n",
    "array_2d = np.random.randint(0, 51, size=(5, 6))\n",
    "array_2d  # Print the array contents"
   ]
  },
  {
   "cell_type": "code",
   "execution_count": 60,
   "id": "92210a3b-f479-447d-aad9-9ff162ff984c",
   "metadata": {},
   "outputs": [
    {
     "data": {
      "text/plain": [
       "array([[13, 15, 18, 26, 29, 30],\n",
       "       [ 8, 25, 30, 32, 33, 45],\n",
       "       [ 6, 11, 15, 36, 36, 37],\n",
       "       [ 0,  8, 10, 17, 41, 47],\n",
       "       [ 2, 14, 17, 24, 25, 34]])"
      ]
     },
     "execution_count": 60,
     "metadata": {},
     "output_type": "execute_result"
    }
   ],
   "source": [
    "np.sort(array_2d)"
   ]
  },
  {
   "cell_type": "code",
   "execution_count": 61,
   "id": "52ee97a4-0466-4885-a5f3-e2d393c18eec",
   "metadata": {},
   "outputs": [
    {
     "data": {
      "text/plain": [
       "array([[ 8,  6, 13,  0,  2, 10],\n",
       "       [14,  8, 17, 18, 15, 11],\n",
       "       [15, 26, 32, 25, 17, 24],\n",
       "       [29, 34, 37, 25, 33, 30],\n",
       "       [30, 47, 41, 36, 36, 45]])"
      ]
     },
     "execution_count": 61,
     "metadata": {},
     "output_type": "execute_result"
    }
   ],
   "source": [
    "np.sort(array_2d, axis=0)"
   ]
  },
  {
   "cell_type": "code",
   "execution_count": 63,
   "id": "aef56ebf-fb7f-4e31-99db-e347ba987b2d",
   "metadata": {},
   "outputs": [
    {
     "data": {
      "text/plain": [
       "array([[13, 15, 18, 26, 29, 30],\n",
       "       [ 8, 25, 30, 32, 33, 45],\n",
       "       [ 6, 11, 15, 36, 36, 37],\n",
       "       [ 0,  8, 10, 17, 41, 47],\n",
       "       [ 2, 14, 17, 24, 25, 34]])"
      ]
     },
     "execution_count": 63,
     "metadata": {},
     "output_type": "execute_result"
    }
   ],
   "source": [
    "np.sort(array_2d, axis=1)"
   ]
  },
  {
   "cell_type": "code",
   "execution_count": 64,
   "id": "de408437-57e8-4a67-a466-ca55e2834366",
   "metadata": {},
   "outputs": [
    {
     "data": {
      "text/plain": [
       "array([[29, 26, 13, 18, 15, 30],\n",
       "       [30,  8, 32, 25, 33, 45],\n",
       "       [15,  6, 37, 36, 36, 11],\n",
       "       [ 8, 47, 41,  0, 17, 10],\n",
       "       [14, 34, 17, 25,  2, 24]])"
      ]
     },
     "execution_count": 64,
     "metadata": {},
     "output_type": "execute_result"
    }
   ],
   "source": [
    "array_2d"
   ]
  },
  {
   "cell_type": "code",
   "execution_count": 5,
   "id": "cf4a54ba-bd40-4b4f-b377-b79d6d5962bf",
   "metadata": {},
   "outputs": [
    {
     "data": {
      "text/plain": [
       "array([[[18, 39, 46],\n",
       "        [ 1,  4,  6],\n",
       "        [23,  6,  7]],\n",
       "\n",
       "       [[21, 37, 11],\n",
       "        [ 2, 43, 14],\n",
       "        [ 7, 12,  8]]])"
      ]
     },
     "execution_count": 5,
     "metadata": {},
     "output_type": "execute_result"
    }
   ],
   "source": [
    "array_3d = np.random.randint(1, 51, size=(2, 3, 3))\n",
    "array_3d  # Print the array contents"
   ]
  },
  {
   "cell_type": "code",
   "execution_count": 6,
   "id": "92ea7398-b72e-4799-96f8-0695600ad4bf",
   "metadata": {},
   "outputs": [
    {
     "data": {
      "text/plain": [
       "array([[[18, 39, 46],\n",
       "        [ 1,  4,  6],\n",
       "        [ 6,  7, 23]],\n",
       "\n",
       "       [[11, 21, 37],\n",
       "        [ 2, 14, 43],\n",
       "        [ 7,  8, 12]]])"
      ]
     },
     "execution_count": 6,
     "metadata": {},
     "output_type": "execute_result"
    }
   ],
   "source": [
    "np.sort(array_3d)"
   ]
  },
  {
   "cell_type": "code",
   "execution_count": 7,
   "id": "0ed3ff5d-772c-4b95-aefa-d2ced248fb17",
   "metadata": {},
   "outputs": [
    {
     "data": {
      "text/plain": [
       "array([[[18, 37, 11],\n",
       "        [ 1,  4,  6],\n",
       "        [ 7,  6,  7]],\n",
       "\n",
       "       [[21, 39, 46],\n",
       "        [ 2, 43, 14],\n",
       "        [23, 12,  8]]])"
      ]
     },
     "execution_count": 7,
     "metadata": {},
     "output_type": "execute_result"
    }
   ],
   "source": [
    "np.sort(array_3d, axis=0)"
   ]
  },
  {
   "cell_type": "code",
   "execution_count": 9,
   "id": "11929f3d-d4dd-4f52-97d7-bc56789d1373",
   "metadata": {},
   "outputs": [
    {
     "data": {
      "text/plain": [
       "array([[[18, 39, 46],\n",
       "        [ 1,  4,  6],\n",
       "        [23,  6,  7]],\n",
       "\n",
       "       [[21, 37, 11],\n",
       "        [ 2, 43, 14],\n",
       "        [ 7, 12,  8]]])"
      ]
     },
     "execution_count": 9,
     "metadata": {},
     "output_type": "execute_result"
    }
   ],
   "source": [
    "array_3d"
   ]
  },
  {
   "cell_type": "code",
   "execution_count": 10,
   "id": "c20707d5-739e-4e40-a719-c50bb5bd6a65",
   "metadata": {},
   "outputs": [
    {
     "data": {
      "text/plain": [
       "array([[[18, 37, 11],\n",
       "        [ 1,  4,  6],\n",
       "        [ 7,  6,  7]],\n",
       "\n",
       "       [[21, 39, 46],\n",
       "        [ 2, 43, 14],\n",
       "        [23, 12,  8]]])"
      ]
     },
     "execution_count": 10,
     "metadata": {},
     "output_type": "execute_result"
    }
   ],
   "source": [
    "np.sort(array_3d, axis=0)"
   ]
  },
  {
   "cell_type": "code",
   "execution_count": 11,
   "id": "a3fbc2b3-5aae-4150-91dd-dd711d42b704",
   "metadata": {},
   "outputs": [
    {
     "data": {
      "text/plain": [
       "array([[[ 1,  4,  6],\n",
       "        [18,  6,  7],\n",
       "        [23, 39, 46]],\n",
       "\n",
       "       [[ 2, 12,  8],\n",
       "        [ 7, 37, 11],\n",
       "        [21, 43, 14]]])"
      ]
     },
     "execution_count": 11,
     "metadata": {},
     "output_type": "execute_result"
    }
   ],
   "source": [
    "np.sort(array_3d, axis=1)"
   ]
  },
  {
   "cell_type": "code",
   "execution_count": 13,
   "id": "b483c041-7544-440c-957d-46ca502c3c3e",
   "metadata": {},
   "outputs": [
    {
     "data": {
      "text/plain": [
       "array([1, 2, 3, 4, 5])"
      ]
     },
     "execution_count": 13,
     "metadata": {},
     "output_type": "execute_result"
    }
   ],
   "source": [
    "#one_to_five = np.arange(1, 6)\n",
    "# one_to_five"
   ]
  },
  {
   "cell_type": "code",
   "execution_count": 16,
   "id": "af0a81d0-d0ca-4f46-a33f-62f239e735ad",
   "metadata": {},
   "outputs": [
    {
     "data": {
      "text/plain": [
       "array([False,  True, False,  True, False])"
      ]
     },
     "execution_count": 16,
     "metadata": {},
     "output_type": "execute_result"
    }
   ],
   "source": [
    "#mask = one_to_five % 2 == 0\n",
    "#mask"
   ]
  },
  {
   "cell_type": "code",
   "execution_count": 17,
   "id": "8a45db3d-3831-4eb6-8e81-ee8a97ce3abe",
   "metadata": {},
   "outputs": [
    {
     "data": {
      "text/plain": [
       "array([2, 4])"
      ]
     },
     "execution_count": 17,
     "metadata": {},
     "output_type": "execute_result"
    }
   ],
   "source": [
    "one_to_five = np.arange(1, 6)\n",
    "mask = one_to_five % 2 == 0\n",
    "one_to_five[mask]"
   ]
  },
  {
   "cell_type": "code",
   "execution_count": 18,
   "id": "25a8b8c8-a88c-405c-a65f-09852be62ec3",
   "metadata": {},
   "outputs": [
    {
     "data": {
      "text/plain": [
       "array([[ 1, 22],\n",
       "       [ 2, 21],\n",
       "       [ 3, 27],\n",
       "       [ 4, 26]])"
      ]
     },
     "execution_count": 18,
     "metadata": {},
     "output_type": "execute_result"
    }
   ],
   "source": [
    "clase_id_edad = np.array([[1, 22], [2, 21], [3, 27], [4, 26]])\n",
    "clase_id_edad"
   ]
  },
  {
   "cell_type": "code",
   "execution_count": 19,
   "id": "a88ee7c6-2bf6-48b7-8784-dffcef4d40ed",
   "metadata": {},
   "outputs": [
    {
     "data": {
      "text/plain": [
       "array([ True, False, False,  True])"
      ]
     },
     "execution_count": 19,
     "metadata": {},
     "output_type": "execute_result"
    }
   ],
   "source": [
    "clase_id_edad[:, 1] % 2 == 0"
   ]
  },
  {
   "cell_type": "code",
   "execution_count": 20,
   "id": "60274e3e-900f-4e7f-ae4b-31352fc15ca4",
   "metadata": {},
   "outputs": [
    {
     "data": {
      "text/plain": [
       "array([1, 4])"
      ]
     },
     "execution_count": 20,
     "metadata": {},
     "output_type": "execute_result"
    }
   ],
   "source": [
    "clase_id_edad[:, 0][clase_id_edad[:, 1] % 2 == 0]"
   ]
  },
  {
   "cell_type": "code",
   "execution_count": 21,
   "id": "eda896e9-4846-43b9-806f-65e6bb11474f",
   "metadata": {},
   "outputs": [
    {
     "data": {
      "text/plain": [
       "array([[ 1, 22],\n",
       "       [ 2, 21],\n",
       "       [ 3, 27],\n",
       "       [ 4, 26]])"
      ]
     },
     "execution_count": 21,
     "metadata": {},
     "output_type": "execute_result"
    }
   ],
   "source": [
    "clase_id_edad"
   ]
  },
  {
   "cell_type": "code",
   "execution_count": 22,
   "id": "843ae724-5cf0-4313-9f42-e6694379e9bf",
   "metadata": {},
   "outputs": [
    {
     "data": {
      "text/plain": [
       "(array([0, 3], dtype=int64),)"
      ]
     },
     "execution_count": 22,
     "metadata": {},
     "output_type": "execute_result"
    }
   ],
   "source": [
    "np.where(clase_id_edad[:, 1] % 2 == 0)"
   ]
  },
  {
   "cell_type": "code",
   "execution_count": 23,
   "id": "b823f23c-5a04-4b35-8af7-67a47dad6407",
   "metadata": {},
   "outputs": [
    {
     "data": {
      "text/plain": [
       "(array([1, 3], dtype=int64),)"
      ]
     },
     "execution_count": 23,
     "metadata": {},
     "output_type": "execute_result"
    }
   ],
   "source": [
    "np.where(clase_id_edad[:, 0] % 2 == 0)"
   ]
  },
  {
   "cell_type": "code",
   "execution_count": null,
   "id": "68c190b9-ddf2-4fb5-ac8e-88f852877c46",
   "metadata": {},
   "outputs": [],
   "source": [
    "array([[0, 0, 4, 3, 0, 0, 2, 0, 9],\n",
    "[0, 0, 5, 0, 0, 9, 0, 0, 1],\n",
    "[0, 7, 0, 0, 6, 0, 0, 4, 3],\n",
    "[0, 0, 6, 0, 0, 2, 0, 8, 7],\n",
    "[1, 9, 0, 0, 0, 7, 4, 0, 0],\n",
    "[0, 5, 0, 0, 8, 3, 0, 0, 0],\n",
    "[6, 0, 0, 0, 0, 0, 1, 0, 5],\n",
    "[0, 0, 3, 5, 0, 8, 6, 9, 0],\n",
    "[0, 4, 2, 9, 1, 0, 3, 0, 0]])"
   ]
  },
  {
   "cell_type": "code",
   "execution_count": 27,
   "id": "90a7cf6f-49c1-443c-ba82-fb7ef498357b",
   "metadata": {},
   "outputs": [
    {
     "name": "stdout",
     "output_type": "stream",
     "text": [
      "[[ 0  0  0  0  0  0  0  0  0]\n",
      " [ 0  0 10  0  0 10  0  0 10]\n",
      " [20  0  0  0 20  0  0  0 20]\n",
      " [30  0  0  0  0 30  0 30  0]\n",
      " [40  0  0  0 40  0 40  0 40]\n",
      " [ 0 50  0  0 50  0  0 50  0]\n",
      " [60  0  0  0  0  0 60  0 60]\n",
      " [70  0 70  0  0  0 70  0 70]\n",
      " [ 0 80  0 80 80  0  0 80  0]]\n"
     ]
    }
   ],
   "source": [
    "# Create a 9x9 array of zeros\n",
    "#sudoku = np.zeros((9, 9), dtype=int)  # Specify integer dtype\n",
    "\n",
    "# Define the positions where non-zero values should be placed\n",
    "positions = [(0, 2), (0, 3), (1, 2), (1, 5), (1, 8), (2, 0), (2, 4), (2, 8), (3, 0), (3, 5), (3, 7), (4, 0), (4, 4), (4, 6), (4, 8), (5, 1), (5, 4), (5, 7), (6, 0), (6, 6), (6, 8), (7, 0), (7, 2), (7, 6), (7, 8), (8, 1), (8, 3), (8, 4), (8, 7)]\n",
    "\n",
    "# Assign non-zero values to the specified positions\n",
    "for row, col in positions:\n",
    "    sudoku[row, col] = row * 10\n",
    "\n",
    "# Print the array\n",
    "print(sudoku)\n"
   ]
  },
  {
   "cell_type": "code",
   "execution_count": 28,
   "id": "82a7e79d-d65c-4883-b7b8-4593c41c3ebc",
   "metadata": {},
   "outputs": [
    {
     "data": {
      "text/plain": [
       "array([[ 0,  0,  0,  0,  0,  0,  0,  0,  0],\n",
       "       [ 0,  0, 10,  0,  0, 10,  0,  0, 10],\n",
       "       [20,  0,  0,  0, 20,  0,  0,  0, 20],\n",
       "       [30,  0,  0,  0,  0, 30,  0, 30,  0],\n",
       "       [40,  0,  0,  0, 40,  0, 40,  0, 40],\n",
       "       [ 0, 50,  0,  0, 50,  0,  0, 50,  0],\n",
       "       [60,  0,  0,  0,  0,  0, 60,  0, 60],\n",
       "       [70,  0, 70,  0,  0,  0, 70,  0, 70],\n",
       "       [ 0, 80,  0, 80, 80,  0,  0, 80,  0]])"
      ]
     },
     "execution_count": 28,
     "metadata": {},
     "output_type": "execute_result"
    }
   ],
   "source": [
    "#sudoku"
   ]
  },
  {
   "cell_type": "code",
   "execution_count": 30,
   "id": "b42f27e2-f839-4d9a-9309-92f9c726b751",
   "metadata": {},
   "outputs": [
    {
     "data": {
      "text/plain": [
       "(array([0, 0, 0, 0, 0, 0, 0, 0, 0, 1, 1, 1, 1, 1, 1, 2, 2, 2, 2, 2, 2, 3,\n",
       "        3, 3, 3, 3, 3, 4, 4, 4, 4, 4, 5, 5, 5, 5, 5, 5, 6, 6, 6, 6, 6, 6,\n",
       "        7, 7, 7, 7, 7, 8, 8, 8, 8, 8], dtype=int64),\n",
       " array([0, 1, 2, 3, 4, 5, 6, 7, 8, 0, 1, 3, 4, 6, 7, 1, 2, 3, 5, 6, 7, 1,\n",
       "        2, 3, 4, 6, 8, 1, 2, 3, 5, 7, 0, 2, 3, 5, 6, 8, 1, 2, 3, 4, 5, 7,\n",
       "        1, 3, 4, 5, 7, 0, 2, 5, 6, 8], dtype=int64))"
      ]
     },
     "execution_count": 30,
     "metadata": {},
     "output_type": "execute_result"
    }
   ],
   "source": [
    "#row_ind, column_ind = np.where(sudoku == 0)\n",
    "#row_ind, column_ind"
   ]
  },
  {
   "cell_type": "code",
   "execution_count": 31,
   "id": "20d325c3-fe62-470b-b1d9-fdcf67969e8d",
   "metadata": {},
   "outputs": [
    {
     "data": {
      "text/plain": [
       "array([[0, 0, 4, 3, 0, 0, 2, 0, 9],\n",
       "       [0, 0, 5, 0, 0, 9, 0, 0, 1],\n",
       "       [0, 7, 0, 0, 6, 0, 0, 4, 3],\n",
       "       [0, 0, 6, 0, 0, 2, 0, 8, 7],\n",
       "       [1, 9, 0, 0, 0, 7, 4, 0, 0],\n",
       "       [0, 5, 0, 0, 8, 3, 0, 0, 0],\n",
       "       [6, 0, 0, 0, 0, 0, 1, 0, 5],\n",
       "       [0, 0, 3, 5, 0, 8, 6, 9, 0],\n",
       "       [0, 4, 2, 9, 1, 0, 3, 0, 0]])"
      ]
     },
     "execution_count": 31,
     "metadata": {},
     "output_type": "execute_result"
    }
   ],
   "source": [
    "sudoku= np.array([[0, 0, 4, 3, 0, 0, 2, 0, 9],\n",
    "[0, 0, 5, 0, 0, 9, 0, 0, 1],\n",
    "[0, 7, 0, 0, 6, 0, 0, 4, 3],\n",
    "[0, 0, 6, 0, 0, 2, 0, 8, 7],\n",
    "[1, 9, 0, 0, 0, 7, 4, 0, 0],\n",
    "[0, 5, 0, 0, 8, 3, 0, 0, 0],\n",
    "[6, 0, 0, 0, 0, 0, 1, 0, 5],\n",
    "[0, 0, 3, 5, 0, 8, 6, 9, 0],\n",
    "[0, 4, 2, 9, 1, 0, 3, 0, 0]])\n",
    "sudoku"
   ]
  },
  {
   "cell_type": "code",
   "execution_count": 32,
   "id": "44a7f50e-03a1-43a3-96bd-532423f6687f",
   "metadata": {},
   "outputs": [
    {
     "data": {
      "text/plain": [
       "array([[0, 0, 4, 3, 0, 0, 2, 0, 9],\n",
       "       [0, 0, 5, 0, 0, 9, 0, 0, 1],\n",
       "       [0, 7, 0, 0, 6, 0, 0, 4, 3],\n",
       "       [0, 0, 6, 0, 0, 2, 0, 8, 7],\n",
       "       [1, 9, 0, 0, 0, 7, 4, 0, 0],\n",
       "       [0, 5, 0, 0, 8, 3, 0, 0, 0],\n",
       "       [6, 0, 0, 0, 0, 0, 1, 0, 5],\n",
       "       [0, 0, 3, 5, 0, 8, 6, 9, 0],\n",
       "       [0, 4, 2, 9, 1, 0, 3, 0, 0]])"
      ]
     },
     "execution_count": 32,
     "metadata": {},
     "output_type": "execute_result"
    }
   ],
   "source": [
    "sudoku"
   ]
  },
  {
   "cell_type": "code",
   "execution_count": 34,
   "id": "c8797041-c123-4803-8cc1-d1ea12d64fd7",
   "metadata": {},
   "outputs": [
    {
     "data": {
      "text/plain": [
       "(array([0, 0, 0, 0, 0, 1, 1, 1, 1, 1, 1, 2, 2, 2, 2, 2, 3, 3, 3, 3, 3, 4,\n",
       "        4, 4, 4, 4, 5, 5, 5, 5, 5, 5, 6, 6, 6, 6, 6, 6, 7, 7, 7, 7, 8, 8,\n",
       "        8, 8], dtype=int64),\n",
       " array([0, 1, 4, 5, 7, 0, 1, 3, 4, 6, 7, 0, 2, 3, 5, 6, 0, 1, 3, 4, 6, 2,\n",
       "        3, 4, 7, 8, 0, 2, 3, 6, 7, 8, 1, 2, 3, 4, 5, 7, 0, 1, 4, 8, 0, 5,\n",
       "        7, 8], dtype=int64))"
      ]
     },
     "execution_count": 34,
     "metadata": {},
     "output_type": "execute_result"
    }
   ],
   "source": [
    "row_ind, column_ind = np.where(sudoku == 0)\n",
    "row_ind, column_ind"
   ]
  },
  {
   "cell_type": "code",
   "execution_count": 35,
   "id": "5a01e4f5-05e9-4faf-8c2e-d72d2f614648",
   "metadata": {},
   "outputs": [
    {
     "data": {
      "text/plain": [
       "array([[0, 0, 4, 3, 0, 0, 2, 0, 9],\n",
       "       [0, 0, 5, 0, 0, 9, 0, 0, 1],\n",
       "       [0, 7, 0, 0, 6, 0, 0, 4, 3],\n",
       "       [0, 0, 6, 0, 0, 2, 0, 8, 7],\n",
       "       [1, 9, 0, 0, 0, 7, 4, 0, 0],\n",
       "       [0, 5, 0, 0, 8, 3, 0, 0, 0],\n",
       "       [6, 0, 0, 0, 0, 0, 1, 0, 5],\n",
       "       [0, 0, 3, 5, 0, 8, 6, 9, 0],\n",
       "       [0, 4, 2, 9, 1, 0, 3, 0, 0]])"
      ]
     },
     "execution_count": 35,
     "metadata": {},
     "output_type": "execute_result"
    }
   ],
   "source": [
    "array_2 = np.array([[0, 0, 4, 3, 0, 0, 2, 0, 9],\n",
    "[0, 0, 5, 0, 0, 9, 0, 0, 1],\n",
    "[0, 7, 0, 0, 6, 0, 0, 4, 3],\n",
    "[0, 0, 6, 0, 0, 2, 0, 8, 7],\n",
    "[1, 9, 0, 0, 0, 7, 4, 0, 0],\n",
    "[0, 5, 0, 0, 8, 3, 0, 0, 0],\n",
    "[6, 0, 0, 0, 0, 0, 1, 0, 5],\n",
    "[0, 0, 3, 5, 0, 8, 6, 9, 0],\n",
    "[0, 4, 2, 9, 1, 0, 3, 0, 0]])\n",
    "array_2"
   ]
  },
  {
   "cell_type": "code",
   "execution_count": 36,
   "id": "ecd91d70-6887-4862-8779-f6d6e9c77bb1",
   "metadata": {},
   "outputs": [
    {
     "data": {
      "text/plain": [
       "(array([0, 0, 0, 0, 0, 1, 1, 1, 1, 1, 1, 2, 2, 2, 2, 2, 3, 3, 3, 3, 3, 4,\n",
       "        4, 4, 4, 4, 5, 5, 5, 5, 5, 5, 6, 6, 6, 6, 6, 6, 7, 7, 7, 7, 8, 8,\n",
       "        8, 8], dtype=int64),\n",
       " array([0, 1, 4, 5, 7, 0, 1, 3, 4, 6, 7, 0, 2, 3, 5, 6, 0, 1, 3, 4, 6, 2,\n",
       "        3, 4, 7, 8, 0, 2, 3, 6, 7, 8, 1, 2, 3, 4, 5, 7, 0, 1, 4, 8, 0, 5,\n",
       "        7, 8], dtype=int64))"
      ]
     },
     "execution_count": 36,
     "metadata": {},
     "output_type": "execute_result"
    }
   ],
   "source": [
    "row_ind, column_ind = np.where(array_2 == 0)\n",
    "row_ind, column_ind"
   ]
  },
  {
   "cell_type": "code",
   "execution_count": 37,
   "id": "2e23d2c6-f5ee-4f3e-8ca4-f4632bf94804",
   "metadata": {},
   "outputs": [
    {
     "data": {
      "text/plain": [
       "array([0, 0, 0, 0, 0, 1, 1, 1, 1, 1, 1, 2, 2, 2, 2, 2, 3, 3, 3, 3, 3, 4,\n",
       "       4, 4, 4, 4, 5, 5, 5, 5, 5, 5, 6, 6, 6, 6, 6, 6, 7, 7, 7, 7, 8, 8,\n",
       "       8, 8], dtype=int64)"
      ]
     },
     "execution_count": 37,
     "metadata": {},
     "output_type": "execute_result"
    }
   ],
   "source": [
    "row_ind"
   ]
  },
  {
   "cell_type": "code",
   "execution_count": 38,
   "id": "ffea0944-04c3-42e0-9672-e67907bcd6cd",
   "metadata": {},
   "outputs": [
    {
     "data": {
      "text/plain": [
       "array([0, 1, 4, 5, 7, 0, 1, 3, 4, 6, 7, 0, 2, 3, 5, 6, 0, 1, 3, 4, 6, 2,\n",
       "       3, 4, 7, 8, 0, 2, 3, 6, 7, 8, 1, 2, 3, 4, 5, 7, 0, 1, 4, 8, 0, 5,\n",
       "       7, 8], dtype=int64)"
      ]
     },
     "execution_count": 38,
     "metadata": {},
     "output_type": "execute_result"
    }
   ],
   "source": [
    "column_ind"
   ]
  },
  {
   "cell_type": "code",
   "execution_count": 39,
   "id": "a58a6553-7e1b-4d42-a73c-b9f47283c354",
   "metadata": {},
   "outputs": [
    {
     "data": {
      "text/plain": [
       "array([['', '', '4', '3', '', '', '2', '', '9'],\n",
       "       ['', '', '5', '', '', '9', '', '', '1'],\n",
       "       ['', '7', '', '', '6', '', '', '4', '3'],\n",
       "       ['', '', '6', '', '', '2', '', '8', '7'],\n",
       "       ['1', '9', '', '', '', '7', '4', '', ''],\n",
       "       ['', '5', '', '', '8', '3', '', '', ''],\n",
       "       ['6', '', '', '', '', '', '1', '', '5'],\n",
       "       ['', '', '3', '5', '', '8', '6', '9', ''],\n",
       "       ['', '4', '2', '9', '1', '', '3', '', '']], dtype='<U11')"
      ]
     },
     "execution_count": 39,
     "metadata": {},
     "output_type": "execute_result"
    }
   ],
   "source": [
    "np.where(array_2 == 0, \"\", array_2)"
   ]
  },
  {
   "cell_type": "code",
   "execution_count": 40,
   "id": "89deae5f-482a-44c1-9a93-a3c3326b075d",
   "metadata": {},
   "outputs": [
    {
     "data": {
      "text/plain": [
       "array([[0, 0, 4, 3, 0, 0, 2, 0, 9],\n",
       "       [0, 0, 5, 0, 0, 9, 0, 0, 1],\n",
       "       [0, 7, 0, 0, 6, 0, 0, 4, 3],\n",
       "       [0, 0, 6, 0, 0, 2, 0, 8, 7],\n",
       "       [1, 9, 0, 0, 0, 7, 4, 0, 0],\n",
       "       [0, 5, 0, 0, 8, 3, 0, 0, 0],\n",
       "       [6, 0, 0, 0, 0, 0, 1, 0, 5],\n",
       "       [0, 0, 3, 5, 0, 8, 6, 9, 0],\n",
       "       [0, 4, 2, 9, 1, 0, 3, 0, 0]])"
      ]
     },
     "execution_count": 40,
     "metadata": {},
     "output_type": "execute_result"
    }
   ],
   "source": [
    "array_2"
   ]
  },
  {
   "cell_type": "code",
   "execution_count": 41,
   "id": "cc1e34ed-1fdb-42bb-bec2-144b71c21aad",
   "metadata": {},
   "outputs": [
    {
     "ename": "NameError",
     "evalue": "name 'array_3' is not defined",
     "output_type": "error",
     "traceback": [
      "\u001b[1;31m---------------------------------------------------------------------------\u001b[0m",
      "\u001b[1;31mNameError\u001b[0m                                 Traceback (most recent call last)",
      "Cell \u001b[1;32mIn[41], line 1\u001b[0m\n\u001b[1;32m----> 1\u001b[0m np\u001b[38;5;241m.\u001b[39mwhere(array_2 \u001b[38;5;241m==\u001b[39m \u001b[38;5;241m0\u001b[39m, \u001b[38;5;124m\"\u001b[39m\u001b[38;5;124m\"\u001b[39m, \u001b[43marray_3\u001b[49m)\n",
      "\u001b[1;31mNameError\u001b[0m: name 'array_3' is not defined"
     ]
    }
   ],
   "source": []
  },
  {
   "cell_type": "code",
   "execution_count": 42,
   "id": "cc140c8d-b5ca-404b-ace5-30c544673d7c",
   "metadata": {},
   "outputs": [
    {
     "data": {
      "text/plain": [
       "array([[ 1, 22],\n",
       "       [ 2, 21],\n",
       "       [ 3, 27],\n",
       "       [ 4, 26],\n",
       "       [ 5, 30],\n",
       "       [ 5, 17]])"
      ]
     },
     "execution_count": 42,
     "metadata": {},
     "output_type": "execute_result"
    }
   ],
   "source": [
    "classroom_ids_and_sizes = np.array([[1, 22], [2, 21], [3, 27], [4, 26]])\n",
    "new_classrooms = np.array([[5, 30], [5, 17]])\n",
    "np.concatenate((classroom_ids_and_sizes, new_classrooms))"
   ]
  },
  {
   "cell_type": "code",
   "execution_count": 43,
   "id": "f152b089-f800-4fbe-88b2-0a9366c1def3",
   "metadata": {},
   "outputs": [
    {
     "data": {
      "text/plain": [
       "array([['1', '22', '1', 'James'],\n",
       "       ['2', '21', '1', 'George'],\n",
       "       ['3', '27', '3', 'Amy'],\n",
       "       ['4', '26', '3', 'Meehir']], dtype='<U11')"
      ]
     },
     "execution_count": 43,
     "metadata": {},
     "output_type": "execute_result"
    }
   ],
   "source": [
    "classroom_ids_and_sizes = np.array([[1, 22], [2, 21], [3, 27], [4, 26]])\n",
    "grade_levels_and_teachers = np.array([[1, \"James\"], [1, \"George\"], [3,\"Amy\"],\n",
    "[3, \"Meehir\"]])\n",
    "np.concatenate((classroom_ids_and_sizes, grade_levels_and_teachers), axis=1)"
   ]
  },
  {
   "cell_type": "code",
   "execution_count": 44,
   "id": "f7698d21-0888-44b5-a205-2c0bf08917f7",
   "metadata": {},
   "outputs": [],
   "source": [
    "data_clases = np.concatenate((classroom_ids_and_sizes, grade_levels_and_teachers), axis=1)"
   ]
  },
  {
   "cell_type": "code",
   "execution_count": 45,
   "id": "5dbdef28-bb08-4a01-a321-f6bc6bd2eb43",
   "metadata": {},
   "outputs": [
    {
     "data": {
      "text/plain": [
       "array([['1', '22', '1', 'James'],\n",
       "       ['2', '21', '1', 'George'],\n",
       "       ['3', '27', '3', 'Amy'],\n",
       "       ['4', '26', '3', 'Meehir']], dtype='<U11')"
      ]
     },
     "execution_count": 45,
     "metadata": {},
     "output_type": "execute_result"
    }
   ],
   "source": [
    "data_clases"
   ]
  },
  {
   "cell_type": "code",
   "execution_count": 46,
   "id": "e88934f2-c3d9-4ff6-bf55-bf9ccbac2330",
   "metadata": {},
   "outputs": [
    {
     "data": {
      "text/plain": [
       "array([['1', '22', '1', 'James'],\n",
       "       ['3', '27', '3', 'Amy'],\n",
       "       ['4', '26', '3', 'Meehir']], dtype='<U11')"
      ]
     },
     "execution_count": 46,
     "metadata": {},
     "output_type": "execute_result"
    }
   ],
   "source": [
    "np.delete(data_clases, 1, axis=0)"
   ]
  },
  {
   "cell_type": "code",
   "execution_count": 47,
   "id": "eb0910c7-fa65-4953-91ec-e14b6f4a672a",
   "metadata": {},
   "outputs": [
    {
     "data": {
      "text/plain": [
       "array([['1', '22', '1', 'James'],\n",
       "       ['2', '21', '1', 'George'],\n",
       "       ['3', '27', '3', 'Amy'],\n",
       "       ['4', '26', '3', 'Meehir']], dtype='<U11')"
      ]
     },
     "execution_count": 47,
     "metadata": {},
     "output_type": "execute_result"
    }
   ],
   "source": [
    "data_clases"
   ]
  },
  {
   "cell_type": "code",
   "execution_count": 48,
   "id": "e9b382ba-2a7f-4389-81eb-cbe5be6427be",
   "metadata": {},
   "outputs": [
    {
     "data": {
      "text/plain": [
       "array([['1', '1', 'James'],\n",
       "       ['2', '1', 'George'],\n",
       "       ['3', '3', 'Amy'],\n",
       "       ['4', '3', 'Meehir']], dtype='<U11')"
      ]
     },
     "execution_count": 48,
     "metadata": {},
     "output_type": "execute_result"
    }
   ],
   "source": [
    "np.delete(data_clases, 1, axis=1)"
   ]
  },
  {
   "cell_type": "code",
   "execution_count": 49,
   "id": "ab35d8e7-8ebc-4b37-b9b1-caf60d9e7f69",
   "metadata": {},
   "outputs": [
    {
     "data": {
      "text/plain": [
       "array(['1', '1', 'James', '2', '21', '1', 'George', '3', '27', '3', 'Amy',\n",
       "       '4', '26', '3', 'Meehir'], dtype='<U11')"
      ]
     },
     "execution_count": 49,
     "metadata": {},
     "output_type": "execute_result"
    }
   ],
   "source": [
    "np.delete(data_clases, 1)"
   ]
  },
  {
   "cell_type": "code",
   "execution_count": 50,
   "id": "dd49ffe7-f028-4ff3-ae4e-680b2267eb60",
   "metadata": {},
   "outputs": [
    {
     "name": "stdout",
     "output_type": "stream",
     "text": [
      "Collecting astropy\n",
      "  Downloading astropy-6.1.1-cp311-cp311-win_amd64.whl.metadata (10 kB)\n",
      "Requirement already satisfied: numpy>=1.23 in c:\\users\\juanj\\anaconda3\\envs\\curso_python_2024\\lib\\site-packages (from astropy) (1.26.4)\n",
      "Collecting pyerfa>=2.0.1.1 (from astropy)\n",
      "  Downloading pyerfa-2.0.1.4-cp39-abi3-win_amd64.whl.metadata (5.9 kB)\n",
      "Collecting astropy-iers-data>=0.2024.5.27.0.30.8 (from astropy)\n",
      "  Downloading astropy_iers_data-0.2024.6.17.0.31.35-py3-none-any.whl.metadata (5.1 kB)\n",
      "Requirement already satisfied: PyYAML>=3.13 in c:\\users\\juanj\\anaconda3\\envs\\curso_python_2024\\lib\\site-packages (from astropy) (6.0.1)\n",
      "Requirement already satisfied: packaging>=19.0 in c:\\users\\juanj\\anaconda3\\envs\\curso_python_2024\\lib\\site-packages (from astropy) (23.2)\n",
      "Downloading astropy-6.1.1-cp311-cp311-win_amd64.whl (6.4 MB)\n",
      "   ---------------------------------------- 0.0/6.4 MB ? eta -:--:--\n",
      "   ---------------------------------------- 0.0/6.4 MB 660.6 kB/s eta 0:00:10\n",
      "   -- ------------------------------------- 0.4/6.4 MB 5.8 MB/s eta 0:00:02\n",
      "   ---------- ----------------------------- 1.6/6.4 MB 13.0 MB/s eta 0:00:01\n",
      "   ------------- -------------------------- 2.1/6.4 MB 14.8 MB/s eta 0:00:01\n",
      "   ----------------- ---------------------- 2.8/6.4 MB 13.7 MB/s eta 0:00:01\n",
      "   ----------------------- ---------------- 3.7/6.4 MB 14.1 MB/s eta 0:00:01\n",
      "   -------------------------- ------------- 4.2/6.4 MB 15.8 MB/s eta 0:00:01\n",
      "   -------------------------------- ------- 5.2/6.4 MB 15.0 MB/s eta 0:00:01\n",
      "   ---------------------------------------  6.4/6.4 MB 16.3 MB/s eta 0:00:01\n",
      "   ---------------------------------------- 6.4/6.4 MB 15.7 MB/s eta 0:00:00\n",
      "Downloading astropy_iers_data-0.2024.6.17.0.31.35-py3-none-any.whl (1.9 MB)\n",
      "   ---------------------------------------- 0.0/1.9 MB ? eta -:--:--\n",
      "   ------------------------- -------------- 1.2/1.9 MB 25.9 MB/s eta 0:00:01\n",
      "   ---------------------------------------- 1.9/1.9 MB 24.5 MB/s eta 0:00:00\n",
      "Downloading pyerfa-2.0.1.4-cp39-abi3-win_amd64.whl (347 kB)\n",
      "   ---------------------------------------- 0.0/347.1 kB ? eta -:--:--\n",
      "   --------------------------------------- 347.1/347.1 kB 21.1 MB/s eta 0:00:00\n",
      "Installing collected packages: pyerfa, astropy-iers-data, astropy\n",
      "Successfully installed astropy-6.1.1 astropy-iers-data-0.2024.6.17.0.31.35 pyerfa-2.0.1.4\n"
     ]
    }
   ],
   "source": [
    "!pip install astropy"
   ]
  },
  {
   "cell_type": "code",
   "execution_count": 51,
   "id": "1b7d8b9d-6e7d-4664-be5d-e3f97b0d74a3",
   "metadata": {},
   "outputs": [],
   "source": [
    "from astropy.time import Time"
   ]
  },
  {
   "cell_type": "code",
   "execution_count": 53,
   "id": "8f061556-e9d2-4428-aaf0-570a5a318597",
   "metadata": {},
   "outputs": [
    {
     "data": {
      "text/plain": [
       "61.00000000001593"
      ]
     },
     "execution_count": 53,
     "metadata": {},
     "output_type": "execute_result"
    }
   ],
   "source": [
    "(Time('2017-01-01') - Time('2016-12-31 23:59')).sec"
   ]
  },
  {
   "cell_type": "code",
   "execution_count": null,
   "id": "1f8ef130-c62c-4103-9a84-9a7e61013bb6",
   "metadata": {},
   "outputs": [],
   "source": []
  }
 ],
 "metadata": {
  "kernelspec": {
   "display_name": "Python 3 (ipykernel)",
   "language": "python",
   "name": "python3"
  },
  "language_info": {
   "codemirror_mode": {
    "name": "ipython",
    "version": 3
   },
   "file_extension": ".py",
   "mimetype": "text/x-python",
   "name": "python",
   "nbconvert_exporter": "python",
   "pygments_lexer": "ipython3",
   "version": "3.11.9"
  }
 },
 "nbformat": 4,
 "nbformat_minor": 5
}
