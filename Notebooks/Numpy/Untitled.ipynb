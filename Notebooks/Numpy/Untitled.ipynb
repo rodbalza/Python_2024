{
 "cells": [
  {
   "cell_type": "markdown",
   "id": "b576ac30-740c-4cd4-852c-0bd132845edb",
   "metadata": {},
   "source": [
    "Slicing un array 3d.  \n",
    "\n",
    "**Basado en el siguiente array:**"
   ]
  },
  {
   "cell_type": "code",
   "execution_count": 3,
   "id": "100b6360-b0cf-4bd1-892b-05345d1ba4c7",
   "metadata": {},
   "outputs": [
    {
     "data": {
      "text/plain": [
       "array([[[ 1,  2,  3,  4,  5,  6],\n",
       "        [ 7,  8,  9, 10, 11, 12],\n",
       "        [ 3,  8,  9, 11, 19, 17],\n",
       "        [ 7, 12, 13, 15, 24, 21]],\n",
       "\n",
       "       [[13, 14, 15, 16, 17, 18],\n",
       "        [19, 20, 21, 22, 23, 24],\n",
       "        [ 4,  9, 10, 12, 21, 18],\n",
       "        [ 8, 13, 14, 16, 25, 22]],\n",
       "\n",
       "       [[25, 26, 27, 28, 29, 30],\n",
       "        [31, 32, 33, 34, 35, 36],\n",
       "        [ 5, 10, 11, 13, 22, 19],\n",
       "        [ 9, 14, 15, 17, 26, 23]],\n",
       "\n",
       "       [[37, 38, 39, 40, 41, 42],\n",
       "        [43, 44, 45, 46, 47, 48],\n",
       "        [ 6, 11, 12, 14, 23, 20],\n",
       "        [10, 11, 16, 18, 27, 24]]])"
      ]
     },
     "execution_count": 3,
     "metadata": {},
     "output_type": "execute_result"
    }
   ],
   "source": [
    "import numpy as np\n",
    "array_3d = np.array([\n",
    "    [[1, 2, 3, 4, 5, 6], [7, 8, 9, 10, 11, 12], [3, 8, 9, 11, 19, 17], [7, 12, 13, 15, 24, 21]],\n",
    "    [[13, 14, 15, 16, 17, 18], [19, 20, 21, 22, 23, 24], [4, 9, 10, 12, 21, 18], [8, 13, 14, 16, 25, 22]],\n",
    "    [[25, 26, 27, 28, 29, 30], [31, 32, 33, 34, 35, 36], [5, 10, 11, 13, 22, 19], [9, 14, 15, 17, 26, 23]],\n",
    "    [[37, 38, 39, 40, 41, 42], [43, 44, 45, 46, 47, 48], [6, 11, 12, 14, 23, 20], [10, 11, 16, 18, 27, 24]]\n",
    "])\n",
    "array_3d"
   ]
  },
  {
   "cell_type": "code",
   "execution_count": null,
   "id": "3aef2e67-b816-47bb-a53d-78f45f40bff5",
   "metadata": {},
   "outputs": [],
   "source": []
  }
 ],
 "metadata": {
  "kernelspec": {
   "display_name": "Python 3 (ipykernel)",
   "language": "python",
   "name": "python3"
  },
  "language_info": {
   "codemirror_mode": {
    "name": "ipython",
    "version": 3
   },
   "file_extension": ".py",
   "mimetype": "text/x-python",
   "name": "python",
   "nbconvert_exporter": "python",
   "pygments_lexer": "ipython3",
   "version": "3.11.9"
  }
 },
 "nbformat": 4,
 "nbformat_minor": 5
}
