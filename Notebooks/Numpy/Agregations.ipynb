{
 "cells": [
  {
   "cell_type": "code",
   "execution_count": 1,
   "id": "d92f7b6d-b549-4e13-8944-455e1a86fd2d",
   "metadata": {},
   "outputs": [],
   "source": [
    "import numpy as np"
   ]
  },
  {
   "cell_type": "code",
   "execution_count": 3,
   "id": "a4e41c7f-1f39-411e-9cac-c5f61a03a24a",
   "metadata": {},
   "outputs": [],
   "source": [
    "security_breaches = np.array([[0, 5, 1],\n",
    "[0, 2, 0],\n",
    "[1, 1, 2],\n",
    "[2, 2, 1],\n",
    "[0, 0, 0]])"
   ]
  },
  {
   "cell_type": "code",
   "execution_count": 4,
   "id": "6bb2c6d9-0177-45b0-ab56-d38a203344bd",
   "metadata": {},
   "outputs": [
    {
     "data": {
      "text/plain": [
       "array([[0, 5, 1],\n",
       "       [0, 2, 0],\n",
       "       [1, 1, 2],\n",
       "       [2, 2, 1],\n",
       "       [0, 0, 0]])"
      ]
     },
     "execution_count": 4,
     "metadata": {},
     "output_type": "execute_result"
    }
   ],
   "source": [
    "security_breaches"
   ]
  },
  {
   "cell_type": "code",
   "execution_count": 5,
   "id": "5d04bc69-2bca-4984-b8a5-0514200e9a75",
   "metadata": {},
   "outputs": [
    {
     "data": {
      "text/plain": [
       "17"
      ]
     },
     "execution_count": 5,
     "metadata": {},
     "output_type": "execute_result"
    }
   ],
   "source": [
    "security_breaches.sum()"
   ]
  },
  {
   "cell_type": "code",
   "execution_count": 6,
   "id": "272aec85-7056-4618-9256-6823355b375c",
   "metadata": {},
   "outputs": [
    {
     "data": {
      "text/plain": [
       "array([ 3, 10,  4])"
      ]
     },
     "execution_count": 6,
     "metadata": {},
     "output_type": "execute_result"
    }
   ],
   "source": [
    "security_breaches.sum(axis=0)"
   ]
  },
  {
   "cell_type": "code",
   "execution_count": 7,
   "id": "088e675c-e76f-4ce7-a51d-43d8b5c6839b",
   "metadata": {},
   "outputs": [
    {
     "data": {
      "text/plain": [
       "array([6, 2, 4, 5, 0])"
      ]
     },
     "execution_count": 7,
     "metadata": {},
     "output_type": "execute_result"
    }
   ],
   "source": [
    "security_breaches.sum(axis=1)"
   ]
  },
  {
   "cell_type": "code",
   "execution_count": 8,
   "id": "aef02992-b536-4bb6-9dcc-f34272574260",
   "metadata": {},
   "outputs": [
    {
     "data": {
      "text/plain": [
       "0"
      ]
     },
     "execution_count": 8,
     "metadata": {},
     "output_type": "execute_result"
    }
   ],
   "source": [
    "security_breaches.min()"
   ]
  },
  {
   "cell_type": "code",
   "execution_count": 9,
   "id": "adb3572c-67be-4a87-9fd2-d1763f928ffa",
   "metadata": {},
   "outputs": [
    {
     "data": {
      "text/plain": [
       "5"
      ]
     },
     "execution_count": 9,
     "metadata": {},
     "output_type": "execute_result"
    }
   ],
   "source": [
    "security_breaches.max()"
   ]
  },
  {
   "cell_type": "code",
   "execution_count": 10,
   "id": "e539a97c-de5f-41de-88ce-44e6c65cd2ec",
   "metadata": {},
   "outputs": [
    {
     "data": {
      "text/plain": [
       "array([0, 0, 1, 1, 0])"
      ]
     },
     "execution_count": 10,
     "metadata": {},
     "output_type": "execute_result"
    }
   ],
   "source": [
    "security_breaches.min(axis=1)"
   ]
  },
  {
   "cell_type": "code",
   "execution_count": 21,
   "id": "dd97dc62-8d71-4702-a050-f55c8d4fdabd",
   "metadata": {},
   "outputs": [
    {
     "data": {
      "text/plain": [
       "array([0, 0, 0])"
      ]
     },
     "execution_count": 21,
     "metadata": {},
     "output_type": "execute_result"
    }
   ],
   "source": [
    "security_breaches.min(axis=0)"
   ]
  },
  {
   "cell_type": "code",
   "execution_count": 12,
   "id": "32bd0fbd-739b-4ff1-b21f-f6ba092e109f",
   "metadata": {},
   "outputs": [
    {
     "data": {
      "text/plain": [
       "1.1333333333333333"
      ]
     },
     "execution_count": 12,
     "metadata": {},
     "output_type": "execute_result"
    }
   ],
   "source": [
    "security_breaches.mean()"
   ]
  },
  {
   "cell_type": "code",
   "execution_count": 13,
   "id": "a37a097e-21ee-487b-8934-771b9545aee1",
   "metadata": {},
   "outputs": [
    {
     "data": {
      "text/plain": [
       "array([2.        , 0.66666667, 1.33333333, 1.66666667, 0.        ])"
      ]
     },
     "execution_count": 13,
     "metadata": {},
     "output_type": "execute_result"
    }
   ],
   "source": [
    "security_breaches.mean(axis=1)"
   ]
  },
  {
   "cell_type": "code",
   "execution_count": 14,
   "id": "25be1758-a7fa-4863-bd6f-8a0bd3dcdd83",
   "metadata": {},
   "outputs": [
    {
     "data": {
      "text/plain": [
       "array([0.6, 2. , 0.8])"
      ]
     },
     "execution_count": 14,
     "metadata": {},
     "output_type": "execute_result"
    }
   ],
   "source": [
    "security_breaches.mean(axis=0)"
   ]
  },
  {
   "cell_type": "code",
   "execution_count": 15,
   "id": "e9315c02-e9d4-4075-96f6-96de5bda934a",
   "metadata": {},
   "outputs": [
    {
     "data": {
      "text/plain": [
       "array([6, 2, 4, 5, 0])"
      ]
     },
     "execution_count": 15,
     "metadata": {},
     "output_type": "execute_result"
    }
   ],
   "source": [
    "security_breaches.sum(axis=1)"
   ]
  },
  {
   "cell_type": "code",
   "execution_count": 16,
   "id": "57f2fc26-9d28-4f6b-8af7-b4a2c598006e",
   "metadata": {},
   "outputs": [
    {
     "data": {
      "text/plain": [
       "array([[6],\n",
       "       [2],\n",
       "       [4],\n",
       "       [5],\n",
       "       [0]])"
      ]
     },
     "execution_count": 16,
     "metadata": {},
     "output_type": "execute_result"
    }
   ],
   "source": [
    "security_breaches.sum(axis=1, keepdims=True)"
   ]
  },
  {
   "cell_type": "code",
   "execution_count": 18,
   "id": "755ab5e0-8c1e-4129-a2b4-1418181f76d7",
   "metadata": {},
   "outputs": [
    {
     "data": {
      "text/plain": [
       "array([ 3, 10,  4])"
      ]
     },
     "execution_count": 18,
     "metadata": {},
     "output_type": "execute_result"
    }
   ],
   "source": [
    "security_breaches.sum(axis=0)"
   ]
  },
  {
   "cell_type": "code",
   "execution_count": 19,
   "id": "dfb14779-3f1c-4a5c-b7f1-da674b524a29",
   "metadata": {},
   "outputs": [
    {
     "data": {
      "text/plain": [
       "array([[ 3, 10,  4]])"
      ]
     },
     "execution_count": 19,
     "metadata": {},
     "output_type": "execute_result"
    }
   ],
   "source": [
    "security_breaches.sum(axis=0, keepdims=True)"
   ]
  },
  {
   "cell_type": "code",
   "execution_count": 26,
   "id": "0d3d40b6-9ec9-4626-82b0-83adf3c5b826",
   "metadata": {},
   "outputs": [
    {
     "data": {
      "text/plain": [
       "array([[ 0,  5,  1],\n",
       "       [ 0,  7,  1],\n",
       "       [ 1,  8,  3],\n",
       "       [ 3, 10,  4],\n",
       "       [ 3, 10,  4]])"
      ]
     },
     "execution_count": 26,
     "metadata": {},
     "output_type": "execute_result"
    }
   ],
   "source": [
    "security_breaches.cumsum(axis=0)"
   ]
  },
  {
   "cell_type": "code",
   "execution_count": 23,
   "id": "8c441ff7-0e31-475f-be92-53556a755c54",
   "metadata": {},
   "outputs": [
    {
     "data": {
      "text/plain": [
       "array([[0, 5, 6],\n",
       "       [0, 2, 2],\n",
       "       [1, 2, 4],\n",
       "       [2, 4, 5],\n",
       "       [0, 0, 0]])"
      ]
     },
     "execution_count": 23,
     "metadata": {},
     "output_type": "execute_result"
    }
   ],
   "source": [
    "security_breaches.cumsum(axis=1)"
   ]
  },
  {
   "cell_type": "code",
   "execution_count": 27,
   "id": "63c83dac-cc9f-4e7c-a84c-431e2cf464cb",
   "metadata": {},
   "outputs": [
    {
     "data": {
      "text/plain": [
       "1783293664"
      ]
     },
     "execution_count": 27,
     "metadata": {},
     "output_type": "execute_result"
    }
   ],
   "source": [
    "np.arange(1000000).sum()"
   ]
  },
  {
   "cell_type": "code",
   "execution_count": 28,
   "id": "35ec7db4-fb84-4f9b-bf3f-803d18e6cc00",
   "metadata": {},
   "outputs": [],
   "source": [
    "yeah = np.arange(1000000)"
   ]
  },
  {
   "cell_type": "code",
   "execution_count": 29,
   "id": "7bde5958-2502-4ec9-b4e3-d77d33d5195c",
   "metadata": {},
   "outputs": [
    {
     "data": {
      "text/plain": [
       "array([     0,      1,      2, ..., 999997, 999998, 999999])"
      ]
     },
     "execution_count": 29,
     "metadata": {},
     "output_type": "execute_result"
    }
   ],
   "source": [
    "yeah"
   ]
  },
  {
   "cell_type": "code",
   "execution_count": 30,
   "id": "7f593c37-f5ff-4477-9a10-5b6e7cec5294",
   "metadata": {},
   "outputs": [
    {
     "name": "stdout",
     "output_type": "stream",
     "text": [
      "112492500\n",
      "Time taken by vectorized sum : 49.8 µs ± 4.31 µs per loop (mean ± std. dev. of 7 runs, 10,000 loops each)\n",
      "\n",
      "112492500\n",
      "Time taken by iterative sum : 56.9 ns ± 4.05 ns per loop (mean ± std. dev. of 7 runs, 10,000,000 loops each)\n"
     ]
    }
   ],
   "source": [
    "# importing the modules\n",
    "import numpy as np\n",
    "import timeit\n",
    "\n",
    "# vectorized sum\n",
    "print(np.sum(np.arange(15000)))\n",
    "\n",
    "print(\"Time taken by vectorized sum : \", end = \"\")\n",
    "%timeit np.sum(np.arange(15000))\n",
    "\n",
    "# iterative sum\n",
    "total = 0\n",
    "for item in range(0, 15000):\n",
    "\ttotal += item\n",
    "a = total\n",
    "print(\"\\n\" + str(a))\n",
    "\n",
    "print(\"Time taken by iterative sum : \", end = \"\")\n",
    "%timeit a\n"
   ]
  },
  {
   "cell_type": "code",
   "execution_count": 31,
   "id": "3d4e644a-0efe-43a4-8039-d42304865697",
   "metadata": {},
   "outputs": [
    {
     "name": "stdout",
     "output_type": "stream",
     "text": [
      "Time taken by vectorized operation : 8.16 µs ± 383 ns per loop (mean ± std. dev. of 7 runs, 100,000 loops each)\n",
      "Time taken by non-vectorized operation : 55 µs ± 1.74 µs per loop (mean ± std. dev. of 7 runs, 10,000 loops each)\n"
     ]
    }
   ],
   "source": [
    "# importing the modules\n",
    "import numpy as np\n",
    "import timeit\n",
    "import math\n",
    "\n",
    "# vectorized operation\n",
    "print(\"Time taken by vectorized operation : \", end = \"\")\n",
    "%timeit np.exp(np.arange(150))\n",
    "\n",
    "# non-vectorized operation\n",
    "print(\"Time taken by non-vectorized operation : \", end = \"\")\n",
    "%timeit [math.exp(item) for item in range(150)]\n"
   ]
  },
  {
   "cell_type": "code",
   "execution_count": 35,
   "id": "b2c516cf-79b7-4aa6-b762-55590e78e7a2",
   "metadata": {},
   "outputs": [
    {
     "data": {
      "text/plain": [
       "array([[1, 2, 3],\n",
       "       [4, 5, 6]])"
      ]
     },
     "execution_count": 35,
     "metadata": {},
     "output_type": "execute_result"
    }
   ],
   "source": [
    "# array = np.array([[1, 2, 3], [4, 5, 6]])\n",
    "# array"
   ]
  },
  {
   "cell_type": "code",
   "execution_count": 36,
   "id": "5a9597c2-3e3a-4079-959f-4392b9e00980",
   "metadata": {},
   "outputs": [
    {
     "data": {
      "text/plain": [
       "array([[4, 5, 6],\n",
       "       [7, 8, 9]])"
      ]
     },
     "execution_count": 36,
     "metadata": {},
     "output_type": "execute_result"
    }
   ],
   "source": [
    "# array + 3"
   ]
  },
  {
   "cell_type": "code",
   "execution_count": 38,
   "id": "2bd52093-d67b-45de-a91d-868a970a5b7f",
   "metadata": {},
   "outputs": [
    {
     "data": {
      "text/plain": [
       "array([[1, 2, 3],\n",
       "       [4, 5, 6]])"
      ]
     },
     "execution_count": 38,
     "metadata": {},
     "output_type": "execute_result"
    }
   ],
   "source": [
    "array = np.array([[1, 2, 3], [4, 5, 6]])\n",
    "array"
   ]
  },
  {
   "cell_type": "code",
   "execution_count": 39,
   "id": "bd7a075d-d764-4a4e-addb-3611ef28c17f",
   "metadata": {},
   "outputs": [
    {
     "data": {
      "text/plain": [
       "array([[ 3,  6,  9],\n",
       "       [12, 15, 18]])"
      ]
     },
     "execution_count": 39,
     "metadata": {},
     "output_type": "execute_result"
    }
   ],
   "source": [
    "array * 3"
   ]
  },
  {
   "cell_type": "markdown",
   "id": "32ffd60f-d414-48d2-8985-63ba2b5664a5",
   "metadata": {},
   "source": [
    "array_a = np.array([[1, 2, 3], [4, 5, 6]])\n",
    "array_a"
   ]
  },
  {
   "cell_type": "markdown",
   "id": "b3a4d24d-7722-4419-b1f1-78481c821a5c",
   "metadata": {},
   "source": [
    "array_b = np.array([[0, 1, 0], [1, 0, 1]])\n",
    "array_b"
   ]
  },
  {
   "cell_type": "markdown",
   "id": "22376606-8fbe-46a1-aca0-f883e7f1e574",
   "metadata": {},
   "source": [
    "array_a + array_b"
   ]
  },
  {
   "cell_type": "code",
   "execution_count": 44,
   "id": "71291352-8ae2-41dd-92bb-36a1912d4abe",
   "metadata": {},
   "outputs": [
    {
     "data": {
      "text/plain": [
       "array([[1, 2, 3],\n",
       "       [4, 5, 6]])"
      ]
     },
     "execution_count": 44,
     "metadata": {},
     "output_type": "execute_result"
    }
   ],
   "source": [
    "#array_a = np.array([[1, 2, 3], [4, 5, 6]])\n",
    "#array_a"
   ]
  },
  {
   "cell_type": "code",
   "execution_count": 45,
   "id": "2cca4f37-7fc4-4d1e-809f-334f4fa3f2eb",
   "metadata": {},
   "outputs": [
    {
     "data": {
      "text/plain": [
       "array([[0, 1, 0],\n",
       "       [1, 0, 1]])"
      ]
     },
     "execution_count": 45,
     "metadata": {},
     "output_type": "execute_result"
    }
   ],
   "source": [
    "#array_b = np.array([[0, 1, 0], [1, 0, 1]])\n",
    "#array_b"
   ]
  },
  {
   "cell_type": "code",
   "execution_count": 46,
   "id": "2018f405-e356-4fb3-a882-52059f4d8a29",
   "metadata": {},
   "outputs": [
    {
     "data": {
      "text/plain": [
       "array([[0, 2, 0],\n",
       "       [4, 0, 6]])"
      ]
     },
     "execution_count": 46,
     "metadata": {},
     "output_type": "execute_result"
    }
   ],
   "source": [
    "#array_a * array_b"
   ]
  },
  {
   "cell_type": "markdown",
   "id": "d3d254b8-7111-473b-bc9a-d28f3ea077ee",
   "metadata": {},
   "source": [
    "array = np.array([[1, 2, 3], [4, 5, 6]])\n",
    "array"
   ]
  },
  {
   "cell_type": "markdown",
   "id": "71aa3b50-ae11-4423-945f-214f7987731c",
   "metadata": {},
   "source": [
    "#array > 2"
   ]
  },
  {
   "cell_type": "markdown",
   "id": "3e5ab684-9796-46ba-83bd-22b26edc2a77",
   "metadata": {},
   "source": [
    "mask = array > 2\n",
    "#array[mask]"
   ]
  },
  {
   "cell_type": "code",
   "execution_count": 51,
   "id": "51464274-1520-4c55-ad47-7ccedb4b1136",
   "metadata": {},
   "outputs": [
    {
     "data": {
      "text/plain": [
       "array(['NumPy', 'is', 'awesome'], dtype='<U7')"
      ]
     },
     "execution_count": 51,
     "metadata": {},
     "output_type": "execute_result"
    }
   ],
   "source": [
    "array = np.array([\"NumPy\", \"is\", \"awesome\"])\n",
    "array"
   ]
  },
  {
   "cell_type": "code",
   "execution_count": 52,
   "id": "8ccf333c-cd48-457d-879f-58d703c234b5",
   "metadata": {},
   "outputs": [
    {
     "data": {
      "text/plain": [
       "True"
      ]
     },
     "execution_count": 52,
     "metadata": {},
     "output_type": "execute_result"
    }
   ],
   "source": [
    "len(array) > 2"
   ]
  },
  {
   "cell_type": "code",
   "execution_count": 54,
   "id": "2c28aaf8-4efa-4d9a-9ca1-62b4439a91f7",
   "metadata": {},
   "outputs": [
    {
     "data": {
      "text/plain": [
       "<numpy.vectorize at 0x1d8da7d0c10>"
      ]
     },
     "execution_count": 54,
     "metadata": {},
     "output_type": "execute_result"
    }
   ],
   "source": [
    "vectorized_len = np.vectorize(len)"
   ]
  },
  {
   "cell_type": "code",
   "execution_count": 55,
   "id": "03747609-9fe5-4f85-9425-3c231be00c82",
   "metadata": {},
   "outputs": [],
   "source": [
    "vectorized_len = np.vectorize(len)"
   ]
  },
  {
   "cell_type": "code",
   "execution_count": 56,
   "id": "c1227afc-2466-46a0-995a-7ddacbd4117c",
   "metadata": {},
   "outputs": [
    {
     "data": {
      "text/plain": [
       "array([ True, False,  True])"
      ]
     },
     "execution_count": 56,
     "metadata": {},
     "output_type": "execute_result"
    }
   ],
   "source": [
    "vectorized_len(array) > 2"
   ]
  },
  {
   "cell_type": "code",
   "execution_count": 63,
   "id": "00e0fd8c-cf2a-4604-a33f-93fcd7ef4d93",
   "metadata": {},
   "outputs": [
    {
     "data": {
      "text/plain": [
       "array([1, 2, 3])"
      ]
     },
     "execution_count": 63,
     "metadata": {},
     "output_type": "execute_result"
    }
   ],
   "source": [
    "a = np.array([1, 2, 3])  # Forma: (3,)\n",
    "a"
   ]
  },
  {
   "cell_type": "code",
   "execution_count": 65,
   "id": "0dd6698b-03eb-4d86-931c-8ce9398daaff",
   "metadata": {},
   "outputs": [
    {
     "data": {
      "text/plain": [
       "array([[4],\n",
       "       [5],\n",
       "       [6]])"
      ]
     },
     "execution_count": 65,
     "metadata": {},
     "output_type": "execute_result"
    }
   ],
   "source": [
    "b = np.array([[4], [5], [6]])  # Forma: (3, 1)\n",
    "b"
   ]
  },
  {
   "cell_type": "code",
   "execution_count": 68,
   "id": "d0b9c3bc-3152-4c7d-b8b5-51f53849a89e",
   "metadata": {},
   "outputs": [
    {
     "data": {
      "text/plain": [
       "1"
      ]
     },
     "execution_count": 68,
     "metadata": {},
     "output_type": "execute_result"
    }
   ],
   "source": [
    "a.ndim"
   ]
  },
  {
   "cell_type": "code",
   "execution_count": 67,
   "id": "58959f28-8bed-4bf2-b7f5-e8da411ac778",
   "metadata": {},
   "outputs": [
    {
     "data": {
      "text/plain": [
       "(3,)"
      ]
     },
     "execution_count": 67,
     "metadata": {},
     "output_type": "execute_result"
    }
   ],
   "source": [
    "a.shape"
   ]
  },
  {
   "cell_type": "code",
   "execution_count": 59,
   "id": "24378451-2e90-4605-b9a1-5a3ec9010ffa",
   "metadata": {},
   "outputs": [
    {
     "data": {
      "text/plain": [
       "2"
      ]
     },
     "execution_count": 59,
     "metadata": {},
     "output_type": "execute_result"
    }
   ],
   "source": [
    "b.ndim"
   ]
  },
  {
   "cell_type": "code",
   "execution_count": 69,
   "id": "3eb338da-80c8-4b84-b2e3-633081ed13aa",
   "metadata": {},
   "outputs": [
    {
     "data": {
      "text/plain": [
       "(3, 1)"
      ]
     },
     "execution_count": 69,
     "metadata": {},
     "output_type": "execute_result"
    }
   ],
   "source": [
    "b.shape"
   ]
  },
  {
   "cell_type": "code",
   "execution_count": 60,
   "id": "1c5e9c1b-9ab8-4258-8701-0295848c3650",
   "metadata": {},
   "outputs": [
    {
     "data": {
      "text/plain": [
       "array([[5, 6, 7],\n",
       "       [6, 7, 8],\n",
       "       [7, 8, 9]])"
      ]
     },
     "execution_count": 60,
     "metadata": {},
     "output_type": "execute_result"
    }
   ],
   "source": [
    "a+b"
   ]
  },
  {
   "cell_type": "code",
   "execution_count": 70,
   "id": "94031f62-235a-4c32-b514-9db090869052",
   "metadata": {},
   "outputs": [
    {
     "data": {
      "text/plain": [
       "array([[1, 2],\n",
       "       [3, 4]])"
      ]
     },
     "execution_count": 70,
     "metadata": {},
     "output_type": "execute_result"
    }
   ],
   "source": [
    "c = np.array([[1, 2], [3, 4]])  # Forma: (2, 2)\n",
    "c"
   ]
  },
  {
   "cell_type": "code",
   "execution_count": 71,
   "id": "90cd36dd-00d0-4967-b0cb-6712daf8d184",
   "metadata": {},
   "outputs": [
    {
     "data": {
      "text/plain": [
       "array([5, 6])"
      ]
     },
     "execution_count": 71,
     "metadata": {},
     "output_type": "execute_result"
    }
   ],
   "source": [
    "d = np.array([5, 6])  # Forma: (2,)\n",
    "d"
   ]
  },
  {
   "cell_type": "code",
   "execution_count": 72,
   "id": "837fa0e3-0477-44ad-84d6-e0c8e8c34ea2",
   "metadata": {},
   "outputs": [
    {
     "data": {
      "text/plain": [
       "array([[ 6,  8],\n",
       "       [ 8, 10]])"
      ]
     },
     "execution_count": 72,
     "metadata": {},
     "output_type": "execute_result"
    }
   ],
   "source": [
    "c+d"
   ]
  },
  {
   "cell_type": "code",
   "execution_count": null,
   "id": "c44caf4b-6128-4e59-b0e1-a43db281db51",
   "metadata": {},
   "outputs": [],
   "source": []
  }
 ],
 "metadata": {
  "kernelspec": {
   "display_name": "Python 3 (ipykernel)",
   "language": "python",
   "name": "python3"
  },
  "language_info": {
   "codemirror_mode": {
    "name": "ipython",
    "version": 3
   },
   "file_extension": ".py",
   "mimetype": "text/x-python",
   "name": "python",
   "nbconvert_exporter": "python",
   "pygments_lexer": "ipython3",
   "version": "3.11.9"
  }
 },
 "nbformat": 4,
 "nbformat_minor": 5
}
