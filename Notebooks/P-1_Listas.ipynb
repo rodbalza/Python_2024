{
 "cells": [
  {
   "cell_type": "markdown",
   "id": "e4e9a8b1-756d-4308-84a9-c32b000c5db9",
   "metadata": {},
   "source": [
    "### Practica 1 - Listas"
   ]
  },
  {
   "cell_type": "markdown",
   "id": "157bc1d9-2eb9-413b-9680-d4c7b13b480b",
   "metadata": {},
   "source": [
    "1- Escribir un programa que almacene las asignaturas de un curso (por ejemplo, Matemáticas, Física, Química, Historia y Lengua) en una lista y la muestre por pantalla."
   ]
  },
  {
   "cell_type": "code",
   "execution_count": null,
   "id": "b8ed3c77-492c-49c8-9ed4-8cd0953f0ef4",
   "metadata": {},
   "outputs": [],
   "source": []
  },
  {
   "cell_type": "markdown",
   "id": "bdb4b9e1-82ee-4809-9968-fe2679858245",
   "metadata": {},
   "source": [
    "2 - Escribir un programa que almacene las asignaturas de un curso (por ejemplo, Matemáticas, Física, Química, Historia y Lengua) en una lista y  muestre por pantalla el mensaje Yo estudio <asignatura>, donde <asignatura> es cada una de las asignaturas de la lista.\n",
    "    Salida Esperada:\n",
    "    <img src='s-2.png'>\n",
    " "
   ]
  },
  {
   "cell_type": "code",
   "execution_count": null,
   "id": "5fe6f10a-6282-4c64-9bfe-687fcbd4b4df",
   "metadata": {},
   "outputs": [],
   "source": []
  },
  {
   "cell_type": "markdown",
   "id": "71e0078a-bd24-4850-ba61-d3a80b5353a7",
   "metadata": {},
   "source": [
    "3 - Escribir un programa que almacene las asignaturas de un curso (por ejemplo, Matemáticas, Física, Química, Historia y Lengua) en una lista, pregunte al usuario la nota que ha sacado en cada asignatura, y después las muestre por pantalla con el mensaje En <asignatura> has sacado <nota> donde <asignatura> es cada una de las asignaturas de la lista y <nota> cada una de las correspondientes notas introducidas por el usuario. **Salida Esperada**:\n",
    "    \n",
    "<img src='s-3.png'>"
   ]
  },
  {
   "cell_type": "code",
   "execution_count": null,
   "id": "ab692151-5263-4340-9121-020a22ba32df",
   "metadata": {},
   "outputs": [],
   "source": []
  },
  {
   "cell_type": "markdown",
   "id": "326f1f48-99dd-4f0f-a828-466df383b7d2",
   "metadata": {},
   "source": [
    "4 - Escribir un programa que almacene en una lista los números del 1 al 10 y los muestre por pantalla en orden inverso separados por comas."
   ]
  },
  {
   "cell_type": "code",
   "execution_count": null,
   "id": "978d2c36-7446-47f6-b6dd-95b2d2ddc830",
   "metadata": {},
   "outputs": [],
   "source": []
  },
  {
   "cell_type": "markdown",
   "id": "7c9bd166-c72a-4855-b3f3-230df1aeea98",
   "metadata": {},
   "source": [
    "5 - Escribir un programa que almacene las asignaturas de un curso (por ejemplo, Matemáticas, Física, Química, Historia y Lengua) en una lista, pregunte al usuario la nota que ha sacado en cada asignatura y elimine de la lista las asignaturas aprobadas. Al final el programa debe mostrar por pantalla las asignaturas que el usuario tiene que repetir. **Salida Esperada:**\n",
    "\n",
    "<img src='s-5.png'>"
   ]
  },
  {
   "cell_type": "code",
   "execution_count": null,
   "id": "e57c2f8a-06e4-40ad-aed6-e8938162e204",
   "metadata": {},
   "outputs": [],
   "source": []
  }
 ],
 "metadata": {
  "kernelspec": {
   "display_name": "anaconda-panel-2023.05-py310",
   "language": "python",
   "name": "conda-env-anaconda-panel-2023.05-py310-py"
  },
  "language_info": {
   "codemirror_mode": {
    "name": "ipython",
    "version": 3
   },
   "file_extension": ".py",
   "mimetype": "text/x-python",
   "name": "python",
   "nbconvert_exporter": "python",
   "pygments_lexer": "ipython3",
   "version": "3.11.4"
  }
 },
 "nbformat": 4,
 "nbformat_minor": 5
}
