{
 "cells": [
  {
   "cell_type": "markdown",
   "id": "249ddf6c-9b4a-468b-b798-5d43aa5ca3b5",
   "metadata": {},
   "source": [
    "# Ficheros"
   ]
  },
  {
   "cell_type": "markdown",
   "id": "bcced247-e453-41e7-8fff-8a048cc2788a",
   "metadata": {},
   "source": [
    "Hay varias formas de abrir un fichero, la más común es utilizando la función open del módulo io.\r\n"
   ]
  },
  {
   "cell_type": "markdown",
   "id": "aed512ac-e5ac-4823-a78d-0b65edb06bfe",
   "metadata": {},
   "source": [
    "**Creación y Escritura**"
   ]
  },
  {
   "cell_type": "code",
   "execution_count": 1,
   "id": "013011bd-ba6f-412e-9523-ae3041190bad",
   "metadata": {},
   "outputs": [],
   "source": [
    "from io import open\n",
    "\n",
    "texto = \"Una línea con texto\\nOtra línea con texto\"\n",
    "\n",
    "# Ruta donde crearemos el fichero, w indica escritura (puntero al principio)\n",
    "fichero = open('fichero.txt','w')\n",
    "\n",
    "# Escribimos el texto\n",
    "fichero.write(texto)\n",
    "\n",
    "# Cerramos el fichero\n",
    "fichero.close()"
   ]
  },
  {
   "cell_type": "markdown",
   "id": "7c677cc7-6e3d-4e6e-8298-6c891a564aeb",
   "metadata": {},
   "source": [
    "**Lectura**"
   ]
  },
  {
   "cell_type": "code",
   "execution_count": null,
   "id": "9e92b9b4-c7fc-479a-a304-ca91880cb2ba",
   "metadata": {},
   "outputs": [],
   "source": [
    "from io import open\n",
    "\n",
    "# Ruta donde leeremos el fichero, r indica lectura (por defecto ya es r)\n",
    "fichero = open('fichero.txt','r')\n",
    "\n",
    "# Lectura completa\n",
    "texto = fichero.read()\n",
    "\n",
    "# Cerramos el fichero\n",
    "fichero.close()\n",
    "\n",
    "print(texto)"
   ]
  },
  {
   "cell_type": "markdown",
   "id": "fc0ae833-3901-4a6c-bf02-1945e53ce321",
   "metadata": {},
   "source": [
    "Podemos usar el método readlines() del fichero para generar una lista con las líneas:"
   ]
  },
  {
   "cell_type": "code",
   "execution_count": 2,
   "id": "25d817d1-34e1-4673-acaa-01a9050f36e0",
   "metadata": {},
   "outputs": [
    {
     "name": "stdout",
     "output_type": "stream",
     "text": [
      "['Una línea con texto\\n', 'Otra línea con texto']\n"
     ]
    }
   ],
   "source": [
    "from io import open\n",
    "fichero = open('fichero.txt','r')\n",
    "\n",
    "# Leemos creando una lista de líneas\n",
    "texto = fichero.readlines()\n",
    "\n",
    "fichero.close()\n",
    "print(texto)"
   ]
  },
  {
   "cell_type": "markdown",
   "id": "1ae05077-14fb-4c85-ae74-35336c24a21c",
   "metadata": {},
   "source": [
    "También se puede leer un fichero utilizando la instrucción estándar with de la siguiente forma:"
   ]
  },
  {
   "cell_type": "code",
   "execution_count": 3,
   "id": "bb057203-96b8-4b03-81bb-53a8364643ee",
   "metadata": {},
   "outputs": [
    {
     "name": "stdout",
     "output_type": "stream",
     "text": [
      "Una línea con texto\n",
      "\n",
      "Otra línea con texto\n"
     ]
    }
   ],
   "source": [
    "with open(\"fichero.txt\", \"r\") as fichero:\n",
    "    for linea in fichero:\n",
    "        print(linea)"
   ]
  },
  {
   "cell_type": "markdown",
   "id": "9bebc168-2806-421a-8363-091f1e53c899",
   "metadata": {},
   "source": [
    "**Extensión**"
   ]
  },
  {
   "cell_type": "markdown",
   "id": "d4eacc16-2d7f-40f1-9bb0-8d5be30fe624",
   "metadata": {},
   "source": [
    "Este modo nos permite añadir datos al final de un fichero:"
   ]
  },
  {
   "cell_type": "code",
   "execution_count": null,
   "id": "1c63dfdb-f35f-4d81-b0d6-2e1b73311e58",
   "metadata": {},
   "outputs": [],
   "source": [
    "from io import open\n",
    "\n",
    "# Ruta donde leeremos el fichero, a indica extensión (puntero al final)\n",
    "fichero = open('fichero.txt','a')\n",
    "\n",
    "fichero.write('\\nOtra línea más abajo del todo')\n",
    "\n",
    "fichero.close()"
   ]
  },
  {
   "cell_type": "markdown",
   "id": "7958eed7-3bba-4db9-87db-4f08f61659d5",
   "metadata": {},
   "source": [
    "La variante 'a+' permite crear el fichero si no existe:"
   ]
  },
  {
   "cell_type": "code",
   "execution_count": null,
   "id": "ba1eeec5-8778-4ffb-98f8-3c33d64c0522",
   "metadata": {},
   "outputs": [],
   "source": [
    "fichero = open('fichero_inventado.txt','a+')"
   ]
  },
  {
   "cell_type": "markdown",
   "id": "ca7a5aaa-296e-495c-91e0-ee7481cfc8f1",
   "metadata": {},
   "source": [
    "**Manejando el puntero**"
   ]
  },
  {
   "cell_type": "markdown",
   "id": "f45875d9-d8bc-4e9c-a030-890408939505",
   "metadata": {},
   "source": [
    "Es posible posicionar el puntero en el fichero manualmente usando el método seek e indicando un número de caracteres para luego leer una cantidad de caracteres con el método read:"
   ]
  },
  {
   "cell_type": "code",
   "execution_count": 4,
   "id": "e924f8a7-06d8-4f2d-b6fc-68e6a1269d54",
   "metadata": {},
   "outputs": [
    {
     "data": {
      "text/plain": [
       "'Una línea '"
      ]
     },
     "execution_count": 4,
     "metadata": {},
     "output_type": "execute_result"
    }
   ],
   "source": [
    "fichero = open('fichero.txt','r')\n",
    "fichero.seek(0)   # Puntero al principio\n",
    "fichero.read(10)  # Leemos 10 carácteres"
   ]
  },
  {
   "cell_type": "code",
   "execution_count": 5,
   "id": "e0e90221-6095-4b84-9e68-8ee7b502182b",
   "metadata": {},
   "outputs": [
    {
     "data": {
      "text/plain": [
       "'\\nOtra línea con texto'"
      ]
     },
     "execution_count": 5,
     "metadata": {},
     "output_type": "execute_result"
    }
   ],
   "source": [
    "fichero = open('fichero.txt','r')\n",
    "fichero.seek(0)\n",
    "\n",
    "# Leemos la primera línea y situamos el puntero al principio de la segunda\n",
    "fichero.seek( len(fichero.readline()) )\n",
    "\n",
    "# Leemos todo lo que queda del puntero hasta el final\n",
    "fichero.read()"
   ]
  },
  {
   "cell_type": "markdown",
   "id": "09289065-6ec5-4796-8873-b0379c702c32",
   "metadata": {},
   "source": [
    "**Lectura con escritura**"
   ]
  },
  {
   "cell_type": "markdown",
   "id": "2006e5ab-fe5b-4093-b59d-eb0f1c89746e",
   "metadata": {},
   "source": [
    "Se puede abrir un fichero en modo lectura con escritura, pero éste debe existir préviamente. Además por defecto el puntero estará al principio y si escribimos algo sobreescribiremos el contenido actual, así que prestad atención a los saltos de línea y caracteres especiales:"
   ]
  },
  {
   "cell_type": "code",
   "execution_count": 8,
   "id": "d7698fb0-f599-4c33-ab54-ae598ead7bc0",
   "metadata": {},
   "outputs": [],
   "source": [
    "# Creamos un fichero de prueba con 4 líneas\n",
    "fichero = open('fichero2.txt','w')\n",
    "texto = \"Línea 1\\nLínea 2\\nLínea 3\\nLínea 4\"\n",
    "fichero.write(texto)\n",
    "fichero.close()\n",
    "\n",
    "# Lo abrimos en lectura con escritura y escribimos algo\n",
    "fichero = open('fichero2.txt','r+')\n",
    "fichero.write(\"0123456\")\n",
    "\n",
    "# Volvemos a ponter el puntero al inicio y leemos hasta el final\n",
    "fichero.seek(0)\n",
    "fichero.read()\n",
    "fichero.close()"
   ]
  },
  {
   "cell_type": "markdown",
   "id": "79f4a6ec-9bbb-4b88-bd21-34d8e4a1c1fc",
   "metadata": {},
   "source": [
    "**Modificar una línea**"
   ]
  },
  {
   "cell_type": "markdown",
   "id": "0763922d-693f-4959-a0ce-6a2db2bd27eb",
   "metadata": {},
   "source": [
    "Para lograr este fin lo mejor es leer todas las líneas en una lista, modificar la línea en la lista, posicionar el puntero al principio y reescribir de nuevo todas las líneas:"
   ]
  },
  {
   "cell_type": "code",
   "execution_count": 9,
   "id": "cea5d622-7e1e-495f-b921-b141df9c8cd2",
   "metadata": {},
   "outputs": [
    {
     "name": "stdout",
     "output_type": "stream",
     "text": [
      "0123456\n",
      "Línea 2\n",
      "Esta es la línea 3 modificada\n",
      "Línea 4\n"
     ]
    }
   ],
   "source": [
    "fichero = open('fichero2.txt','r+')\n",
    "texto = fichero.readlines()\n",
    "\n",
    "# Modificamos la línea que queramos a partir del índice\n",
    "texto[2] = \"Esta es la línea 3 modificada\\n\"\n",
    "\n",
    "# Volvemos a ponter el puntero al inicio y reescribimos\n",
    "fichero.seek(0)\n",
    "fichero.writelines(texto)\n",
    "fichero.close()\n",
    "\n",
    "# Leemos el fichero de nuevo\n",
    "with open(\"fichero2.txt\", \"r\") as fichero:\n",
    "    print(fichero.read())"
   ]
  },
  {
   "cell_type": "code",
   "execution_count": null,
   "id": "1768609c-3a93-4969-b778-3adcaae9a6f1",
   "metadata": {},
   "outputs": [],
   "source": []
  }
 ],
 "metadata": {
  "kernelspec": {
   "display_name": "Python 3 (ipykernel)",
   "language": "python",
   "name": "python3"
  },
  "language_info": {
   "codemirror_mode": {
    "name": "ipython",
    "version": 3
   },
   "file_extension": ".py",
   "mimetype": "text/x-python",
   "name": "python",
   "nbconvert_exporter": "python",
   "pygments_lexer": "ipython3",
   "version": "3.11.9"
  }
 },
 "nbformat": 4,
 "nbformat_minor": 5
}
