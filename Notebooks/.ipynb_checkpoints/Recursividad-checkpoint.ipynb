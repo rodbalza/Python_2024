{
 "cells": [
  {
   "cell_type": "code",
   "execution_count": null,
   "id": "43b501a3-0bd1-4e3e-9db4-4627851a2506",
   "metadata": {},
   "outputs": [],
   "source": []
  },
  {
   "cell_type": "code",
   "execution_count": 7,
   "id": "d2b49b67-55d5-45ae-8daf-ba8bc53622a8",
   "metadata": {},
   "outputs": [
    {
     "name": "stdin",
     "output_type": "stream",
     "text": [
      "Enter any number:  9\n"
     ]
    },
    {
     "name": "stdout",
     "output_type": "stream",
     "text": [
      "la variable p va tomando el valor de: 1\n",
      "la variable p va tomando el valor de: 2\n",
      "la variable p va tomando el valor de: 6\n",
      "la variable p va tomando el valor de: 24\n",
      "la variable p va tomando el valor de: 120\n",
      "la variable p va tomando el valor de: 720\n",
      "la variable p va tomando el valor de: 5040\n",
      "la variable p va tomando el valor de: 40320\n",
      "la variable p va tomando el valor de: 362880\n",
      "Factorial value =  362880\n"
     ]
    }
   ],
   "source": [
    "def refact(n):\n",
    "    if n == 0 :\n",
    "        return 1\n",
    "    else :\n",
    "        p = n * refact(n - 1)\n",
    "        print(f'la variable p va tomando el valor de: {p}')\n",
    "        return p\n",
    "\n",
    "num = int(input('Enter any number: ')) \n",
    "fact = refact(num)\n",
    "print('Factorial value = ', fact)\n"
   ]
  },
  {
   "cell_type": "markdown",
   "id": "d8a6fa9f-84b0-4840-b5a7-ab5a1c7798d0",
   "metadata": {},
   "source": [
    "En este caso, utilizaremos el algoritmo Q-Learning (pertenece al aprendizaje por refuerzo) para resolver un problema simple: enseñar a una máquina a encontrar el camino óptimo en un laberinto."
   ]
  },
  {
   "cell_type": "code",
   "execution_count": null,
   "id": "0113a9ee-6d02-477f-9783-b75c109865f3",
   "metadata": {},
   "outputs": [],
   "source": [
    "# Implementación recursiva de Q-Learning para resolver un laberinto\n",
    "\n",
    "# Definición del laberinto (matriz 2D)\n",
    "laberinto = [\n",
    "    [0, 0, 0, 0],\n",
    "    [0, 1, 1, 0],\n",
    "    [0, 0, 1, 0],\n",
    "    [0, 0, 0, 0]\n",
    "]\n",
    "\n",
    "# Función recursiva para actualizar los valores Q\n",
    "def q_learning(posicion_actual, accion, alpha=0.1, gamma=0.9):\n",
    "    if posicion_actual == (3, 3):  # Llegamos al objetivo\n",
    "        return 0\n",
    "    else:\n",
    "        x, y = posicion_actual\n",
    "        nueva_posicion = (x + accion[0], y + accion[1])\n",
    "        if nueva_posicion[0] < 0 or nueva_posicion[0] >= 4 or nueva_posicion[1] < 0 or nueva_posicion[1] >= 4:\n",
    "            return -1  # Penalización por salir del laberinto\n",
    "        else:\n",
    "            recompensa = laberinto[nueva_posicion[0]][nueva_posicion[1]]\n",
    "            return recompensa + gamma * max(q_learning(nueva_posicion, a) for a in [(1, 0), (-1, 0), (0, 1), (0, -1)])\n",
    "\n",
    "# Calculamos los valores Q para cada celda del laberinto\n",
    "valores_q = [[q_learning((i, j), a) for j in range(4)] for i in range(4)]\n",
    "\n",
    "# Imprimimos los valores Q\n",
    "for fila in valores_q:\n",
    "    print(fila)\n"
   ]
  }
 ],
 "metadata": {
  "kernelspec": {
   "display_name": "Python 3 (ipykernel)",
   "language": "python",
   "name": "python3"
  },
  "language_info": {
   "codemirror_mode": {
    "name": "ipython",
    "version": 3
   },
   "file_extension": ".py",
   "mimetype": "text/x-python",
   "name": "python",
   "nbconvert_exporter": "python",
   "pygments_lexer": "ipython3",
   "version": "3.11.9"
  }
 },
 "nbformat": 4,
 "nbformat_minor": 5
}
