{
 "cells": [
  {
   "cell_type": "code",
   "execution_count": 1,
   "id": "05d154bb-eed5-4974-85a2-ab238b5bf1e3",
   "metadata": {},
   "outputs": [],
   "source": [
    "# import pandas as pd\n",
    "from sklearn.datasets import make_classification\n",
    "# from sklearn.datasets import make_classification\n",
    "# Crea un dataset con 1000 muestras, 2 características y 2 clases (balance perfecto)\n",
    "X, y = make_classification(\n",
    "    n_samples=1000,\n",
    "    n_features=2,\n",
    "    n_redundant=0,\n",
    "    n_clusters_per_class=1,\n",
    "    random_state=42\n",
    ")\n",
    "\n",
    "# Combina las características y las etiquetas en un DataFrame\n",
    "df = pd.concat([pd.DataFrame(X), pd.Series(y)], axis=1)\n",
    "df.columns = ['x1', 'x2', 'y']\n"
   ]
  },
  {
   "cell_type": "code",
   "execution_count": 2,
   "id": "bee99cee-f725-43fd-a6a2-4fc630ecd75c",
   "metadata": {},
   "outputs": [],
   "source": [
    "# df.to_csv('dataset.csv', index=False)"
   ]
  },
  {
   "cell_type": "code",
   "execution_count": 3,
   "id": "a63a3f46-ccd7-4196-9fe4-238834b58fb2",
   "metadata": {},
   "outputs": [
    {
     "name": "stdout",
     "output_type": "stream",
     "text": [
      "   ID  Edad  Ingresos\n",
      "0   1    58     74327\n",
      "1   2    48     33368\n",
      "2   3    34     33797\n",
      "3   4    27     77882\n",
      "4   5    40     43718\n"
     ]
    }
   ],
   "source": [
    "import pandas as pd\n",
    "import numpy as np\n",
    "\n",
    "# Genera datos sintéticos\n",
    "np.random.seed(42)\n",
    "n_samples = 1000\n",
    "edad = np.random.randint(20, 60, n_samples)\n",
    "ingresos = np.random.randint(30000, 80000, n_samples)\n",
    "\n",
    "# Crea un DataFrame con los datos\n",
    "df = pd.DataFrame({'ID': range(1, n_samples + 1),\n",
    "                   'Edad': edad,\n",
    "                   'Ingresos': ingresos})\n",
    "\n",
    "# Guarda el DataFrame en un archivo CSV\n",
    "df.to_csv('dataset.csv', index=False)\n",
    "\n",
    "# Muestra las primeras filas del DataFrame\n",
    "print(df.head())\n",
    "\n"
   ]
  },
  {
   "cell_type": "code",
   "execution_count": null,
   "id": "dcf07daa-de7e-4d4e-8654-68a995dbf886",
   "metadata": {},
   "outputs": [],
   "source": []
  }
 ],
 "metadata": {
  "kernelspec": {
   "display_name": "Python 3 (ipykernel)",
   "language": "python",
   "name": "python3"
  },
  "language_info": {
   "codemirror_mode": {
    "name": "ipython",
    "version": 3
   },
   "file_extension": ".py",
   "mimetype": "text/x-python",
   "name": "python",
   "nbconvert_exporter": "python",
   "pygments_lexer": "ipython3",
   "version": "3.11.9"
  }
 },
 "nbformat": 4,
 "nbformat_minor": 5
}
