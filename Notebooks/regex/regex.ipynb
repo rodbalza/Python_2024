{
 "cells": [
  {
   "cell_type": "markdown",
   "id": "683a38c0-e62a-4ebf-9e9e-adb4fafc3159",
   "metadata": {},
   "source": [
    "**Expresiones Regulares con Python**"
   ]
  },
  {
   "cell_type": "markdown",
   "id": "96cdcc79-0cda-4d30-84ed-66121ec2e4ce",
   "metadata": {},
   "source": [
    "Las expresiones regulares, a menudo abreviadas como regex, son una secuencia de caracteres utilizada para comprobar si un patrón existe o no en un texto (cadena) determinado. Si alguna vez ha utilizado motores de búsqueda, herramientas de búsqueda y sustitución de procesadores de texto y editores de texto, ya habrá visto cómo se utilizan las expresiones regulares. Se utilizan en el lado del servidor para validar el formato de las direcciones de correo electrónico o las contraseñas durante el registro, para analizar archivos de datos de texto con el fin de encontrar, sustituir o eliminar determinadas cadenas, etc. Ayudan a manipular datos textuales, lo que a menudo es un requisito previo para los proyectos de ciencia de datos que implican minería de texto."
   ]
  },
  {
   "cell_type": "markdown",
   "id": "97eae089-b16b-4745-b5d6-120be0415109",
   "metadata": {},
   "source": [
    "**Expresiones regulares en Python**"
   ]
  },
  {
   "cell_type": "markdown",
   "id": "cf5c9626-416b-4b4e-98c4-4de202dc3882",
   "metadata": {},
   "source": [
    "En Python, las expresiones regulares están soportadas por el módulo `re`. Eso significa que si quieres empezar a usarlas en tus scripts de Python, tienes que importar este módulo con la ayuda de `import`:"
   ]
  },
  {
   "cell_type": "code",
   "execution_count": 3,
   "id": "02157f93-f15d-4210-96db-93cdf38440c6",
   "metadata": {},
   "outputs": [],
   "source": [
    "import re"
   ]
  },
  {
   "cell_type": "markdown",
   "id": "6957383d-6f63-4d78-a0a6-95c5f2868ed0",
   "metadata": {},
   "source": [
    "**Patrones básicos: Caracteres ordinarios**"
   ]
  },
  {
   "cell_type": "markdown",
   "id": "199a5009-651f-4825-816a-48be8b0e193e",
   "metadata": {},
   "source": [
    "Puedes abordar fácilmente muchos patrones básicos en Python utilizando caracteres ordinarios.  \n",
    "Los caracteres ordinarios son las expresiones regulares más simples. Coinciden exactamente consigo mismos y no tienen un significado especial en su sintaxis de expresión regular.\n",
    "\n",
    "Algunos ejemplos son 'A', 'a', 'X', '5'.\n",
    "\n",
    "Los caracteres ordinarios se pueden utilizar para realizar coincidencias exactas simples:"
   ]
  },
  {
   "cell_type": "code",
   "execution_count": 4,
   "id": "e4898ee1-7b0a-4512-af8e-15df7eee9419",
   "metadata": {},
   "outputs": [
    {
     "name": "stdout",
     "output_type": "stream",
     "text": [
      "Match!\n"
     ]
    }
   ],
   "source": [
    "pattern = r\"Cookie\"\n",
    "sequence = \"Cookie\"\n",
    "\n",
    "if re.match(pattern, sequence):\n",
    "    print(\"Match!\")\n",
    "else: \n",
    "    print(\"Not a match!\")"
   ]
  },
  {
   "cell_type": "markdown",
   "id": "f8f52b87-4fff-4112-824d-74214c45b888",
   "metadata": {},
   "source": [
    "La mayoría de los alfabetos y caracteres coincidirán por sí mismos, como ha visto en el ejemplo.\n",
    "\n",
    "La función `match()` devuelve un objeto match si el texto coincide con el patrón. En caso contrario, devuelve `None`. El módulo `re` también contiene otras funciones que se verán más adelante.\n",
    "\n",
    "Por ahora, centrémonos en los caracteres ordinarios.\n",
    "\n",
    "¿Notó la r al comienzo del patrón Cookie?\n",
    "Esto se llama un literal de cadena sin procesar. Cambia cómo se interpreta el literal de cadena. Tales literales se almacenan tal y como aparecen.\n",
    "\n",
    "Por ejemplo, \\ es sólo una barra invertida cuando va precedida de una r en lugar de ser interpretada como una secuencia de escape. Verá lo que esto significa con caracteres especiales. Algunas veces, la sintaxis involucra caracteres con barra invertida, y para prevenir que estos caracteres sean interpretados como secuencias de escape, se usa el prefijo r."
   ]
  },
  {
   "cell_type": "markdown",
   "id": "887c9d38-b85d-4f76-8c9a-e2c89df7bad7",
   "metadata": {},
   "source": [
    "**Caracteres comodín (Wild Card Characters): Caracteres especiales**"
   ]
  },
  {
   "cell_type": "markdown",
   "id": "b5a5c441-e04c-4a84-93fc-b7b857a013d7",
   "metadata": {},
   "source": [
    "Los caracteres especiales son caracteres que no coinciden entre sí tal y como se ven, pero que tienen un significado especial cuando se utilizan en una expresión regular. Para facilitar la comprensión, se puede pensar en ellos como metacaracteres reservados que denotan otra cosa y no lo que parecen.\n",
    "\n",
    "Veamos algunos ejemplos para ver los caracteres especiales en acción...\n",
    "\n",
    "Pero antes, los ejemplos que siguen utilizan dos funciones: search() y group().\n",
    "Con la función de búsqueda search(), se recorre la cadena/secuencia dada, buscando el primer lugar donde la expresión regular produce una coincidencia.\n",
    "La función de grupo group() devuelve la cadena coincidente con la re. Verá estas dos funciones con más detalle más adelante.\n",
    "\n",
    "Volvamos a los caracteres especiales.  \n",
    "\n",
    "\n",
    "`.` - Un punto (period). Coincide con cualquier carácter excepto el carácter de nueva línea."
   ]
  },
  {
   "cell_type": "code",
   "execution_count": 5,
   "id": "43abcbca-c1da-42ad-a1bc-7808c386b8dd",
   "metadata": {},
   "outputs": [
    {
     "data": {
      "text/plain": [
       "'Cookie'"
      ]
     },
     "execution_count": 5,
     "metadata": {},
     "output_type": "execute_result"
    }
   ],
   "source": [
    "re.search(r'Co.k.e', 'Cookie').group()"
   ]
  },
  {
   "cell_type": "markdown",
   "id": "9ecfd450-dbde-4fe3-b18c-a4867126bfb8",
   "metadata": {},
   "source": [
    "`^` Signo de intercalación. Coincide con el inicio de la cadena.\n",
    "\n",
    "Resulta útil si desea asegurarse de que un documento o una frase comienza con determinados caracteres."
   ]
  },
  {
   "cell_type": "code",
   "execution_count": 6,
   "id": "0f75a325-d240-4d7b-8686-077edffc75b9",
   "metadata": {},
   "outputs": [
    {
     "data": {
      "text/plain": [
       "'Eat'"
      ]
     },
     "execution_count": 6,
     "metadata": {},
     "output_type": "execute_result"
    }
   ],
   "source": [
    "re.search(r'^Eat', \"Eat cake!\").group()\n",
    "\n",
    "## However, the code below will not give the same result. Try it for yourself:\n",
    "# re.search(r'^eat', \"Let's eat cake!\").group()"
   ]
  },
  {
   "cell_type": "markdown",
   "id": "627b7ec1-a6d7-4939-92cc-10333ea6f372",
   "metadata": {},
   "source": [
    "Sin embargo, el código siguiente no dará el mismo resultado"
   ]
  },
  {
   "cell_type": "code",
   "execution_count": 7,
   "id": "90c092d7-7c69-4781-98c0-032ea54c08ad",
   "metadata": {},
   "outputs": [
    {
     "ename": "AttributeError",
     "evalue": "'NoneType' object has no attribute 'group'",
     "output_type": "error",
     "traceback": [
      "\u001b[1;31m---------------------------------------------------------------------------\u001b[0m",
      "\u001b[1;31mAttributeError\u001b[0m                            Traceback (most recent call last)",
      "Cell \u001b[1;32mIn[7], line 1\u001b[0m\n\u001b[1;32m----> 1\u001b[0m \u001b[43mre\u001b[49m\u001b[38;5;241;43m.\u001b[39;49m\u001b[43msearch\u001b[49m\u001b[43m(\u001b[49m\u001b[38;5;124;43mr\u001b[39;49m\u001b[38;5;124;43m'\u001b[39;49m\u001b[38;5;124;43m^eat\u001b[39;49m\u001b[38;5;124;43m'\u001b[39;49m\u001b[43m,\u001b[49m\u001b[43m \u001b[49m\u001b[38;5;124;43m\"\u001b[39;49m\u001b[38;5;124;43mLet\u001b[39;49m\u001b[38;5;124;43m'\u001b[39;49m\u001b[38;5;124;43ms eat cake!\u001b[39;49m\u001b[38;5;124;43m\"\u001b[39;49m\u001b[43m)\u001b[49m\u001b[38;5;241;43m.\u001b[39;49m\u001b[43mgroup\u001b[49m()\n",
      "\u001b[1;31mAttributeError\u001b[0m: 'NoneType' object has no attribute 'group'"
     ]
    }
   ],
   "source": [
    "re.search(r'^eat', \"Let's eat cake!\").group()"
   ]
  },
  {
   "cell_type": "markdown",
   "id": "d32a2d17-229d-4b57-a341-d1dc3b9b9187",
   "metadata": {},
   "source": [
    "`$` Coincide con el final de la cadena.  \n",
    "\r\n",
    "Resulta útil si desea asegurarse de que un documento o una frase termina con determinados caracteres.s."
   ]
  },
  {
   "cell_type": "code",
   "execution_count": 8,
   "id": "330837e3-a190-43a6-af73-5e914131ce0c",
   "metadata": {},
   "outputs": [
    {
     "data": {
      "text/plain": [
       "'cake'"
      ]
     },
     "execution_count": 8,
     "metadata": {},
     "output_type": "execute_result"
    }
   ],
   "source": [
    "re.search(r'cake$', \"Cake! Let's eat cake\").group()\n",
    "\n",
    "## The next search will return the NONE value, try it:\n",
    "# re.search(r'cake$', \"Let's get some cake on our way home!\").group()"
   ]
  },
  {
   "cell_type": "markdown",
   "id": "ec044054-742d-4549-8e4d-652e064884af",
   "metadata": {},
   "source": [
    "La siguiente búsqueda devolverá el valor NONE."
   ]
  },
  {
   "cell_type": "code",
   "execution_count": 9,
   "id": "7e20f8ed-bf8e-485a-b127-1a58254aca66",
   "metadata": {},
   "outputs": [
    {
     "ename": "AttributeError",
     "evalue": "'NoneType' object has no attribute 'group'",
     "output_type": "error",
     "traceback": [
      "\u001b[1;31m---------------------------------------------------------------------------\u001b[0m",
      "\u001b[1;31mAttributeError\u001b[0m                            Traceback (most recent call last)",
      "Cell \u001b[1;32mIn[9], line 1\u001b[0m\n\u001b[1;32m----> 1\u001b[0m \u001b[43mre\u001b[49m\u001b[38;5;241;43m.\u001b[39;49m\u001b[43msearch\u001b[49m\u001b[43m(\u001b[49m\u001b[38;5;124;43mr\u001b[39;49m\u001b[38;5;124;43m'\u001b[39;49m\u001b[38;5;124;43mcake$\u001b[39;49m\u001b[38;5;124;43m'\u001b[39;49m\u001b[43m,\u001b[49m\u001b[43m \u001b[49m\u001b[38;5;124;43m\"\u001b[39;49m\u001b[38;5;124;43mLet\u001b[39;49m\u001b[38;5;124;43m'\u001b[39;49m\u001b[38;5;124;43ms get some cake on our way home!\u001b[39;49m\u001b[38;5;124;43m\"\u001b[39;49m\u001b[43m)\u001b[49m\u001b[38;5;241;43m.\u001b[39;49m\u001b[43mgroup\u001b[49m()\n",
      "\u001b[1;31mAttributeError\u001b[0m: 'NoneType' object has no attribute 'group'"
     ]
    }
   ],
   "source": [
    "re.search(r'cake$', \"Let's get some cake on our way home!\").group()"
   ]
  },
  {
   "cell_type": "markdown",
   "id": "8b59b7da-5f9e-4e78-8ed2-14465b477858",
   "metadata": {},
   "source": [
    "`[abc]` - Coincide con a o b o c.  \n",
    "\n",
    "`[a-zA-Z0-9]` - Coincide con cualquier letra de (a a z) o (A a Z) o (0 a 9)."
   ]
  },
  {
   "cell_type": "code",
   "execution_count": 11,
   "id": "7e4f9355-9578-45e6-883f-a088f6b7ad0c",
   "metadata": {},
   "outputs": [
    {
     "data": {
      "text/plain": [
       "'5'"
      ]
     },
     "execution_count": 11,
     "metadata": {},
     "output_type": "execute_result"
    }
   ],
   "source": [
    "re.search(r'[0-6]', 'Number: 5').group()"
   ]
  },
  {
   "cell_type": "code",
   "execution_count": null,
   "id": "b4280092-f157-43dd-be68-041910f3b859",
   "metadata": {},
   "outputs": [],
   "source": [
    "re.search(r'Number: [^5]', 'Number: 0').group()\n"
   ]
  },
  {
   "cell_type": "code",
   "execution_count": 13,
   "id": "c3b9e388-7bcc-414c-a845-6d7d8b71367c",
   "metadata": {},
   "outputs": [],
   "source": [
    "## Esto no coincidirá y por lo tanto se devolverá un valor NINGUNO\n"
   ]
  },
  {
   "cell_type": "code",
   "execution_count": 12,
   "id": "bbb94ae2-98e8-4f64-8a1c-deba52c4f1d5",
   "metadata": {},
   "outputs": [
    {
     "ename": "AttributeError",
     "evalue": "'NoneType' object has no attribute 'group'",
     "output_type": "error",
     "traceback": [
      "\u001b[1;31m---------------------------------------------------------------------------\u001b[0m",
      "\u001b[1;31mAttributeError\u001b[0m                            Traceback (most recent call last)",
      "Cell \u001b[1;32mIn[12], line 1\u001b[0m\n\u001b[1;32m----> 1\u001b[0m \u001b[43mre\u001b[49m\u001b[38;5;241;43m.\u001b[39;49m\u001b[43msearch\u001b[49m\u001b[43m(\u001b[49m\u001b[38;5;124;43mr\u001b[39;49m\u001b[38;5;124;43m'\u001b[39;49m\u001b[38;5;124;43mNumber: [^5]\u001b[39;49m\u001b[38;5;124;43m'\u001b[39;49m\u001b[43m,\u001b[49m\u001b[43m \u001b[49m\u001b[38;5;124;43m'\u001b[39;49m\u001b[38;5;124;43mNumber: 5\u001b[39;49m\u001b[38;5;124;43m'\u001b[39;49m\u001b[43m)\u001b[49m\u001b[38;5;241;43m.\u001b[39;49m\u001b[43mgroup\u001b[49m()\n",
      "\u001b[1;31mAttributeError\u001b[0m: 'NoneType' object has no attribute 'group'"
     ]
    }
   ],
   "source": [
    "re.search(r'Number: [^5]', 'Number: 5').group()"
   ]
  },
  {
   "cell_type": "markdown",
   "id": "0f6927e9-15d6-445c-9e31-ac835009ed70",
   "metadata": {},
   "source": [
    "`\\` - Barra diagonal inversa. ¡¡el metacarácter más diverso!!\n",
    "\n",
    "Si el carácter que sigue a la barra invertida es un carácter de escape reconocido, entonces se toma el significado especial del término (Escenario 1)  \n",
    "\n",
    "Si el carácter que sigue a la barra invertida no es un carácter de escape reconocido, entonces la barra invertida se trata como cualquier otro carácter y se pasa a través de él (Escenario 2).  \n",
    "\n",
    "Se puede utilizar \\ delante de todos los metacaracteres para eliminar su significado especial (Escenario 3).  \n"
   ]
  },
  {
   "cell_type": "code",
   "execution_count": 15,
   "id": "2bbedada-f4e1-404f-8535-93c865aab52c",
   "metadata": {},
   "outputs": [
    {
     "data": {
      "text/plain": [
       "'Not a regular character'"
      ]
     },
     "execution_count": 15,
     "metadata": {},
     "output_type": "execute_result"
    }
   ],
   "source": [
    "## (Escenario 1) Esto trata '\\s' como un carácter de escape, '\\s' define un espacio\n",
    "re.search(r'Not a\\sregular character', 'Not a regular character').group()"
   ]
  },
  {
   "cell_type": "code",
   "execution_count": 16,
   "id": "6c39f0e1-57ce-471e-ad00-af10683ae833",
   "metadata": {},
   "outputs": [
    {
     "data": {
      "text/plain": [
       "'Just a \\regular character'"
      ]
     },
     "execution_count": 16,
     "metadata": {},
     "output_type": "execute_result"
    }
   ],
   "source": [
    "## (Escenario 2) '\\' se trata como un carácter ordinario, porque '\\r' no es un carácter de escape reconocido.\n",
    "re.search(r'Just a \\regular character', 'Just a \\regular character').group()"
   ]
  },
  {
   "cell_type": "code",
   "execution_count": 17,
   "id": "ee2347f0-3404-4d94-9cf8-bb6102c8de3f",
   "metadata": {},
   "outputs": [
    {
     "data": {
      "text/plain": [
       "'Just a \\\\sregular character'"
      ]
     },
     "execution_count": 17,
     "metadata": {},
     "output_type": "execute_result"
    }
   ],
   "source": [
    "## (Escenario 3) '\\s' se escapa utilizando un `\\` extra por lo que se interpreta como una cadena literal '\\s'.\n",
    "re.search(r'Just a \\\\sregular character', 'Just a \\sregular character').group()"
   ]
  },
  {
   "cell_type": "markdown",
   "id": "a0d32ff5-5f06-44b7-90d7-0bd991dbba8e",
   "metadata": {},
   "source": [
    "Existe un conjunto predefinido de secuencias especiales que empiezan por '\\' y que también son muy útiles a la hora de realizar búsquedas y coincidencias. Veamos algunas de ellas de cerca...\n",
    "\n",
    "`\\w` - 'w' minúscula. Coincide con cualquier letra, dígito o guión bajo.  \n",
    "\n",
    "`\\W` - \"W\" mayúscula. Coincide con cualquier carácter que no forme parte de \\w (w minúscula)."
   ]
  },
  {
   "cell_type": "code",
   "execution_count": 19,
   "id": "7e7bf51f-9004-4d1f-8a5d-5defe6b934af",
   "metadata": {},
   "outputs": [
    {
     "name": "stdout",
     "output_type": "stream",
     "text": [
      "Lowercase w: Cookie\n",
      "Uppercase W: C@ke\n",
      "Uppercase W won't match, and return: None\n"
     ]
    }
   ],
   "source": [
    "print(\"Lowercase w:\", re.search(r'Co\\wk\\we', 'Cookie').group())\n",
    "\n",
    "## Coincide con cualquier carácter excepto una letra, un dígito o un guión bajo.\n",
    "print(\"Uppercase W:\", re.search(r'C\\Wke', 'C@ke').group())\n",
    "\n",
    "## La W mayúscula no coincide con una sola letra o  dígito\n",
    "print(\"Uppercase W won't match, and return:\", re.search(r'Co\\Wk\\We', 'Cookie'))"
   ]
  },
  {
   "cell_type": "markdown",
   "id": "43a41154-8006-44df-89b3-48fec0308cd4",
   "metadata": {},
   "source": [
    "`\\s` - 's' minúscula. Coincide con un único carácter de espacio en blanco como: espacio, nueva línea, tabulador, retorno.\n",
    "\n",
    "`\\S` - 'S' Mayúscula. Coincide con cualquier carácter que no forme parte de \\s (s minúscula).."
   ]
  },
  {
   "cell_type": "code",
   "execution_count": 20,
   "id": "d6d2aa59-85d8-4cab-bd23-340c42e19040",
   "metadata": {},
   "outputs": [
    {
     "name": "stdout",
     "output_type": "stream",
     "text": [
      "Lowercase s: Eat cake\n",
      "Uppercase S: cookie\n"
     ]
    }
   ],
   "source": [
    "print(\"Lowercase s:\", re.search(r'Eat\\scake', 'Eat cake').group())\n",
    "print(\"Uppercase S:\", re.search(r'cook\\Se', \"Let's eat cookie\").group())"
   ]
  },
  {
   "cell_type": "markdown",
   "id": "3fa0d164-740f-40df-adf0-a58a8e2e1ad5",
   "metadata": {},
   "source": [
    "`\\d` - d minuscula. Coincide con un dígito decimal entre 0-9. \n",
    "\n",
    "`\\D` - D Mayúscula. Coincide con cualquier carácter que no sea un dígito decimal."
   ]
  },
  {
   "cell_type": "code",
   "execution_count": 21,
   "id": "82582a99-1711-4861-a036-db820f60cea5",
   "metadata": {},
   "outputs": [
    {
     "name": "stdout",
     "output_type": "stream",
     "text": [
      "How many cookies do you want?  100\n"
     ]
    }
   ],
   "source": [
    "# Ejemplo para \\d\n",
    "print(\"How many cookies do you want? \", re.search(r'\\d+', '100 cookies').group())"
   ]
  },
  {
   "cell_type": "markdown",
   "id": "aae08b87-2502-4cd8-a04d-813e656e2696",
   "metadata": {},
   "source": [
    "El símbolo `+` utilizado después de la `\\d` en el ejemplo anterior se utiliza para la repetición. \n",
    "\n",
    "`\\t` - T minúscula. Coincide con el tabulador.  \n",
    "\n",
    "`\\n` - N minúscula. Coincide con la nueva línea.  \n",
    "\n",
    "`\\r` - R minúscula. Coincide con retorno.  \n",
    "\n",
    "`\\A` - A mayúscula. Coincide sólo con el inicio de la cadena. También funciona en varias líneas.  \n",
    "\n",
    "`\\Z` - Z mayúscula. Coincide sólo con el final de la cadena.  \n",
    "\n",
    "CONSEJO: `^` y `\\A` son efectivamente lo mismo, y también lo son `$` y `\\Z`. Excepto cuando se trata del modo MULTILINEAL.   \n",
    "\n",
    "\n",
    "`\\b` - B minúscula. Coincide sólo con el principio o el final de la palabra."
   ]
  },
  {
   "cell_type": "code",
   "execution_count": 23,
   "id": "9b05d3b2-e41a-4a7b-b83e-132bc7b54ed8",
   "metadata": {},
   "outputs": [
    {
     "name": "stdout",
     "output_type": "stream",
     "text": [
      "\\t (TAB) example:  Eat\tcake\n",
      "\\b match gives:  Cookie\n"
     ]
    }
   ],
   "source": [
    "# Ejemplo para \\t\n",
    "print(\"\\\\t (TAB) example: \", re.search(r'Eat\\tcake', 'Eat\tcake').group())\n",
    "\n",
    "# Ejemplo para \\b\n",
    "print(\"\\\\b match gives: \",re.search(r'\\b[A-E]ookie', 'Cookie').group())"
   ]
  },
  {
   "cell_type": "markdown",
   "id": "a96b3ec9-d867-4b01-8435-7e9249e65a79",
   "metadata": {},
   "source": [
    "**Repeticiones**"
   ]
  },
  {
   "cell_type": "markdown",
   "id": "67a64569-d517-4813-9d3f-0b8b2eb8ecd5",
   "metadata": {},
   "source": [
    "Resulta bastante tedioso si lo que se busca es encontrar patrones largos en una secuencia. Afortunadamente, el módulo re gestiona las repeticiones mediante los siguientes caracteres especiales:  \n",
    "\n",
    "`+` :  Comprueba si el carácter precedente aparece una o más veces a partir de esa posición."
   ]
  },
  {
   "cell_type": "code",
   "execution_count": 24,
   "id": "f73e3c6f-efd0-4165-a533-819f84ce1e56",
   "metadata": {},
   "outputs": [
    {
     "data": {
      "text/plain": [
       "'Cooookie'"
      ]
     },
     "execution_count": 24,
     "metadata": {},
     "output_type": "execute_result"
    }
   ],
   "source": [
    "re.search(r'Co+kie', 'Cooookie').group()"
   ]
  },
  {
   "cell_type": "markdown",
   "id": "6819ab5b-0ec1-462b-ae30-c42b79272e78",
   "metadata": {},
   "source": [
    "`*`: Comprueba si el carácter precedente aparece cero o más veces a partir de esa posición."
   ]
  },
  {
   "cell_type": "code",
   "execution_count": 25,
   "id": "681ea7de-e926-46e1-88c9-db2161c164a5",
   "metadata": {},
   "outputs": [
    {
     "data": {
      "text/plain": [
       "'Cookie'"
      ]
     },
     "execution_count": 25,
     "metadata": {},
     "output_type": "execute_result"
    }
   ],
   "source": [
    "# Busca cualquier aparición de 'a' u 'o' o ambas en la secuencia dada\n",
    "re.search(r'Ca*o*kie', 'Cookie').group()"
   ]
  },
  {
   "cell_type": "markdown",
   "id": "331b1674-310f-4239-bf03-59e98d937a68",
   "metadata": {},
   "source": [
    "`?`: Comprueba si el carácter precedente aparece exactamente cero o una vez a partir de esa posición."
   ]
  },
  {
   "cell_type": "code",
   "execution_count": 26,
   "id": "a520fec0-b42a-4d6d-b0b0-683961a49898",
   "metadata": {},
   "outputs": [
    {
     "data": {
      "text/plain": [
       "'Color'"
      ]
     },
     "execution_count": 26,
     "metadata": {},
     "output_type": "execute_result"
    }
   ],
   "source": [
    "# Busca exactamente cero o una ocurrencia de 'a' u 'o' o ambos en la secuencia dada\n",
    "re.search(r'Colou?r', 'Color').group()"
   ]
  },
  {
   "cell_type": "markdown",
   "id": "a4e225cb-0f1f-474d-bfe4-e385a0541530",
   "metadata": {},
   "source": [
    "¿Pero qué pasa si quieres comprobar un número exacto de repeticiones de secuencia?  \n",
    "\n",
    "\n",
    "Por ejemplo, comprobar la validez de un número de teléfono en una aplicación. El módulo `re` maneja esto muy elegantemente también usando las siguientes expresiones regulares:  \n",
    "\n",
    "\n",
    "`{x}` - Se repite exactamente x número de veces.  \n",
    "\n",
    "`{x,}` - Repetir al menos x veces o más.  \n",
    "\n",
    "`{x, y}` - Repetir al menos x veces pero no más de y veces."
   ]
  },
  {
   "cell_type": "code",
   "execution_count": 27,
   "id": "ca6496cf-d474-429f-8651-5edbc6f54793",
   "metadata": {},
   "outputs": [
    {
     "data": {
      "text/plain": [
       "'0987654321'"
      ]
     },
     "execution_count": 27,
     "metadata": {},
     "output_type": "execute_result"
    }
   ],
   "source": [
    "re.search(r'\\d{9,10}', '0987654321').group()"
   ]
  },
  {
   "cell_type": "markdown",
   "id": "d9f622af-81ab-44a5-b4da-fad337ba050a",
   "metadata": {},
   "source": [
    "Se dice que los calificadores `+` y `*` son codiciosos (greedy). Esto se verá más adelante."
   ]
  },
  {
   "cell_type": "markdown",
   "id": "c1f6bb67-7dbf-4048-a0e2-ed9fcca98d7e",
   "metadata": {},
   "source": [
    "**Grouping in Regular Expressions**"
   ]
  },
  {
   "cell_type": "markdown",
   "id": "e8c2011f-9d50-4dfc-a25c-1a8b5e9187eb",
   "metadata": {},
   "source": [
    "La función `group()` de la expresión regular permite seleccionar partes del texto coincidente. Las partes de un patrón de expresión regular delimitadas por paréntesis () se denominan grupos. El paréntesis no cambia lo que coincide con la expresión, sino que forma grupos dentro de la secuencia coincidente. Usted ha estado utilizando la función `group()` a lo largo de los ejemplos anteriores. La función simple `match.group()` sin ningún argumento sigue siendo todo el texto coincidente como siempre.\r\n",
    "\r\n",
    "Vamos a entender este concepto con un ejemplo sencillo. Imagina que estás validando direcciones de correo electrónico y quieres comprobar el nombre de usuario y el host. Aquí es cuando querría crear grupos separados dentro de su texto coincidente."
   ]
  },
  {
   "cell_type": "code",
   "execution_count": 32,
   "id": "814ac489-1428-4d47-87b4-9d9d3772ca20",
   "metadata": {},
   "outputs": [
    {
     "name": "stdout",
     "output_type": "stream",
     "text": [
      "Dirección Email : support@company.com\n",
      "Nombre de usuario: support\n",
      "Host: company.com\n"
     ]
    }
   ],
   "source": [
    "statement = 'Please contact us at: support@company.com'\n",
    "match = re.search(r'([\\w\\.-]+)@([\\w\\.-]+)', statement)\n",
    "\n",
    "if statement:\n",
    "  print(\"Dirección Email :\", match.group()) # Todo el texto coincidente\n",
    "  print(\"Nombre de usuario:\", match.group(1)) # El nombre de usuario (grupo 1)\n",
    "  print(\"Host:\", match.group(2)) # El 'Host'(group 2)"
   ]
  },
  {
   "cell_type": "markdown",
   "id": "4e79d586-8d73-4a29-8e93-86bd2788d17e",
   "metadata": {},
   "source": [
    "Otra forma de hacer lo mismo es utilizando en su lugar corchetes `<>`. Esto le permitirá crear grupos con nombre. Los grupos con nombre harán que tu código sea más legible. La sintaxis para crear grupos con nombre es: `(?P<name>...)`. Sustituye la parte del name por el nombre que quieras darle a tu grupo. Los `...` representan el resto de la sintaxis de correspondencia. Veamos esto en acción usando el mismo ejemplo de antes..."
   ]
  },
  {
   "cell_type": "code",
   "execution_count": 33,
   "id": "6b87bc3d-88ce-4c93-9024-a2e38b9171f1",
   "metadata": {},
   "outputs": [
    {
     "name": "stdout",
     "output_type": "stream",
     "text": [
      "Email address: support@company.com\n",
      "Username: support\n",
      "Host: company.com\n"
     ]
    }
   ],
   "source": [
    "statement = 'Please contact us at: support@company.com'\n",
    "match = re.search(r'(?P<email>(?P<username>[\\w\\.-]+)@(?P<host>[\\w\\.-]+))', statement)\n",
    "if statement:\n",
    "  print(\"Email address:\", match.group('email'))\n",
    "  print(\"Username:\", match.group('username'))\n",
    "  print(\"Host:\", match.group('host'))"
   ]
  },
  {
   "cell_type": "markdown",
   "id": "5c4494aa-7cf4-4a0b-8149-fd9508c9c58e",
   "metadata": {},
   "source": [
    "**Emparejamiento codicioso (Greedy Matching) frente a no codicioso (Non-Greedy Matching)**"
   ]
  },
  {
   "cell_type": "markdown",
   "id": "95a2f28b-03cf-4dfb-873c-20b7c7ada960",
   "metadata": {},
   "source": [
    "Cuando un carácter especial coincide con la mayor parte posible de la secuencia de búsqueda (cadena), se dice que es una \"Coincidencia codiciosa\". Es el comportamiento normal de una expresión regular, pero a veces no se desea este comportamiento:"
   ]
  },
  {
   "cell_type": "code",
   "execution_count": 34,
   "id": "bf02f94a-49dc-4bcf-8f0a-04e7aab0c6af",
   "metadata": {},
   "outputs": [
    {
     "data": {
      "text/plain": [
       "'<h1>TITLE</h1>'"
      ]
     },
     "execution_count": 34,
     "metadata": {},
     "output_type": "execute_result"
    }
   ],
   "source": [
    "pattern = \"cookie\"\n",
    "sequence = \"Cake and cookie\"\n",
    "\n",
    "heading  = r'<h1>TITLE</h1>'\n",
    "re.match(r'<.*>', heading).group()"
   ]
  },
  {
   "cell_type": "markdown",
   "id": "9c5fc41c-a553-43a0-a1ad-f0e447ebd6ed",
   "metadata": {},
   "source": [
    "El patrón `<.*>` coincide con toda la cadena, hasta la segunda aparición de  `>`.  \n",
    "\n",
    "\n",
    "Sin embargo, si sólo quería que coincidiera con la primera etiqueta `<h1>`, podría haber utilizado el calificador codicioso `*?` que coincide con la menor cantidad de texto posible.\n",
    "\n",
    "La adición de `?` después del calificador hace que la coincidencia se realice de forma mínima; es decir, se coincidirá con el menor número posible de caracteres. Si ejecuta `<.*>`, sólo obtendrá una coincidencia con `<h1>`."
   ]
  },
  {
   "cell_type": "code",
   "execution_count": 35,
   "id": "fcd4f5da-bd87-48cd-b7ea-bc6ed61b3c70",
   "metadata": {},
   "outputs": [
    {
     "data": {
      "text/plain": [
       "'<h1>'"
      ]
     },
     "execution_count": 35,
     "metadata": {},
     "output_type": "execute_result"
    }
   ],
   "source": [
    "heading  = r'<h1>TITLE</h1>'\n",
    "re.match(r'<.*?>', heading).group()"
   ]
  },
  {
   "cell_type": "markdown",
   "id": "2fe923ab-94c3-4388-99e2-8af4845f8254",
   "metadata": {},
   "source": [
    "**Tabla resumen**"
   ]
  },
  {
   "cell_type": "markdown",
   "id": "3da3f9ee-f997-42a9-bec1-54b023fa7cd6",
   "metadata": {},
   "source": [
    "La siguiente tabla resume todo lo que ha visto hasta ahora en este notebook.  \n",
    "\n",
    "\n",
    "Este notebook no discute todas las secuencias especiales provistas en Python. Consulta la referencia de la  [Biblioteca Estándar](https://docs.python.org/3/library/re.html#re-syntax) para una lista completa.\n",
    "\n",
    "| Character(s)   | What it does     |\r\n",
    "| :------------- |:---------- |\r\n",
    "| . | A period. Matches any single character except the newline character.   |\r\n",
    "| ^ | A caret. Matches a pattern at the start of the string.  |\r\n",
    "| \\A | Uppercase A. Matches only at the start of the string. |\r\n",
    "| $  | Dollar sign. Matches the end of the string.  |\r\n",
    "| \\Z | Uppercase Z. Matches only at the end of the string. |\r\n",
    "| [ ]  | Matches the set of characters you specify within it.  |\r\n",
    "| \\  | ∙ If the character following the backslash is a recognized escape character, then the special meaning of the term is taken. <br> ∙ Else the backslash (\\) is treated like any other character and passed through. <br> ∙ It can be used in front of all the metacharacters to remove their special meaning. |\r\n",
    "| \\w | Lowercase w. Matches any single letter, digit, or underscore. |\r\n",
    "| \\W | Uppercase W. Matches any character not part of `\\w` (lowercase w). |\r\n",
    "| \\s | Lowercase s. Matches a single whitespace character like: space, newline, tab, return. |\r\n",
    "| \\S | Uppercase S. Matches any character not part of `\\s` (lowercase s). |\r\n",
    "| \\d | Lowercase d. Matches decimal digit 0-9. |\r\n",
    "| \\D | Uppercase D. Matches any character that is not a decimal digit. |\r\n",
    "| \\t | Lowercase t. Matches tab.|\r\n",
    "| \\n | Lowercase n. Matches newline.|\r\n",
    "| \\r | Lowercase r. Matches return. |\r\n",
    "| \\b | Lowercase b. Matches only the beginning or end of the word. |\r\n",
    "| + | Checks if the preceding character appears one or more times. |\r\n",
    "| * | Checks if the preceding character appears zero or more times. |\r\n",
    "| ? | ∙ Checks if the preceding character appears exactly zero or one time. <br> ∙ Specifies a non-greedy version of +, * |\r\n",
    "| { } | Checks for an explicit number of times. |\r\n",
    "| ( ) | Creates a group when performing matches. |\r\n",
    "| < > | Creates a named group when performing matches. |n performing matches. |\r\n"
   ]
  },
  {
   "cell_type": "markdown",
   "id": "b8a3f4a5-b6e1-40b3-b6d0-25fa3c9365e9",
   "metadata": {},
   "source": [
    "**Funciones proporcionadas por el módulo \"re\"** "
   ]
  },
  {
   "cell_type": "markdown",
   "id": "25208ef6-024d-432a-84f2-0288fa973391",
   "metadata": {},
   "source": [
    "`compile(pattern, flags=0)`"
   ]
  },
  {
   "cell_type": "markdown",
   "id": "a780379b-a51c-4043-96a7-46b4c0b17251",
   "metadata": {},
   "source": [
    "Las expresiones regulares son manejadas como cadenas por Python. Sin embargo, con `compile()`, puede computar un patrón de expresión regular en un objeto de expresión regular. Cuando necesite utilizar una expresión varias veces en un mismo programa, utilizar `compile()` para guardar el objeto de expresión regular resultante para su reutilización es más eficiente que guardarlo como una cadena. Esto se debe a que se almacenan en caché las versiones compiladas de los patrones más recientes pasados a `compile()` y las funciones de coincidencia a nivel de módulo."
   ]
  },
  {
   "cell_type": "code",
   "execution_count": 37,
   "id": "517cc7dd-1cb0-4c21-a896-4b408971aaa4",
   "metadata": {},
   "outputs": [
    {
     "data": {
      "text/plain": [
       "'cookie'"
      ]
     },
     "execution_count": 37,
     "metadata": {},
     "output_type": "execute_result"
    }
   ],
   "source": [
    "pattern = re.compile(r\"cookie\")\n",
    "sequence = \"Cake and cookie\"\n",
    "pattern.search(sequence).group()"
   ]
  },
  {
   "cell_type": "code",
   "execution_count": 38,
   "id": "49fa1852-11fa-44e5-a98b-665b9b4a9e39",
   "metadata": {},
   "outputs": [
    {
     "data": {
      "text/plain": [
       "'cookie'"
      ]
     },
     "execution_count": 38,
     "metadata": {},
     "output_type": "execute_result"
    }
   ],
   "source": [
    "# Esto es equivalente a:\n",
    "re.search(pattern, sequence).group()"
   ]
  },
  {
   "cell_type": "markdown",
   "id": "8b1313ab-2799-4c4f-b30d-cc28e98603f0",
   "metadata": {},
   "source": [
    "`search(pattern, string, flags=0)`"
   ]
  },
  {
   "cell_type": "markdown",
   "id": "1806d4c1-5892-4a6f-af60-2b4dd7ab7b3b",
   "metadata": {},
   "source": [
    "Con esta función, se recorre la cadena/secuencia dada, buscando la primera posición en la que la expresión regular produce una coincidencia. Devuelve un objeto coincidente si lo encuentra, o devuelve None si ninguna posición de la cadena coincide con el patrón. Tenga en cuenta que None es diferente de encontrar una coincidencia de longitud cero en algún punto de la cadena."
   ]
  },
  {
   "cell_type": "code",
   "execution_count": 39,
   "id": "6bfd1c0d-618a-4393-85c8-83cc4aa720a1",
   "metadata": {},
   "outputs": [
    {
     "data": {
      "text/plain": [
       "<re.Match object; span=(9, 15), match='cookie'>"
      ]
     },
     "execution_count": 39,
     "metadata": {},
     "output_type": "execute_result"
    }
   ],
   "source": [
    "pattern = \"cookie\"\n",
    "sequence = \"Cake and cookie\"\n",
    "\n",
    "re.search(pattern, sequence)"
   ]
  },
  {
   "cell_type": "markdown",
   "id": "a5653e6a-acca-49f2-b3dd-f3693363abb5",
   "metadata": {},
   "source": [
    "`match(pattern, string, flags=0)`"
   ]
  },
  {
   "cell_type": "markdown",
   "id": "b866f469-c69c-49f9-8a69-1db2a986472c",
   "metadata": {},
   "source": [
    "Devuelve el objeto coincidente correspondiente si cero o más caracteres al principio de la cadena coinciden con el patrón. En caso contrario, devuelve None, si la cadena no coincide con el patrón dado."
   ]
  },
  {
   "cell_type": "code",
   "execution_count": 40,
   "id": "52e14b0b-f21b-4c07-8e60-533b6553be17",
   "metadata": {},
   "outputs": [
    {
     "name": "stdout",
     "output_type": "stream",
     "text": [
      "Sequence 1:  None\n",
      "Sequence 2:  C\n"
     ]
    }
   ],
   "source": [
    "pattern = \"C\"\n",
    "sequence1 = \"IceCream\"\n",
    "sequence2 = \"Cake\"\n",
    "\n",
    "# No match since \"C\" is not at the start of \"IceCream\"\n",
    "print(\"Sequence 1: \", re.match(pattern, sequence1))\n",
    "print(\"Sequence 2: \", re.match(pattern,sequence2).group())"
   ]
  },
  {
   "cell_type": "markdown",
   "id": "fdea6114-319c-4699-879a-44aec3d17107",
   "metadata": {},
   "source": [
    "`search() versus match()`"
   ]
  },
  {
   "cell_type": "markdown",
   "id": "4ea400b0-ea27-427b-8e16-bc717d0fbd0f",
   "metadata": {},
   "source": [
    "La función `match()` busca una coincidencia sólo al principio de la cadena (por defecto), mientras que la función `search()` busca una coincidencia en cualquier parte de la cadena."
   ]
  },
  {
   "cell_type": "markdown",
   "id": "a183c965-cc5d-4f6e-b0cb-ec013db4222f",
   "metadata": {},
   "source": [
    "`findall(pattern, string, flags=0)`"
   ]
  },
  {
   "cell_type": "markdown",
   "id": "7f30251c-2b1e-4e56-b390-4c7ad8b2bf5f",
   "metadata": {},
   "source": [
    "Busca todas las coincidencias posibles en la secuencia completa y las devuelve como una lista de cadenas. Cada cadena devuelta representa una coincidencia."
   ]
  },
  {
   "cell_type": "code",
   "execution_count": 41,
   "id": "26690d14-5e55-43a5-a732-3c3da422ac3d",
   "metadata": {},
   "outputs": [
    {
     "name": "stdout",
     "output_type": "stream",
     "text": [
      "support@company.com\n",
      "xyz@company.com\n"
     ]
    }
   ],
   "source": [
    "statement = \"Please contact us at: support@company.com, xyz@company.com\"\n",
    "\n",
    "#'addresses' es una lista que almacena todas las posibles coincidencias\n",
    "addresses = re.findall(r'[\\w\\.-]+@[\\w\\.-]+', statement)\n",
    "for address in addresses:\n",
    "    print(address)"
   ]
  },
  {
   "cell_type": "markdown",
   "id": "411fee72-653b-494f-82a2-8b2b4daa6d94",
   "metadata": {},
   "source": [
    "`finditer(string, [position, end_position])`"
   ]
  },
  {
   "cell_type": "markdown",
   "id": "c007dfc5-23b3-4853-b391-77d0a54f822a",
   "metadata": {},
   "source": [
    "Similar a `findall()` - encuentra todas las coincidencias posibles en toda la secuencia, pero devuelve objetos de coincidencia regex como un iterador."
   ]
  },
  {
   "cell_type": "markdown",
   "id": "a33b193f-dd13-42d9-a726-e6ca57c431ab",
   "metadata": {},
   "source": [
    "`finditer()` puede ser una excelente opción cuando desee que se le devuelva más información sobre su búsqueda. El objeto de coincidencia regex devuelto contiene no sólo la secuencia que coincidió, sino también sus posiciones en el texto original."
   ]
  },
  {
   "cell_type": "code",
   "execution_count": 42,
   "id": "493c779f-01ef-4fd3-9f8f-c845c13008a0",
   "metadata": {},
   "outputs": [
    {
     "name": "stdout",
     "output_type": "stream",
     "text": [
      "<re.Match object; span=(22, 41), match='support@company.com'>\n",
      "<re.Match object; span=(43, 58), match='xyz@company.com'>\n"
     ]
    }
   ],
   "source": [
    "statement = \"Please contact us at: support@company.com, xyz@company.com\"\n",
    "\n",
    "#'addresses' is a list that stores all the possible match\n",
    "addresses = re.finditer(r'[\\w\\.-]+@[\\w\\.-]+', statement)\n",
    "for address in addresses:\n",
    "    print(address)"
   ]
  },
  {
   "cell_type": "markdown",
   "id": "c1c302b7-d875-4fdd-bb78-35f1b7917630",
   "metadata": {},
   "source": [
    "`sub(pattern, repl, string, count=0, flags=0)`  \n",
    "\n",
    "`subn(pattern, repl, string, count=0)`"
   ]
  },
  {
   "cell_type": "markdown",
   "id": "b4fe8638-1360-4837-9e17-539329c7fe29",
   "metadata": {},
   "source": [
    "`sub()` es la función de sustitución. Devuelve la cadena obtenida reemplazando o sustituyendo las apariciones no solapadas (non-overlapping) más a la izquierda del patrón en la cadena por la sustitución `repl`. Si no se encuentra el patrón, la cadena se devuelve 'unchanged' ."
   ]
  },
  {
   "cell_type": "markdown",
   "id": "1ba9545a-6818-486a-9c80-9b7765d8761b",
   "metadata": {},
   "source": [
    "La función `subn()` es similar a `sub()`. Sin embargo, devuelve una tupla que contiene el nuevo valor de cadena y el número de sustituciones que se realizaron en la sentencia."
   ]
  },
  {
   "cell_type": "code",
   "execution_count": 44,
   "id": "05903570-74e7-4ddc-9501-4571d2af2642",
   "metadata": {},
   "outputs": [
    {
     "name": "stdout",
     "output_type": "stream",
     "text": [
      "Please contact us at: support@datacamp.com\n"
     ]
    }
   ],
   "source": [
    "statement = \"Please contact us at: xyz@company.com\"\n",
    "new_email_address = re.sub(r'([\\w\\.-]+)@([\\w\\.-]+)', r'support@datacamp.com', statement)\n",
    "print(new_email_address)"
   ]
  },
  {
   "cell_type": "markdown",
   "id": "e41474a9-b861-46ef-bbce-da0ad73b3531",
   "metadata": {},
   "source": [
    "`split(string, [maxsplit = 0])`"
   ]
  },
  {
   "cell_type": "markdown",
   "id": "c3db8eb8-5ca3-4df7-9223-6acc51e6b9bf",
   "metadata": {},
   "source": [
    "Divide las cadenas donde coincide el patrón y devuelve una lista. Si el argumento opcional `maxsplit` es distinto de cero, se realiza el número máximo 'maxsplit' de divisiones."
   ]
  },
  {
   "cell_type": "code",
   "execution_count": 45,
   "id": "bc2d88ad-31b6-4702-8a7b-f712f313d339",
   "metadata": {},
   "outputs": [
    {
     "name": "stdout",
     "output_type": "stream",
     "text": [
      "['Please contact us at', ' xyz@company.com', ' support@company.com']\n"
     ]
    }
   ],
   "source": [
    "statement = \"Please contact us at: xyz@company.com, support@company.com\"\n",
    "pattern = re.compile(r'[:,]')\n",
    "\n",
    "address = pattern.split(statement)\n",
    "print(address)"
   ]
  },
  {
   "cell_type": "markdown",
   "id": "2c11fd14-26fe-4734-abbe-5316529acffd",
   "metadata": {},
   "source": [
    "`start()` - Devuelve el índice inicial de la coincidencia..  \n",
    "\n",
    "`end()` - Devuelve el índice donde termina la coincidencia.  \n",
    "\n",
    "`span()` - Devuelve una tupla que contiene las posiciones (start, end) de la coincidencia.  \n"
   ]
  },
  {
   "cell_type": "code",
   "execution_count": 46,
   "id": "ae634ae2-2a64-4fa8-ae33-47426ce4844c",
   "metadata": {},
   "outputs": [
    {
     "name": "stdout",
     "output_type": "stream",
     "text": [
      "Start index: 11\n",
      "End index: 17\n",
      "Tuple: (11, 17)\n"
     ]
    }
   ],
   "source": [
    "pattern = re.compile('COOKIE', re.IGNORECASE)\n",
    "match = pattern.search(\"I am not a cookie monster\")\n",
    "\n",
    "print(\"Start index:\", match.start())\n",
    "print(\"End index:\", match.end())\n",
    "print(\"Tuple:\", match.span())"
   ]
  },
  {
   "cell_type": "markdown",
   "id": "491ef9c4-480e-4bf2-a012-39007966b9a2",
   "metadata": {},
   "source": [
    "**Banderas de compilación**"
   ]
  },
  {
   "cell_type": "markdown",
   "id": "0156e095-8fea-4791-a445-0b6bfa4a9f53",
   "metadata": {},
   "source": [
    "El comportamiento de una expresión puede modificarse especificando un valor de bandera (flag value). Puedes añadir flags como argumento extra a las diferentes funciones que has visto en este notebook. Algunas de las más útiles son:"
   ]
  },
  {
   "cell_type": "markdown",
   "id": "803446da-a017-4668-82d0-f000eee599f3",
   "metadata": {},
   "source": [
    "`IGNORECASE (I)` - Permite coincidencias sin distinción entre mayúsculas y minúsculas.  \n",
    "\n",
    "`DOTALL (S)` - Permite que . coincida con cualquier carácter, incluida la nueva línea.  \n",
    "\n",
    "`MULTILINE (M)` - Permite que el anclaje de inicio de cadena `(^)` y de fin de cadena ($) coincida también con nuevas líneas.  \n",
    "\n",
    "`VERBOSE (X)` - Permite escribir espacios en blanco y comentarios dentro de una expresión regular para hacerla más legible."
   ]
  },
  {
   "cell_type": "code",
   "execution_count": 50,
   "id": "8b4fede1-248c-41ff-806c-2e7c51df55d6",
   "metadata": {},
   "outputs": [
    {
     "name": "stdout",
     "output_type": "stream",
     "text": [
      "Address:  support@company.com\n",
      "Address:  xyz@COMPANY.com\n"
     ]
    }
   ],
   "source": [
    "statement = \"Please contact us at: support@company.com, xyz@COMPANY.com\"\n",
    "\n",
    "# El uso de la bandera VERBOSE ayuda a comprender expresiones regulares complejas\n",
    "pattern = re.compile(r\"\"\"\n",
    "[\\w\\.-]+ #First part\n",
    "@ #Matches @ sign within email addresses\n",
    "company.com #Domain\n",
    "\"\"\", re.X | re.I)\n",
    "\n",
    "addresses = re.findall(pattern, statement)                       \n",
    "for address in addresses:\n",
    "    print(\"Address: \", address)"
   ]
  },
  {
   "cell_type": "markdown",
   "id": "e81d6af1-85c6-4daf-ade7-232be556e6d7",
   "metadata": {},
   "source": [
    "También puede combinar varias banderas utilizando bitwise OR |."
   ]
  },
  {
   "cell_type": "markdown",
   "id": "8583de0c-296f-4a16-833b-3981af497abc",
   "metadata": {},
   "source": [
    "**Ejercicio**"
   ]
  },
  {
   "cell_type": "markdown",
   "id": "7397a997-8163-4ddf-8431-d5842ef4a17e",
   "metadata": {},
   "source": [
    "Trabajarás con la primera parte de un libro electrónico gratuito titulado \"The idiot\", escrito por Fiódor Dostoyevski desde el Proyecto Gutenberg. La novela trata sobre el príncipe (Knyaz) Lev Nikoláievich Myshkin, un hombre ingenuo cuyo carácter bueno, amable y sencillo hace creer erróneamente a muchos que carece de inteligencia y perspicacia. El título es una referencia irónica a este joven.\n",
    "\n",
    "Deberás escribir algunas expresiones regulares para analizar el texto y completar algunos ejercicios."
   ]
  },
  {
   "cell_type": "code",
   "execution_count": 52,
   "id": "dfffb8bf-75f7-4814-a414-70baef2f4f5c",
   "metadata": {},
   "outputs": [],
   "source": [
    "import re\n",
    "import requests\n",
    "the_idiot_url = 'https://www.gutenberg.org/files/2638/2638-0.txt'\n",
    "\n",
    "def get_book(url):\n",
    "    # Envía una petición http para obtener el texto del proyecto Gutenberg\n",
    "    raw = requests.get(url).text\n",
    "    # Descarta los metadatos del principio del libro\n",
    "    start = re.search(r\"\\*\\*\\* START OF THE PROJECT GUTENBERG EBOOK THE IDIOT.* \\*\\*\\*\",raw ).end()\n",
    "    # Descarta el texto que inicia en la Parte 2 del libro\n",
    "    stop = re.search(r\"II\", raw).start()\n",
    "    # Mantiene el texto relevante\n",
    "    text = raw[start:stop]\n",
    "    return text\n",
    "\n",
    "def preprocess(sentence):\n",
    "    return re.sub('[^A-Za-z0-9.]+' , ' ', sentence).lower()\n",
    "\n",
    "book = get_book(the_idiot_url)\n",
    "processed_book = preprocess(book)"
   ]
  },
  {
   "cell_type": "code",
   "execution_count": 53,
   "id": "a54ac0ca-c1c4-47b0-a0a0-5ce79b5d0b5b",
   "metadata": {},
   "outputs": [
    {
     "name": "stdout",
     "output_type": "stream",
     "text": [
      " the idiot by fyodor dostoyevsky translated by eva martin contents part i part \n"
     ]
    }
   ],
   "source": [
    "# Descomenta el código siguiente para ver processed_book\n",
    "\n",
    "# print(processed_book)"
   ]
  },
  {
   "cell_type": "markdown",
   "id": "59f0ccf1-627d-439c-b666-7c25a15110e1",
   "metadata": {},
   "source": [
    "- Encuentre el número de palabras \"the\" en el corpus. Sugerencia: Utilice la función `len()`."
   ]
  },
  {
   "cell_type": "code",
   "execution_count": 54,
   "id": "2efb0a7b-03bb-41b5-8a09-c8255cce5d9b",
   "metadata": {},
   "outputs": [
    {
     "data": {
      "text/plain": [
       "1"
      ]
     },
     "execution_count": 54,
     "metadata": {},
     "output_type": "execute_result"
    }
   ],
   "source": [
    "len(re.findall(r'the', processed_book))"
   ]
  },
  {
   "cell_type": "markdown",
   "id": "ab15a462-5c4e-4454-a40a-7da4ae2dfbf0",
   "metadata": {},
   "source": [
    "- Intente convertir cada caso aislado de \"i\" en \"I\" en el corpus. Asegúrese de no cambiar la \"i\" que aparece dentro de una palabra:"
   ]
  },
  {
   "cell_type": "code",
   "execution_count": 55,
   "id": "160ba08f-d16d-4494-afa5-59ce33a4292b",
   "metadata": {},
   "outputs": [],
   "source": [
    "processed_book = re.sub(r'\\si\\s', \" I \", processed_book)\n",
    "#print(processed_book)"
   ]
  },
  {
   "cell_type": "markdown",
   "id": "a252f546-d30e-4e43-9ba8-cf57ae0726d8",
   "metadata": {},
   "source": [
    "- Encuentre el número de veces que alguien fue citado (\"\") en el corpus."
   ]
  },
  {
   "cell_type": "code",
   "execution_count": 56,
   "id": "5c077d43-fcfa-49c7-93d0-cb2b2393804f",
   "metadata": {},
   "outputs": [
    {
     "data": {
      "text/plain": [
       "0"
      ]
     },
     "execution_count": 56,
     "metadata": {},
     "output_type": "execute_result"
    }
   ],
   "source": [
    "len(re.findall(r'\\”', book))  "
   ]
  },
  {
   "cell_type": "code",
   "execution_count": null,
   "id": "765f52c2-f4a6-47ab-8126-1dffbdec4dab",
   "metadata": {},
   "outputs": [],
   "source": []
  }
 ],
 "metadata": {
  "kernelspec": {
   "display_name": "Python 3 (ipykernel)",
   "language": "python",
   "name": "python3"
  },
  "language_info": {
   "codemirror_mode": {
    "name": "ipython",
    "version": 3
   },
   "file_extension": ".py",
   "mimetype": "text/x-python",
   "name": "python",
   "nbconvert_exporter": "python",
   "pygments_lexer": "ipython3",
   "version": "3.11.9"
  }
 },
 "nbformat": 4,
 "nbformat_minor": 5
}
