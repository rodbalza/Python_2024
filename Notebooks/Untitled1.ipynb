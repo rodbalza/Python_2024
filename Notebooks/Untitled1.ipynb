{
 "cells": [
  {
   "cell_type": "code",
   "execution_count": 2,
   "id": "c8fbc879",
   "metadata": {},
   "outputs": [
    {
     "name": "stdout",
     "output_type": "stream",
     "text": [
      "¡Hola qué tal!\n",
      "¿Quiere otro saludo? [S/N]S\n",
      "¡Hola qué tal!\n",
      "¿Quiere otro saludo? [S/N]S\n",
      "¡Hola qué tal!\n",
      "¿Quiere otro saludo? [S/N]S\n",
      "¡Hola qué tal!\n",
      "Máximo nro de saludos alcanzados\n",
      "¡Que tenga un buen día!\n"
     ]
    }
   ],
   "source": [
    "'''\n",
    "MAX_SALUDOS = 4\n",
    "nro_saludos = 0\n",
    "saludo = 'S'\n",
    "\n",
    "while saludo == 'S':\n",
    "    print('¡Hola qué tal!')\n",
    "    nro_saludos += 1\n",
    "    if nro_saludos == MAX_SALUDOS:\n",
    "        print('Máximo nro de saludos alcanzados')\n",
    "        break\n",
    "    saludo = input('¿Quiere otro saludo? [S/N]')\n",
    "else:\n",
    "    print('Usted no quiere mas saludos')\n",
    "print('¡Que tenga un buen día!')\n",
    "'''"
   ]
  },
  {
   "cell_type": "code",
   "execution_count": 9,
   "id": "48795014",
   "metadata": {},
   "outputs": [
    {
     "name": "stdout",
     "output_type": "stream",
     "text": [
      "¡Hola qué tal!\n",
      "¿Quiere otro saludo? [S/N]S\n",
      "¡Hola qué tal!\n",
      "¿Quiere otro saludo? [S/N]S\n",
      "¡Hola qué tal!\n",
      "¿Quiere otro saludo? [S/N]n\n",
      "No le entiendo, pero igual le saludo\n",
      "¡Hola qué tal!\n",
      "¿Quiere otro saludo? [S/N]s\n",
      "No le entiendo, pero igual le saludo\n",
      "¡Hola qué tal!\n",
      "¿Quiere otro saludo? [S/N]S\n",
      "¡Hola qué tal!\n",
      "¿Quiere otro saludo? [S/N]N\n",
      "6 respuestas válidas\n",
      "¡Que tenga un buen día!\n"
     ]
    }
   ],
   "source": [
    "'''\n",
    "saludo = 'S'\n",
    "respuestas_validas = 0\n",
    "\n",
    "while saludo == 'S':\n",
    "    print('¡Hola qué tal!')\n",
    "    nro_saludos += 1\n",
    "    saludo = input('¿Quiere otro saludo? [S/N]')\n",
    "    if saludo not in 'SN':\n",
    "        print('No le entiendo, pero igual le saludo')\n",
    "        saludo = 'S'\n",
    "        continue\n",
    "    respuestas_validas += 1\n",
    "print(f'{respuestas_validas} respuestas válidas')\n",
    "print('¡Que tenga un buen día!')\n",
    "'''"
   ]
  },
  {
   "cell_type": "code",
   "execution_count": 3,
   "id": "d8699707",
   "metadata": {},
   "outputs": [
    {
     "ename": "SyntaxError",
     "evalue": "incomplete input (2790351674.py, line 1)",
     "output_type": "error",
     "traceback": [
      "\u001b[1;36m  Cell \u001b[1;32mIn[3], line 1\u001b[1;36m\u001b[0m\n\u001b[1;33m    '''\u001b[0m\n\u001b[1;37m    ^\u001b[0m\n\u001b[1;31mSyntaxError\u001b[0m\u001b[1;31m:\u001b[0m incomplete input\n"
     ]
    }
   ],
   "source": [
    "'''\n",
    "while False:\n",
    "    mark = float(input('Introduzca una nueva nota: '))\n",
    "    if not(0 <= mark <= 10):\n",
    "        print('Nota fuera de rango...')\n",
    "        break\n",
    "    print(mark)\n",
    "print('Fin del programa')\n",
    "'''"
   ]
  },
  {
   "cell_type": "code",
   "execution_count": 6,
   "id": "bf786024",
   "metadata": {},
   "outputs": [
    {
     "name": "stdout",
     "output_type": "stream",
     "text": [
      "1*1 = 1\n",
      "1*2 = 2\n",
      "1*3 = 3\n",
      "1*4 = 4\n",
      "1*5 = 5\n",
      "1*6 = 6\n",
      "1*7 = 7\n",
      "1*8 = 8\n",
      "1*9 = 9\n",
      "2*1 = 2\n",
      "2*2 = 4\n",
      "2*3 = 6\n",
      "2*4 = 8\n",
      "2*5 = 10\n",
      "2*6 = 12\n",
      "2*7 = 14\n",
      "2*8 = 16\n",
      "2*9 = 18\n",
      "3*1 = 3\n",
      "3*2 = 6\n",
      "3*3 = 9\n",
      "3*4 = 12\n",
      "3*5 = 15\n",
      "3*6 = 18\n",
      "3*7 = 21\n",
      "3*8 = 24\n",
      "3*9 = 27\n",
      "4*1 = 4\n",
      "4*2 = 8\n",
      "4*3 = 12\n",
      "4*4 = 16\n",
      "4*5 = 20\n",
      "4*6 = 24\n",
      "4*7 = 28\n",
      "4*8 = 32\n",
      "4*9 = 36\n",
      "5*1 = 5\n",
      "5*2 = 10\n",
      "5*3 = 15\n",
      "5*4 = 20\n",
      "5*5 = 25\n",
      "5*6 = 30\n",
      "5*7 = 35\n",
      "5*8 = 40\n",
      "5*9 = 45\n",
      "6*1 = 6\n",
      "6*2 = 12\n",
      "6*3 = 18\n",
      "6*4 = 24\n",
      "6*5 = 30\n",
      "6*6 = 36\n",
      "6*7 = 42\n",
      "6*8 = 48\n",
      "6*9 = 54\n",
      "7*1 = 7\n",
      "7*2 = 14\n",
      "7*3 = 21\n",
      "7*4 = 28\n",
      "7*5 = 35\n",
      "7*6 = 42\n",
      "7*7 = 49\n",
      "7*8 = 56\n",
      "7*9 = 63\n",
      "8*1 = 8\n",
      "8*2 = 16\n",
      "8*3 = 24\n",
      "8*4 = 32\n",
      "8*5 = 40\n",
      "8*6 = 48\n",
      "8*7 = 56\n",
      "8*8 = 64\n",
      "8*9 = 72\n",
      "9*1 = 9\n",
      "9*2 = 18\n",
      "9*3 = 27\n",
      "9*4 = 36\n",
      "9*5 = 45\n",
      "9*6 = 54\n",
      "9*7 = 63\n",
      "9*8 = 72\n",
      "9*9 = 81\n"
     ]
    }
   ],
   "source": [
    "for tabla_numeros in range(1, 10):\n",
    "    for factor_multiplicacion in range(1, 10):\n",
    "        resultado = tabla_numeros * factor_multiplicacion\n",
    "        print(f'{tabla_numeros}*{factor_multiplicacion} = {resultado}')"
   ]
  },
  {
   "cell_type": "code",
   "execution_count": null,
   "id": "56d20e5f",
   "metadata": {},
   "outputs": [],
   "source": []
  }
 ],
 "metadata": {
  "kernelspec": {
   "display_name": "Python 3 (ipykernel)",
   "language": "python",
   "name": "python3"
  },
  "language_info": {
   "codemirror_mode": {
    "name": "ipython",
    "version": 3
   },
   "file_extension": ".py",
   "mimetype": "text/x-python",
   "name": "python",
   "nbconvert_exporter": "python",
   "pygments_lexer": "ipython3",
   "version": "3.11.4"
  }
 },
 "nbformat": 4,
 "nbformat_minor": 5
}
