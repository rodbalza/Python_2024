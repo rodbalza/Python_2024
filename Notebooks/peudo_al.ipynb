{
 "cells": [
  {
   "cell_type": "markdown",
   "id": "5e52df01-fb31-4ad7-8897-8f08c520c19d",
   "metadata": {},
   "source": [
    "### Comenzamos las exposiciones a las 19:45"
   ]
  },
  {
   "cell_type": "code",
   "execution_count": 3,
   "id": "26e2df53-cfbe-43f5-b8a3-dfbd700e5fcc",
   "metadata": {},
   "outputs": [
    {
     "name": "stdout",
     "output_type": "stream",
     "text": [
      "6 - Angelica R\n",
      "7 - Humberto S\n",
      "4 - Leidy P\n",
      "¡Buena Suerte!\n"
     ]
    }
   ],
   "source": [
    "import random\n",
    "nombres = {\n",
    "    1: 'Pedro A',\n",
    "    2: 'Reinaldo D',\n",
    "    3: 'Juan D',\n",
    "    4: 'Leidy P',\n",
    "    5: 'Olga G',\n",
    "    6: 'Angelica R',\n",
    "    7: 'Humberto S'\n",
    "}\n",
    "\n",
    "num_al = random.sample(range(2, 8), 3)\n",
    "for num in num_al:\n",
    "    print(f'{num} - {nombres[num]}')\n",
    "print('¡Buena Suerte!')"
   ]
  },
  {
   "cell_type": "code",
   "execution_count": null,
   "id": "64f283a4-4192-46a9-b406-600c4c9ca429",
   "metadata": {},
   "outputs": [],
   "source": []
  }
 ],
 "metadata": {
  "kernelspec": {
   "display_name": "Python 3 (ipykernel)",
   "language": "python",
   "name": "python3"
  },
  "language_info": {
   "codemirror_mode": {
    "name": "ipython",
    "version": 3
   },
   "file_extension": ".py",
   "mimetype": "text/x-python",
   "name": "python",
   "nbconvert_exporter": "python",
   "pygments_lexer": "ipython3",
   "version": "3.11.9"
  }
 },
 "nbformat": 4,
 "nbformat_minor": 5
}
