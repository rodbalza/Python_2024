{
 "cells": [
  {
   "cell_type": "code",
   "execution_count": 4,
   "id": "8ddc8574-30e0-410a-95be-f24d388aa972",
   "metadata": {},
   "outputs": [
    {
     "name": "stdout",
     "output_type": "stream",
     "text": [
      "++++++++++++++++++++++++++\n",
      "--------------------------\n",
      "##########################\n"
     ]
    }
   ],
   "source": [
    "class Dog:\n",
    "    def metodo_instancia(self): # Metodo de instancia\n",
    "        pass\n",
    "    \n",
    "    @classmethod   # Decorador\n",
    "    def metodo_clase(cls):     # Metodo de clase\n",
    "        pass\n",
    "    @staticmethod  # Decorador\n",
    "    def metodo_estatico(a, b): # Metodo estático\n",
    "        pass\n",
    "dog = Dog()\n",
    "\n",
    "print('++++++++++++++++++++++++++')\n",
    "dog.metodo_instancia()\n",
    "print('--------------------------')\n",
    "Dog.metodo_clase()\n",
    "print('##########################')\n",
    "Dog.metodo_estatico(3, 4)"
   ]
  },
  {
   "cell_type": "code",
   "execution_count": null,
   "id": "b22fe766-b3fc-4c67-bc1e-5247a2e4800a",
   "metadata": {},
   "outputs": [],
   "source": []
  }
 ],
 "metadata": {
  "kernelspec": {
   "display_name": "Python 3 (ipykernel)",
   "language": "python",
   "name": "python3"
  },
  "language_info": {
   "codemirror_mode": {
    "name": "ipython",
    "version": 3
   },
   "file_extension": ".py",
   "mimetype": "text/x-python",
   "name": "python",
   "nbconvert_exporter": "python",
   "pygments_lexer": "ipython3",
   "version": "3.11.9"
  }
 },
 "nbformat": 4,
 "nbformat_minor": 5
}
