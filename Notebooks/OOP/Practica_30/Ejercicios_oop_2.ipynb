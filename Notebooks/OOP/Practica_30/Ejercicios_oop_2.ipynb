{
 "cells": [
  {
   "cell_type": "code",
   "execution_count": null,
   "id": "2cb03273-da48-486e-8d0e-4fb5de129092",
   "metadata": {},
   "outputs": [],
   "source": []
  },
  {
   "cell_type": "markdown",
   "id": "3a806326-dd4d-4471-9d3c-323c9d87db3a",
   "metadata": {},
   "source": [
    "# Practica 30: **Ejercicios resueltos usando herencias**  \n",
    "**Explicar usando comentarios lo que hacen los códigos resueltos a continuación. Una vez que ha explicado los ejercicios resueltos, proponga usted mismo otro ejemplo (solo uno) similiar a los ejercicios 3 o 4.**\n"
   ]
  },
  {
   "cell_type": "markdown",
   "id": "baf6b9bf-1576-4b51-b463-ee0dcf9b43a6",
   "metadata": {},
   "source": [
    "**1 -** Define una clase de nombre `Shape`. Esta hereda dos clases: `Círculo` y `Rectángulo.` Compruebe mediante programación la relación de herencia entre las clases. Cree objetos de las clases Shape y Circle. Informe de qué clases son las instancias de estos objetos."
   ]
  },
  {
   "cell_type": "code",
   "execution_count": 1,
   "id": "7da8e2b4-50a1-4915-992b-b5f969c71004",
   "metadata": {},
   "outputs": [
    {
     "name": "stdout",
     "output_type": "stream",
     "text": [
      "True\n",
      "False\n",
      "False\n",
      "True\n",
      "True\n"
     ]
    }
   ],
   "source": [
    "class Shape:\n",
    "    pass\n",
    "class Rectangle(Shape):\n",
    "    pass\n",
    "class Circle(Shape):\n",
    "    pass\n",
    "\n",
    "s = Shape()\n",
    "c = Circle()\n",
    "print(isinstance(s, Shape))\n",
    "print(isinstance(s, Rectangle))\n",
    "print(isinstance(s, Circle))\n",
    "print(issubclass(Rectangle, Shape))\n",
    "print(issubclass(Circle, Shape))\n"
   ]
  },
  {
   "cell_type": "markdown",
   "id": "8b4a0f3f-fb09-4c70-b285-efc87a41b485",
   "metadata": {},
   "source": [
    "**2 -** Escribe un programa que utilice herencia simple entre las clases `Base` y `Derived`. Si hay un método en la clase `Base`, ¿cómo evitar que sea sobrescrito en la clase `Derived`?"
   ]
  },
  {
   "cell_type": "code",
   "execution_count": 5,
   "id": "40dc8e03-3c19-46eb-9726-f09d64ea0fba",
   "metadata": {},
   "outputs": [
    {
     "name": "stdout",
     "output_type": "stream",
     "text": [
      "In Base.__method\n",
      "In Base.__method\n"
     ]
    }
   ],
   "source": [
    "class Base:\n",
    "    def __method(self):\n",
    "        print('In Base.__method')\n",
    "    \n",
    "    def func(self):\n",
    "        self.__method()\n",
    "\n",
    "class Derived(Base):\n",
    "    def __method(self):\n",
    "        print('In Derived.__method')\n",
    "\n",
    "b = Base()\n",
    "b.func()\n",
    "d = Derived()\n",
    "d.func()"
   ]
  },
  {
   "cell_type": "markdown",
   "id": "6bfae9f7-6d70-4f1a-9b3c-8d7b9a56f47f",
   "metadata": {},
   "source": [
    "**Tips**  \n",
    "- Para evitar que se sobrescriba un método, añadir __.\n",
    "- Cuando `func()` es llamado usando `b`, `self` contiene la dirección del objeto de la clase Base. Cuando es llamado usando `d`, `self` contiene la dirección del objeto de la clase `Derived`.\n",
    "- En la clase Base `__method()` se convierte en `_Base__method()` y en la clase `Derived` se convierte en `_Derived__method()`.\n",
    "- Cuando `func()` llama a `__method( )` desde la clase Base, es el método `_Base()` el que es llamado. En efecto, `_method()` no puede ser sobreescrito. Esto es cierto, incluso cuando `self` contiene la dirección del objeto de la clase `Derived`."
   ]
  },
  {
   "cell_type": "markdown",
   "id": "50d1692f-c492-4663-9a89-944cfd975d04",
   "metadata": {},
   "source": [
    "**3-** En este ejercicio vas a trabajar el concepto de puntos, coordenadas y vectores sobre el plano cartesiano y cómo la programación Orientada a Objetos puede ser una excelente aliada para trabajar con ellos. No está pensado para que hagas ningún tipo de cálculo sino para que practiques la automatización de tareas."
   ]
  },
  {
   "cell_type": "markdown",
   "id": "dbc82c63-a025-48cf-be62-a7dd2c7bb861",
   "metadata": {},
   "source": [
    "**Contexto Teórico**  \n",
    "**El plano cartesiano.**  \n",
    "Representa un espacio bidimensional (en 2 dimensiones), formado por dos rectas perpendiculares, una horizontal y otra vertical que se cortan en un punto. La recta horizontal se denomina eje de las abscisas o `eje X`, mientras que la vertical recibe el nombre de eje de las ordenadas o simplemente `eje Y`. En cuanto al punto donde se cortan, se conoce como el `punto de origen O`."
   ]
  },
  {
   "cell_type": "markdown",
   "id": "fde9c54f-cfbf-4911-8ab9-3396b3be9e24",
   "metadata": {},
   "source": [
    "![3](3.jpg)"
   ]
  },
  {
   "cell_type": "markdown",
   "id": "4bea5024-8038-4f1d-8847-68c4611833aa",
   "metadata": {},
   "source": [
    "Es importante remarcar que el plano se divide en 4 cuadrantes:"
   ]
  },
  {
   "cell_type": "markdown",
   "id": "cd6445e6-a395-4d25-9bed-3da57c5fb256",
   "metadata": {},
   "source": [
    "![4](4.jpg)"
   ]
  },
  {
   "cell_type": "markdown",
   "id": "b8934136-a633-4daa-b016-75d376e38fbc",
   "metadata": {},
   "source": [
    "**Puntos y coordenadas.**  \n",
    "\n",
    "El objetivo de todo esto es describir la posición de puntos sobre el plano en forma de coordenadas, que se forman asociando el valor del eje de las X (horizontal) con el valor del eje Y (vertical).  \n",
    "\n",
    "La representación de un punto es sencilla: P(X,Y) dónde X y la Y son la distancia horizontal (izquierda o derecha) y vertical (arriba o abajo) respectivamente, utilizando como referencia el punto de origen (0,0), justo en el centro del plano."
   ]
  },
  {
   "cell_type": "markdown",
   "id": "c16181ea-2aed-4ee3-ada1-db92733bde9e",
   "metadata": {},
   "source": [
    "![5](5.png)"
   ]
  },
  {
   "cell_type": "markdown",
   "id": "9fa62b87-3c89-4015-b51b-5432c3a4b84d",
   "metadata": {},
   "source": [
    "**Vectores en el plano**  \n",
    "\r\n",
    "Finalmente, un vector en el plano hace referencia a un segmento orientado, generado a partir de dos puntos distintos.\r\n",
    "\r\n",
    "A efectos prácticos no deja de ser una línea formada desde un punto inicial en dirección a otro punto final, por lo que se entiende que un vector tiene longitud y dirección/sentido."
   ]
  },
  {
   "cell_type": "markdown",
   "id": "9f84c7a3-806d-41ad-a169-77cc18819a5d",
   "metadata": {},
   "source": [
    "![6](6.png)"
   ]
  },
  {
   "cell_type": "markdown",
   "id": "ffb488d0-2178-453b-a487-4417aee55cbb",
   "metadata": {},
   "source": [
    "En esta figura, podemos observar dos puntos A y B que podríamos definir de la siguiente forma:"
   ]
  },
  {
   "cell_type": "markdown",
   "id": "e44d1b81-9e27-4634-b7fb-3558458bb8f4",
   "metadata": {},
   "source": [
    "- **A(x1, y1) => A(2, 3)**\n",
    "  \n",
    "- **B(x2, y2) => B(5, 5)**"
   ]
  },
  {
   "cell_type": "markdown",
   "id": "664fd2e7-cfe3-4678-b8e0-b9489e857a9f",
   "metadata": {},
   "source": [
    "Y el vector se representaría como la diferencia entre las coordendas del segundo punto respecto al primero (el segundo menos el primero):"
   ]
  },
  {
   "cell_type": "markdown",
   "id": "c4aad7a0-e3ff-471b-8f3f-48fe9a2b7527",
   "metadata": {},
   "source": [
    "**AB = (x2-x1, y2-y1) => (5-2, 5-3) => (3,2)**"
   ]
  },
  {
   "cell_type": "markdown",
   "id": "c245abc0-8325-4c12-8674-19176a5840e9",
   "metadata": {},
   "source": [
    "Lo que en definitiva no deja de ser: 3 a la derecha y 2 arriba."
   ]
  },
  {
   "cell_type": "markdown",
   "id": "b33656c3-e33e-4585-adaa-3c3230c4308a",
   "metadata": {},
   "source": [
    "**Preguntas**"
   ]
  },
  {
   "cell_type": "markdown",
   "id": "bd88cf21-ff7f-47dc-a90d-8f79d45f35a6",
   "metadata": {},
   "source": [
    "- Crea una clase llamada Punto con sus dos coordenadas X e Y.\n",
    "  \n",
    "- Añade un método constructor para crear puntos fácilmente. Si no se reciben una coordenada, su valor será cero.\n",
    "  \n",
    "- Sobreescribe el método string, para que al imprimir por pantalla un punto aparezca en formato (X,Y).\n",
    "  \n",
    "- Añade un método llamado cuadrante que indique a qué cuadrante pertenece el punto, teniendo en cuenta que si X == 0 e Y != 0 se sitúa sobre el eje Y, si X != 0 e Y == 0 se sitúa sobre el eje X y si X == 0 e Y == 0 está sobre el origen.\n",
    "  \n",
    "- Añade un método llamado vector, que tome otro punto y calcule el vector resultante entre los dos puntos.\n",
    "  \n",
    "- (Optativo) Añade un método llamado distancia, que tome otro punto y calcule la distancia entre los dos puntos y la muestre por pantalla. La fórmula es la siguiente:"
   ]
  },
  {
   "cell_type": "markdown",
   "id": "4f1c5631-dc46-4cf2-95a8-f31503e809f5",
   "metadata": {},
   "source": [
    "$d = \\sqrt{(x_{2}-x_{1})^{2}+\\left ( y_{2}-y_{1} \\right )^{2}}$"
   ]
  },
  {
   "cell_type": "markdown",
   "id": "37d99029-f017-4abd-a9c5-e6898259e180",
   "metadata": {},
   "source": [
    "La función raíz cuadrada en Python `sqrt()` se debe importar del módulo `math` y utilizarla de la siguiente forma:"
   ]
  },
  {
   "cell_type": "markdown",
   "id": "68c6ea70-cf08-43c8-b6de-3cb04ff46478",
   "metadata": {},
   "source": [
    "```\n",
    "import math\n",
    "math.sqrt(9)\n",
    "```"
   ]
  },
  {
   "cell_type": "markdown",
   "id": "6872d7af-51b1-489f-9fdf-64f389caad3c",
   "metadata": {},
   "source": [
    "- Crea una clase llamada Rectangulo con dos puntos (inicial y final) que formarán la diagonal del rectángulo.\n",
    "  \n",
    "- Añade un método constructor para crear ambos puntos fácilmente, si no se envían se crearán dos puntos en el origen por defecto.\n",
    "  \n",
    "- Añade al rectángulo un método llamado base que muestre la base.\n",
    "  \n",
    "- Añade al rectángulo un método llamado altura que muestre la altura.\n",
    "  \n",
    "- Añade al rectángulo un método llamado area que muestre el area.\n",
    "  "
   ]
  },
  {
   "cell_type": "code",
   "execution_count": 14,
   "id": "f386bd8c-5844-43eb-9618-41fdf3041ac6",
   "metadata": {},
   "outputs": [
    {
     "name": "stdout",
     "output_type": "stream",
     "text": [
      "El punto (2, 3) pertenece al cuadrante I \n",
      "El punto (5, 5) pertenece al cuadrante I \n",
      "El punto (-3, -1) pertenece al cuadrante III \n",
      "####################################\n",
      "El vector formado por (-9, 6) y (5, 7) es: (14, 1)\n",
      "El vector formado por (5, 7) y (-9, 6) es: (-14, -1)\n",
      "####################################\n",
      "La distancia entre los puntos (9, -6) y (7, 8) es 14.142135623730951\n",
      "La distancia entre los puntos (7, 8) y (9, -6) es 14.142135623730951\n",
      "###################################\n",
      "La base del rectangulo es 3\n",
      "La altura del rectángulo es 2\n",
      "El área del rectángulo es 6\n"
     ]
    }
   ],
   "source": [
    "import math\n",
    "\n",
    "class Punto:\n",
    "    \n",
    "    def __init__(self, x = 0, y = 0):\n",
    "        self.x = x\n",
    "        self.y = y\n",
    "    \n",
    "    def __str__(self):\n",
    "        return '({}, {})'.format(self.x, self.y)\n",
    "    \n",
    "    def cuadrante(self):\n",
    "        if self.x > 0 and self.y > 0:\n",
    "            print('El punto {} pertenece al cuadrante I '.format(self))\n",
    "        elif self.x < 0 and self.y > 0:\n",
    "            print('El punto {} pertenece al cuadrante II '.format(self))\n",
    "        elif self.x < 0 and self.y < 0:\n",
    "            print('El punto {} pertenece al cuadrante III '.format(self))\n",
    "        elif self.x > 0 and self.y < 0:\n",
    "            print('El punto {} pertenece al cuadrante IV '.format(self))\n",
    "        else:\n",
    "            print('{} se encuentra en el origen'.format(self))\n",
    "    def vector(self, p):\n",
    "        print('El vector formado por {} y {} es: ({}, {})'.format(self, p, p.x-self.x, p.y-self.y))\n",
    "    \n",
    "    def distancia(self, p):\n",
    "        d = math.sqrt((p.x-self.x)**2 + (p.y-self.y)**2)\n",
    "        print('La distancia entre los puntos {} y {} es {}'.format(self, p, d))\n",
    "        \n",
    "        \n",
    "class Rectángulo:\n",
    "    \n",
    "    def __init__(self, pInicial = Punto(), pFinal = Punto()):\n",
    "        self.pInicial = pInicial\n",
    "        self.pFinal = pFinal\n",
    "    \n",
    "    def base(self):\n",
    "        self.base = abs(self.pFinal.x - self.pInicial.x)\n",
    "        print('La base del rectangulo es {}'.format(self.base))\n",
    "    \n",
    "    def altura(self):\n",
    "        self.altura = abs(self.pFinal.y - self.pInicial.y)\n",
    "        print('La altura del rectángulo es {}'.format(self.altura))\n",
    "    \n",
    "    def area(self):\n",
    "        self.base = abs(self.pFinal.x - self.pInicial.x)\n",
    "        self.altura = abs(self.pFinal.y - self.pInicial.y)\n",
    "        self.area = self.base * self.altura\n",
    "        print('El área del rectángulo es {}'.format(self.area))\n",
    "        \n",
    "        \n",
    "# A(2, 3) , B(5, 5), C(-3, -1) , D(0, 0), E(-9, 6), F(5, 7), G(9, -6) y H(7, 8)\n",
    "A = Punto(2,3)\n",
    "B = Punto(5,5)\n",
    "C = Punto(-3, -1)\n",
    "D = Punto(0,0)\n",
    "E = Punto(-9, 6)\n",
    "F = Punto(5, 7)\n",
    "G = Punto(9, -6)\n",
    "H = Punto(7, 8)\n",
    "####################################\n",
    "A.cuadrante()\n",
    "B.cuadrante()\n",
    "C.cuadrante()\n",
    "print('####################################')\n",
    "E.vector(F)\n",
    "F.vector(E)\n",
    "print('####################################')\n",
    "G.distancia(H)\n",
    "H.distancia(G)\n",
    "##################################################\n",
    "print('###################################')\n",
    "R = Rectángulo(A, B)\n",
    "R.base()\n",
    "R.altura()\n",
    "R.area()"
   ]
  },
  {
   "cell_type": "markdown",
   "id": "0f0038e6-e25d-47de-9616-dab0b31166b1",
   "metadata": {},
   "source": [
    "**4 -** En esta ejemplo vas a trabajar el concepto de herencia un poco más en profundidad, aprovechando para introducir un nuevo concepto muy importante que te facilitará la vida.  \n",
    "Hasta ahora sabemos que una clase heredada puede fácilmente extender algunas funcionalidades, simplemente añadiendo nuevos atributos y métodos, o sobreescribiendo los ya existentes. Como en el siguiente ejemplo:"
   ]
  },
  {
   "cell_type": "markdown",
   "id": "e3196e97-0e61-4d8e-8209-2e3b28fc4877",
   "metadata": {},
   "source": [
    "![1](1.png)"
   ]
  },
  {
   "cell_type": "code",
   "execution_count": 6,
   "id": "6d560bb7-1041-45b0-9c03-b5de014d8116",
   "metadata": {},
   "outputs": [
    {
     "name": "stdout",
     "output_type": "stream",
     "text": [
      "color azul, 4 km/h, 150 ruedas, 1200 cc\n"
     ]
    }
   ],
   "source": [
    "class Vehiculo():\n",
    "\n",
    "    def __init__(self, color, ruedas):\n",
    "        self.color = color\n",
    "        self.ruedas = ruedas\n",
    "\n",
    "    def __str__(self):\n",
    "        return \"Color {}, {} ruedas\".format( self.color, self.ruedas )\n",
    "\n",
    "class Coche(Vehiculo):\n",
    "\n",
    "    def __init__(self, color, ruedas, velocidad, cilindrada):\n",
    "        self.color = color\n",
    "        self.ruedas = ruedas\n",
    "        self.velocidad = velocidad\n",
    "        self.cilindrada = cilindrada\n",
    "\n",
    "    def __str__(self):\n",
    "        return \"color {}, {} km/h, {} ruedas, {} cc\".format( self.color, self.velocidad, self.ruedas, self.cilindrada )\n",
    "\n",
    "\n",
    "coche = Coche(\"azul\", 150, 4, 1200)\n",
    "print(coche)"
   ]
  },
  {
   "cell_type": "markdown",
   "id": "9ee34142-89b9-4521-8753-c16ecd934a26",
   "metadata": {},
   "source": [
    "El inconveniente más evidente de ir sobreescribiendo es que tenemos que volver a escribir el código de la superclase y luego el específico de la subclase. Para evitarnos escribir código innecesario, podemos utilizar un truco que consiste en llamar el método de la superclase y luego simplemente escribir el código de la clase:"
   ]
  },
  {
   "cell_type": "code",
   "execution_count": 7,
   "id": "56299e0c-4a3f-48cc-92fe-166086a401ab",
   "metadata": {},
   "outputs": [
    {
     "name": "stdout",
     "output_type": "stream",
     "text": [
      "Color azul, 4 ruedas, 150 km/h, 1200 cc\n"
     ]
    }
   ],
   "source": [
    "class Vehiculo():\n",
    "\n",
    "    def __init__(self, color, ruedas):\n",
    "        self.color = color\n",
    "        self.ruedas = ruedas\n",
    "\n",
    "    def __str__(self):\n",
    "        return \"Color {}, {} ruedas\".format( self.color, self.ruedas )\n",
    "\n",
    "\n",
    "class Coche(Vehiculo):\n",
    "\n",
    "    def __init__(self, color, ruedas, velocidad, cilindrada):\n",
    "        Vehiculo.__init__(self, color, ruedas)\n",
    "        self.velocidad = velocidad\n",
    "        self.cilindrada = cilindrada\n",
    "\n",
    "    def __str__(self):\n",
    "        return Vehiculo.__str__(self) + \", {} km/h, {} cc\".format(self.velocidad, self.cilindrada)\n",
    "\n",
    "\n",
    "c = Coche(\"azul\", 4, 150, 1200)\n",
    "print(c)"
   ]
  },
  {
   "cell_type": "markdown",
   "id": "a2cde0b6-8bc2-433e-b051-12760e5ba501",
   "metadata": {},
   "source": [
    "Determinar constantemente la superclase puede ser fastidioso, Python nos permite utilizar un acceso directo mucho más cómodo llamado super(). Hacerlo de esta forma nos permite llamar cómodamente los métodos o atributos de la superclase sin necesidad de especificar el self."
   ]
  },
  {
   "cell_type": "code",
   "execution_count": 8,
   "id": "b2351940-6243-4f1e-a9a9-988adcc0c51c",
   "metadata": {},
   "outputs": [
    {
     "name": "stdout",
     "output_type": "stream",
     "text": [
      "Color azul, 4 ruedas, 150 km/h, 1200 cc\n"
     ]
    }
   ],
   "source": [
    "class Vehiculo():\n",
    "\n",
    "    def __init__(self, color, ruedas):\n",
    "        self.color = color\n",
    "        self.ruedas = ruedas\n",
    "\n",
    "    def __str__(self):\n",
    "        return \"Color {}, {} ruedas\".format( self.color, self.ruedas )\n",
    "\n",
    "\n",
    "class Coche(Vehiculo):\n",
    "\n",
    "    def __init__(self, color, ruedas, velocidad, cilindrada):\n",
    "        super().__init__(color, ruedas) # Utilizanmos super() sin self en lugar de vehículo (nombre de la superclase)\n",
    "        self.velocidad = velocidad\n",
    "        self.cilindrada = cilindrada\n",
    "\n",
    "    def __str__(self):\n",
    "        return super().__str__() + \", {} km/h, {} cc\".format(self.velocidad, self.cilindrada)\n",
    "\n",
    "\n",
    "c = Coche(\"azul\", 4, 150, 1200)\n",
    "print(c)"
   ]
  },
  {
   "cell_type": "markdown",
   "id": "02149e59-acb3-4fc3-b532-50bb058ecb87",
   "metadata": {},
   "source": [
    "Utilizando esta nueva técnica extiende la clase Vehiculo y realiza la siguiente implementación:"
   ]
  },
  {
   "cell_type": "markdown",
   "id": "1045b5ee-5867-46cb-9335-c45841e6cb46",
   "metadata": {},
   "source": [
    "![2](2.png)"
   ]
  },
  {
   "cell_type": "markdown",
   "id": "879cce60-8af4-4951-9732-4ed2e1b9a876",
   "metadata": {},
   "source": [
    "- Crea al menos un objeto de cada subclase y añádelos a una lista llamada vehículos.\n",
    "- Realiza una función llamada **catalogar()** que reciba la lista de vehiculos y los recorra mostrando el nombre de su clase y sus atributos.\n",
    "- Modifica la función **catalogar()** para que reciba un argumento optativo ruedas, haciendo que muestre únicamente los que su número de ruedas concuerde con el valor del argumento. También debe mostrar un mensaje *\"Se han encontrado {} vehículos con {} ruedas:\"* únicamente si se envía el argumento ruedas. Ponla a prueba con 0, 2 y 4 ruedas como valor."
   ]
  },
  {
   "cell_type": "markdown",
   "id": "c2c11ee9-3f3c-462b-8b0e-9985181d3b1e",
   "metadata": {},
   "source": [
    "**Recordatorio:** *Puedes utilizar el atributo especial **name** de la siguiente forma para recuperar el nombre de la clase de un objeto:\n",
    "`type(objeto).__name__`"
   ]
  },
  {
   "cell_type": "code",
   "execution_count": 10,
   "id": "c0eb39ae-0be3-47cb-a429-1c7ab92df710",
   "metadata": {},
   "outputs": [
    {
     "name": "stdout",
     "output_type": "stream",
     "text": [
      "Coche Color Azul, 4 ruedas, 150 km/h, 1200 cc\n",
      "Camioneta Color Blanco, 4 ruedas, 100 km/h, 1300 cc, 1500 kg de carga\n",
      "Bicicleta Color Verde, 2 ruedas, Urbana\n",
      "Motocicleta Color Negro, 2 ruedas, Deportiva, 180 km/h , 900 cc\n",
      "··························\n",
      "Se han encontrado 2 vehiculos con 4 ruedas: \n",
      "===================================================================================\n",
      "Coche Color Azul, 4 ruedas, 150 km/h, 1200 cc\n",
      "Camioneta Color Blanco, 4 ruedas, 100 km/h, 1300 cc, 1500 kg de carga\n"
     ]
    }
   ],
   "source": [
    "class Vehiculo():\n",
    "\n",
    "    def __init__(self, color, ruedas):\n",
    "        self.color = color\n",
    "        self.ruedas = ruedas\n",
    "\n",
    "    def __str__(self):\n",
    "        return \"Color {}, {} ruedas\".format( self.color, self.ruedas )\n",
    "\n",
    "\n",
    "class Coche(Vehiculo):\n",
    "\n",
    "    def __init__(self, color, ruedas, velocidad, cilindrada):\n",
    "        super().__init__(color, ruedas) # Utilizanmos super() sin self en lugar de vehículo (nombre de la superclase)\n",
    "        self.velocidad = velocidad\n",
    "        self.cilindrada = cilindrada\n",
    "\n",
    "    def __str__(self):\n",
    "        return super().__str__() + \", {} km/h, {} cc\".format(self.velocidad, self.cilindrada)\n",
    "\n",
    "# Completa el ejercicio aquí\n",
    "\n",
    "class Camioneta(Coche):\n",
    "    def __init__(self, color, ruedas, velocidad, cilindrada, carga):\n",
    "        super().__init__(color, ruedas, velocidad, cilindrada) \n",
    "        self.carga = carga\n",
    "\n",
    "    def __str__(self):\n",
    "        return super().__str__() + \", {} kg de carga\".format(self.carga)\n",
    "\n",
    "class Bicicleta(Vehiculo):\n",
    "    def __init__(self, color, ruedas, tipo):\n",
    "        super().__init__(color, ruedas) \n",
    "        self.tipo = tipo\n",
    "\n",
    "    def __str__(self):\n",
    "        return super().__str__() + \", {}\".format(self.tipo)\n",
    "\n",
    "class Motocicleta(Bicicleta):\n",
    "    def __init__(self, color, ruedas, tipo, velocidad, cilindrada):\n",
    "        super().__init__(color, ruedas, tipo) \n",
    "        self.velocidad = velocidad\n",
    "        self.cilindrada = cilindrada\n",
    "\n",
    "    def __str__(self):\n",
    "        return super().__str__() + \", {} km/h , {} cc\".format(self.velocidad, self.cilindrada)\n",
    "\n",
    "vehiculos = [Coche(\"Azul\",4, 150, 1200), \n",
    "            Camioneta(\"Blanco\", 4, 100, 1300, 1500),\n",
    "            Bicicleta(\"Verde\", 2, \"Urbana\"),\n",
    "            Motocicleta(\"Negro\",2, \"Deportiva\", 180, 900)]\n",
    "\n",
    "def catalogar(lista):  # Primera variante\n",
    "    for vehiculo in lista:\n",
    "        print(\"{} {}\".format(type(vehiculo).__name__, vehiculo))\n",
    "\n",
    "catalogar(vehiculos)\n",
    "print(\"··························\")\n",
    "\n",
    "def catalogar_m(lista, ruedas=None):  # Segunda variante\n",
    "    if ruedas != None:\n",
    "        contador = 0\n",
    "        for vehiculo in vehiculos:\n",
    "            if vehiculo.ruedas == ruedas:\n",
    "                contador += 1 \n",
    "        print(\"Se han encontrado {} vehiculos con {} ruedas: \".format(contador, ruedas))\n",
    "        print(\"===================================================================================\")\n",
    "    for vehiculo in lista:\n",
    "        if ruedas == None:\n",
    "            print(\"{} {}\".format(type(vehiculo).__name__, vehiculo))\n",
    "        elif vehiculo.ruedas == ruedas:\n",
    "            print(\"{} {}\".format(type(vehiculo).__name__, vehiculo))\n",
    "\n",
    "catalogar_m(vehiculos, 4)"
   ]
  },
  {
   "cell_type": "code",
   "execution_count": null,
   "id": "438cd20a-e3e2-4748-9288-d0fa8a3bba1e",
   "metadata": {},
   "outputs": [],
   "source": []
  }
 ],
 "metadata": {
  "kernelspec": {
   "display_name": "Python 3 (ipykernel)",
   "language": "python",
   "name": "python3"
  },
  "language_info": {
   "codemirror_mode": {
    "name": "ipython",
    "version": 3
   },
   "file_extension": ".py",
   "mimetype": "text/x-python",
   "name": "python",
   "nbconvert_exporter": "python",
   "pygments_lexer": "ipython3",
   "version": "3.11.9"
  }
 },
 "nbformat": 4,
 "nbformat_minor": 5
}
