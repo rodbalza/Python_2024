{
 "cells": [
  {
   "cell_type": "markdown",
   "id": "d6101eb9",
   "metadata": {},
   "source": [
    "### Teoría Previa"
   ]
  },
  {
   "cell_type": "markdown",
   "id": "8659fce5",
   "metadata": {},
   "source": [
    "En esta practica vas a trabajar el concepto de herencia un poco más en profundidad, aprovechando para introducir un nuevo concepto muy importante que te facilitará la vida.Hasta ahora sabemos que una clase heredada puede fácilmente extender algunas funcionalidades, simplemente añadiendo nuevos atributos y métodos, o sobreescribiendo los ya existentes. Como en el siguiente ejemplo:"
   ]
  },
  {
   "cell_type": "markdown",
   "id": "1fb72ea2",
   "metadata": {},
   "source": [
    "<img src='EjemploClases.png'>"
   ]
  },
  {
   "cell_type": "code",
   "execution_count": 1,
   "id": "ac8b0d09",
   "metadata": {},
   "outputs": [
    {
     "name": "stdout",
     "output_type": "stream",
     "text": [
      "color azul, 4 km/h, 150 ruedas, 1200 cc\n"
     ]
    }
   ],
   "source": [
    "class Vehiculo():\n",
    "\n",
    "    def __init__(self, color, ruedas):\n",
    "        self.color = color\n",
    "        self.ruedas = ruedas\n",
    "\n",
    "    def __str__(self):\n",
    "        return \"Color {}, {} ruedas\".format( self.color, self.ruedas )\n",
    "\n",
    "class Coche(Vehiculo):\n",
    "\n",
    "    def __init__(self, color, ruedas, velocidad, cilindrada):\n",
    "        self.color = color\n",
    "        self.ruedas = ruedas\n",
    "        self.velocidad = velocidad\n",
    "        self.cilindrada = cilindrada\n",
    "\n",
    "    def __str__(self):\n",
    "        return \"color {}, {} km/h, {} ruedas, {} cc\".format( self.color, self.velocidad, self.ruedas, self.cilindrada )\n",
    "\n",
    "\n",
    "coche = Coche(\"azul\", 150, 4, 1200)\n",
    "print(coche)"
   ]
  },
  {
   "cell_type": "markdown",
   "id": "703f17ee",
   "metadata": {},
   "source": [
    "El inconveniente más evidente de ir sobreescribiendo es que tenemos que volver a escribir el código de la superclase y luego el específico de la subclase. Para evitarnos escribir código innecesario, podemos utilizar un truco que consiste en llamar el método de la superclase y luego simplemente escribir el código de la clase:"
   ]
  },
  {
   "cell_type": "code",
   "execution_count": 2,
   "id": "3170a9af",
   "metadata": {},
   "outputs": [
    {
     "name": "stdout",
     "output_type": "stream",
     "text": [
      "Color azul, 4 ruedas, 150 km/h, 1200 cc\n"
     ]
    }
   ],
   "source": [
    "class Vehiculo():\n",
    "\n",
    "    def __init__(self, color, ruedas):\n",
    "        self.color = color\n",
    "        self.ruedas = ruedas\n",
    "\n",
    "    def __str__(self):\n",
    "        return \"Color {}, {} ruedas\".format( self.color, self.ruedas )\n",
    "\n",
    "\n",
    "class Coche(Vehiculo):\n",
    "\n",
    "    def __init__(self, color, ruedas, velocidad, cilindrada):\n",
    "        Vehiculo.__init__(self, color, ruedas)\n",
    "        self.velocidad = velocidad\n",
    "        self.cilindrada = cilindrada\n",
    "\n",
    "    def __str__(self):\n",
    "        return Vehiculo.__str__(self) + \", {} km/h, {} cc\".format(self.velocidad, self.cilindrada)\n",
    "\n",
    "\n",
    "c = Coche(\"azul\", 4, 150, 1200)\n",
    "print(c)"
   ]
  },
  {
   "cell_type": "markdown",
   "id": "8820267d",
   "metadata": {},
   "source": [
    "Determinar constantemente la superclase puede ser fastidioso, Python nos permite utilizar un acceso directo mucho más cómodo llamado **super()**. Hacerlo de esta forma nos permite llamar cómodamente los métodos o atributos de la superclase sin necesidad de especificar el self. "
   ]
  },
  {
   "cell_type": "code",
   "execution_count": 6,
   "id": "856dfdf5",
   "metadata": {},
   "outputs": [
    {
     "name": "stdout",
     "output_type": "stream",
     "text": [
      "Color azul, 4 ruedas, 150 km/h, 1200 cc\n"
     ]
    }
   ],
   "source": [
    "class Vehiculo():\n",
    "\n",
    "    def __init__(self, color, ruedas):\n",
    "        self.color = color\n",
    "        self.ruedas = ruedas\n",
    "\n",
    "    def __str__(self):\n",
    "        return \"Color {}, {} ruedas\".format( self.color, self.ruedas )\n",
    "\n",
    "\n",
    "class Coche(Vehiculo):\n",
    "\n",
    "    def __init__(self, color, ruedas, velocidad, cilindrada):\n",
    "        super().__init__(color, ruedas) # Utilizanmos super() sin self en lugar de vehículo (nombre de la superclase)\n",
    "        self.velocidad = velocidad\n",
    "        self.cilindrada = cilindrada\n",
    "\n",
    "    def __str__(self):\n",
    "        return super().__str__() + \", {} km/h, {} cc\".format(self.velocidad, self.cilindrada)\n",
    "\n",
    "\n",
    "c = Coche(\"azul\", 4, 150, 1200)\n",
    "print(c)"
   ]
  },
  {
   "cell_type": "markdown",
   "id": "7eddecb9",
   "metadata": {},
   "source": [
    "### Practica Repaso"
   ]
  },
  {
   "cell_type": "markdown",
   "id": "88bb1fbb",
   "metadata": {},
   "source": [
    "Utilizando esta nueva técnica extiende la clase Vehiculo y realiza la siguiente implementación:"
   ]
  },
  {
   "cell_type": "markdown",
   "id": "273fb111",
   "metadata": {},
   "source": [
    "<img src='EjercicioClases.png'>"
   ]
  },
  {
   "cell_type": "markdown",
   "id": "36876092",
   "metadata": {},
   "source": [
    "### Experimenta\n",
    "- Crea al menos un objeto de cada subclase y añádelos a una lista llamada vehículos.\n",
    "- Realiza una función llamada **catalogar()** que reciba la lista de vehiculos y los recorra mostrando el nombre de su clase y sus atributos.\n",
    "- Modifica la función **catalogar()** para que reciba un argumento optativo ruedas, haciendo que muestre únicamente los que su número de ruedas concuerde con el valor del argumento. También debe mostrar un mensaje *\"Se han encontrado {} vehículos con {} ruedas:\"* únicamente si se envía el argumento ruedas. Ponla a prueba con 0, 2 y 4 ruedas como valor."
   ]
  },
  {
   "cell_type": "markdown",
   "id": "244b2c20",
   "metadata": {},
   "source": [
    "**Recordatorio:** *Puedes utilizar el atributo especial **name** de la siguiente forma para recuperar el nombre de la clase de un objeto:\n",
    "`type(objeto).__name__`"
   ]
  },
  {
   "cell_type": "code",
   "execution_count": 16,
   "id": "9a84dacb",
   "metadata": {},
   "outputs": [
    {
     "name": "stdout",
     "output_type": "stream",
     "text": [
      "Coche Color Azul, 4 ruedas, 150 km/h, 1200 cc\n",
      "Camioneta Color Blanco, 4 ruedas, 100 km/h, 1300 cc, 1500 kg de carga\n",
      "Bicicleta Color Verde, 2 ruedas, Urbana\n",
      "Motocicleta Color Negro, 2 ruedas, Deportiva, 180 km/h , 900 cc\n",
      "··························\n",
      "Se han encontrado 2 vehiculos con 4 ruedas: \n",
      "===================================================================================\n",
      "Coche Color Azul, 4 ruedas, 150 km/h, 1200 cc\n",
      "Camioneta Color Blanco, 4 ruedas, 100 km/h, 1300 cc, 1500 kg de carga\n"
     ]
    }
   ],
   "source": [
    "class Vehiculo():\n",
    "\n",
    "    def __init__(self, color, ruedas):\n",
    "        self.color = color\n",
    "        self.ruedas = ruedas\n",
    "\n",
    "    def __str__(self):\n",
    "        return \"Color {}, {} ruedas\".format( self.color, self.ruedas )\n",
    "\n",
    "\n",
    "class Coche(Vehiculo):\n",
    "\n",
    "    def __init__(self, color, ruedas, velocidad, cilindrada):\n",
    "        super().__init__(color, ruedas) # Utilizanmos super() sin self en lugar de vehículo (nombre de la superclase)\n",
    "        self.velocidad = velocidad\n",
    "        self.cilindrada = cilindrada\n",
    "\n",
    "    def __str__(self):\n",
    "        return super().__str__() + \", {} km/h, {} cc\".format(self.velocidad, self.cilindrada)\n",
    "\n",
    "# Completa el ejercicio aquí\n",
    "\n",
    "class Camioneta(Coche):\n",
    "    def __init__(self, color, ruedas, velocidad, cilindrada, carga):\n",
    "        super().__init__(color, ruedas, velocidad, cilindrada) \n",
    "        self.carga = carga\n",
    "\n",
    "    def __str__(self):\n",
    "        return super().__str__() + \", {} kg de carga\".format(self.carga)\n",
    "\n",
    "class Bicicleta(Vehiculo):\n",
    "    def __init__(self, color, ruedas, tipo):\n",
    "        super().__init__(color, ruedas) \n",
    "        self.tipo = tipo\n",
    "\n",
    "    def __str__(self):\n",
    "        return super().__str__() + \", {}\".format(self.tipo)\n",
    "\n",
    "class Motocicleta(Bicicleta):\n",
    "    def __init__(self, color, ruedas, tipo, velocidad, cilindrada):\n",
    "        super().__init__(color, ruedas, tipo) \n",
    "        self.velocidad = velocidad\n",
    "        self.cilindrada = cilindrada\n",
    "\n",
    "    def __str__(self):\n",
    "        return super().__str__() + \", {} km/h , {} cc\".format(self.velocidad, self.cilindrada)\n",
    "\n",
    "vehiculos = [Coche(\"Azul\",4, 150, 1200), \n",
    "            Camioneta(\"Blanco\", 4, 100, 1300, 1500),\n",
    "            Bicicleta(\"Verde\", 2, \"Urbana\"),\n",
    "            Motocicleta(\"Negro\",2, \"Deportiva\", 180, 900)]\n",
    "\n",
    "def catalogar(lista):  # Primera variante\n",
    "    for vehiculo in lista:\n",
    "        print(\"{} {}\".format(type(vehiculo).__name__, vehiculo))\n",
    "\n",
    "catalogar(vehiculos)\n",
    "print(\"··························\")\n",
    "\n",
    "def catalogar_m(lista, ruedas=None):  # Segunda variante\n",
    "    if ruedas != None:\n",
    "        contador = 0\n",
    "        for vehiculo in vehiculos:\n",
    "            if vehiculo.ruedas == ruedas:\n",
    "                contador += 1 \n",
    "        print(\"Se han encontrado {} vehiculos con {} ruedas: \".format(contador, ruedas))\n",
    "        print(\"===================================================================================\")\n",
    "    for vehiculo in lista:\n",
    "        if ruedas == None:\n",
    "            print(\"{} {}\".format(type(vehiculo).__name__, vehiculo))\n",
    "        elif vehiculo.ruedas == ruedas:\n",
    "            print(\"{} {}\".format(type(vehiculo).__name__, vehiculo))\n",
    "\n",
    "catalogar_m(vehiculos, 4)\n"
   ]
  },
  {
   "cell_type": "code",
   "execution_count": null,
   "id": "cb9978d4",
   "metadata": {},
   "outputs": [],
   "source": []
  }
 ],
 "metadata": {
  "kernelspec": {
   "display_name": "Python 3 (ipykernel)",
   "language": "python",
   "name": "python3"
  },
  "language_info": {
   "codemirror_mode": {
    "name": "ipython",
    "version": 3
   },
   "file_extension": ".py",
   "mimetype": "text/x-python",
   "name": "python",
   "nbconvert_exporter": "python",
   "pygments_lexer": "ipython3",
   "version": "3.11.4"
  }
 },
 "nbformat": 4,
 "nbformat_minor": 5
}
