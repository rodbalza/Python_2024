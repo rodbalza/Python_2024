{
  "cells": [
    {
      "cell_type": "code",
      "source": [
        "import math\n",
        "\n",
        "class Punto:\n",
        "    \n",
        "    def __init__(self, x = 0, y = 0):\n",
        "        self.x = x\n",
        "        self.y = y\n",
        "    \n",
        "    def __str__(self):\n",
        "        return '({}, {})'.format(self.x, self.y)\n",
        "    \n",
        "    def cuadrante(self):\n",
        "        if self.x > 0 and self.y > 0:\n",
        "            print('El punto {} pertenece al cuadrante I '.format(self))\n",
        "        elif self.x < 0 and self.y > 0:\n",
        "            print('El punto {} pertenece al cuadrante II '.format(self))\n",
        "        elif self.x < 0 and self.y < 0:\n",
        "            print('El punto {} pertenece al cuadrante III '.format(self))\n",
        "        elif self.x > 0 and self.y < 0:\n",
        "            print('El punto {} pertenece al cuadrante IV '.format(self))\n",
        "        else:\n",
        "            print('{} se encuentra en el origen'.format(self))\n",
        "    def vector(self, p):\n",
        "        print('El vector formado por {} y {} es: ({}, {})'.format(self, p, p.x-self.x, p.y-self.y))\n",
        "    \n",
        "    def distancia(self, p):\n",
        "        d = math.sqrt((p.x-self.x)**2 + (p.y-self.y)**2)\n",
        "        print('La distancia entre los puntos {} y {} es {}'.format(self, p, d))\n",
        "        \n",
        "        \n",
        "class Rectángulo:\n",
        "    \n",
        "    def __init__(self, pInicial = Punto(), pFinal = Punto()):\n",
        "        self.pInicial = pInicial\n",
        "        self.pFinal = pFinal\n",
        "    \n",
        "    def base(self):\n",
        "        self.base = abs(self.pFinal.x - self.pInicial.x)\n",
        "        print('La base del rectangulo es {}'.format(self.base))\n",
        "    \n",
        "    def altura(self):\n",
        "        self.altura = abs(self.pFinal.y - self.pInicial.y)\n",
        "        print('La altura del rectángulo es {}'.format(self.altura))\n",
        "    \n",
        "    def area(self):\n",
        "        self.base = abs(self.pFinal.x - self.pInicial.x)\n",
        "        self.altura = abs(self.pFinal.y - self.pInicial.y)\n",
        "        self.area = self.base * self.altura\n",
        "        print('El área del rectángulo es {}'.format(self.area))\n",
        "        \n",
        "        \n",
        "# A(2, 3) , B(5, 5), C(-3, -1) , D(0, 0), E(-9, 6), F(5, 7), G(9, -6) y H(7, 8)\n",
        "A = Punto(2,3)\n",
        "B = Punto(5,5)\n",
        "C = Punto(-3, -1)\n",
        "D = Punto(0,0)\n",
        "E = Punto(-9, 6)\n",
        "F = Punto(5, 7)\n",
        "G = Punto(9, -6)\n",
        "H = Punto(7, 8)\n",
        "####################################\n",
        "A.cuadrante()\n",
        "B.cuadrante()\n",
        "C.cuadrante()\n",
        "print('####################################')\n",
        "E.vector(F)\n",
        "F.vector(E)\n",
        "print('####################################')\n",
        "G.distancia(H)\n",
        "H.distancia(G)\n",
        "##################################################\n",
        "print('###################################')\n",
        "R = Rectángulo(A, B)\n",
        "R.base()\n",
        "R.altura()\n",
        "R.area()"
      ],
      "outputs": [
        {
          "output_type": "stream",
          "name": "stdout",
          "text": "El punto (2, 3) pertenece al cuadrante I \nEl punto (5, 5) pertenece al cuadrante I \nEl punto (-3, -1) pertenece al cuadrante III \n####################################\nEl vector formado por (-9, 6) y (5, 7) es: (14, 1)\nEl vector formado por (5, 7) y (-9, 6) es: (-14, -1)\n####################################\nLa distancia entre los puntos (9, -6) y (7, 8) es 14.142135623730951\nLa distancia entre los puntos (7, 8) y (9, -6) es 14.142135623730951\n###################################\nLa base del rectangulo es 3\nLa altura del rectángulo es 2\nEl área del rectángulo es 6\n"
        }
      ],
      "execution_count": 12,
      "metadata": {},
      "id": "4a69f558"
    },
    {
      "cell_type": "code",
      "source": [],
      "outputs": [],
      "execution_count": null,
      "metadata": {},
      "id": "147cfd3e"
    }
  ],
  "metadata": {
    "kernelspec": {
      "name": "python",
      "language": "python",
      "display_name": "Pyolite (preview)"
    },
    "language_info": {
      "codemirror_mode": {
        "name": "python",
        "version": 3
      },
      "file_extension": ".py",
      "mimetype": "text/x-python",
      "name": "python",
      "nbconvert_exporter": "python",
      "pygments_lexer": "ipython3",
      "version": "3.8"
    },
    "kernel_info": {
      "name": "python"
    },
    "nteract": {
      "version": "nteract-front-end@1.0.0"
    }
  },
  "nbformat": 4,
  "nbformat_minor": 5
}