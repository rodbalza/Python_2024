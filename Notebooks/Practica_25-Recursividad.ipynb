{
 "cells": [
  {
   "cell_type": "markdown",
   "id": "84b8a929-e0ac-420c-a8d5-719cd344c7da",
   "metadata": {
    "jp-MarkdownHeadingCollapsed": true
   },
   "source": [
    "# Practica 25 - Recursividad. Ejercicios resueltos y propuestos"
   ]
  },
  {
   "cell_type": "markdown",
   "id": "9dfd5c3f-2002-4067-80bb-79c1c2c38b80",
   "metadata": {
    "jp-MarkdownHeadingCollapsed": true
   },
   "source": [
    "## Parte (a): Ejercicios resueltos"
   ]
  },
  {
   "cell_type": "markdown",
   "id": "8cc5ef4a-9648-4a8f-8f95-ca930e85c482",
   "metadata": {},
   "source": [
    "Explicar los códigos resueltos. Modificarlos si es posible para una mejor retención de las ideas. Identificar el caso base (si existiera) y el caso recursivo."
   ]
  },
  {
   "cell_type": "markdown",
   "id": "09768fea-40e8-4fd5-bef0-b42fdd9566fb",
   "metadata": {},
   "source": [
    "1 - Cuenta Regresiva"
   ]
  },
  {
   "cell_type": "code",
   "execution_count": 2,
   "id": "a5484ce2-192d-4cd3-bfb3-c8d63526bae9",
   "metadata": {},
   "outputs": [
    {
     "name": "stdout",
     "output_type": "stream",
     "text": [
      "6\n",
      "5\n",
      "4\n",
      "3\n",
      "2\n",
      "1\n",
      "¡ Despegue !\n"
     ]
    }
   ],
   "source": [
    "def cuenta_regresiva(n):\n",
    "    if n==0: \n",
    "        print('¡ Despegue !')\n",
    "    else: \n",
    "        print(n)\n",
    "        cuenta_regresiva(n-1)\n",
    "\n",
    "cuenta_regresiva(6)\n"
   ]
  },
  {
   "cell_type": "markdown",
   "id": "9c945bee-508d-43dd-a10e-904244206218",
   "metadata": {},
   "source": [
    "2 - Función recursiva con ingreso de teclado con salida ingresando cero:"
   ]
  },
  {
   "cell_type": "code",
   "execution_count": 3,
   "id": "a1aa1d3f-ff2a-4e7e-a008-51b1c9cad5ee",
   "metadata": {},
   "outputs": [
    {
     "name": "stdin",
     "output_type": "stream",
     "text": [
      "Ingresar un valor:  4\n"
     ]
    },
    {
     "name": "stdout",
     "output_type": "stream",
     "text": [
      "Usted ingresó el valor 4\n"
     ]
    },
    {
     "name": "stdin",
     "output_type": "stream",
     "text": [
      "Ingresar un valor:  1\n"
     ]
    },
    {
     "name": "stdout",
     "output_type": "stream",
     "text": [
      "Usted ingresó el valor 1\n"
     ]
    },
    {
     "name": "stdin",
     "output_type": "stream",
     "text": [
      "Ingresar un valor:  8\n"
     ]
    },
    {
     "name": "stdout",
     "output_type": "stream",
     "text": [
      "Usted ingresó el valor 8\n"
     ]
    },
    {
     "name": "stdin",
     "output_type": "stream",
     "text": [
      "Ingresar un valor:  0\n"
     ]
    },
    {
     "name": "stdout",
     "output_type": "stream",
     "text": [
      "Exit\n"
     ]
    }
   ],
   "source": [
    "def funcion(n):\n",
    "    if n==0:\n",
    "        print('Exit')\n",
    "    else:\n",
    "        print(f'Usted ingresó el valor {n}')\n",
    "        n = int(input('Ingresar un valor: '))\n",
    "        funcion(n)\n",
    "\n",
    "n = int(input('Ingresar un valor: '))\n",
    "funcion(n)"
   ]
  },
  {
   "cell_type": "markdown",
   "id": "d1fb6de7-9133-449c-a3ab-d03317441f47",
   "metadata": {},
   "source": [
    "3 - Si se introduce un número entero positivo a través del teclado, escribe una función recursiva para obtener los factores primos del número."
   ]
  },
  {
   "cell_type": "code",
   "execution_count": 5,
   "id": "1e1503ee-7d1e-4de3-99ab-5ad823cde2bc",
   "metadata": {},
   "outputs": [
    {
     "name": "stdin",
     "output_type": "stream",
     "text": [
      "Enter a number:  488\n"
     ]
    },
    {
     "name": "stdout",
     "output_type": "stream",
     "text": [
      "Prime factors are:\n",
      "2, 2, 2, 61, "
     ]
    }
   ],
   "source": [
    "def factorize(n, i):\n",
    "    if i > n:\n",
    "        return  # Condición de parada: cuando i es mayor que n, detener la recursión\n",
    "    if n % i == 0:\n",
    "        print(i, end=', ')\n",
    "        n = n // i\n",
    "    else:\n",
    "        i += 1\n",
    "    factorize(n, i)\n",
    "\n",
    "num = int(input('Enter a number: '))\n",
    "print('Prime factors are:')\n",
    "factorize(num, 2)\n"
   ]
  },
  {
   "cell_type": "markdown",
   "id": "9c6c1431-d819-45ae-a7a4-45ffa7eef5af",
   "metadata": {},
   "source": [
    "4 - Se introduce un número entero positivo a través del teclado, escriba una función recursiva para calcular la suma de dígitos del número de 5 dígitos."
   ]
  },
  {
   "cell_type": "code",
   "execution_count": 21,
   "id": "8b15e91d-34e4-448f-9a86-0af39ee17f28",
   "metadata": {},
   "outputs": [
    {
     "name": "stdin",
     "output_type": "stream",
     "text": [
      "Enter number:  789\n"
     ]
    },
    {
     "name": "stdout",
     "output_type": "stream",
     "text": [
      "Sum of digits =  24\n"
     ]
    }
   ],
   "source": [
    "def rsum(num) : \n",
    "    if num != 0 :\n",
    "        digit = num % 10\n",
    "        num = int(num / 10) \n",
    "        sum = digit + rsum(num)\n",
    "    else :\n",
    "        return 0 \n",
    "    return sum\n",
    "\n",
    "n = int(input('Enter number: ')) \n",
    "rs = rsum(n)\n",
    "print('Sum of digits = ', rs)\n",
    "\n"
   ]
  },
  {
   "cell_type": "markdown",
   "id": "ea695ca1-feb7-486c-97c2-c6ee2b49f78a",
   "metadata": {},
   "source": [
    "5 - Escribe una función recursiva para obtener los 15 primeros números de una sucesión de Fibonacci. En una sucesión de Fibonacci la suma de dos términos sucesivos da el tercer término. Por ejemplo: 1, 1, 2, 3, 5, 8, 13, 21, 34, 55, 89, 144, 233, 377"
   ]
  },
  {
   "cell_type": "code",
   "execution_count": 10,
   "id": "55daa3d5-9ed4-4d81-b262-fbf7b6e52bed",
   "metadata": {},
   "outputs": [
    {
     "name": "stdout",
     "output_type": "stream",
     "text": [
      "1\t1\t2\t3\t5\t8\t13\t21\t34\t55\t89\t144\t233\t377\t610\t"
     ]
    }
   ],
   "source": [
    "def fibo(old, current, terms) :\n",
    "    if terms >= 1 :\n",
    "        new = old + current\n",
    "        print( f'{new}', end = '\\t') \n",
    "        terms = terms - 1 \n",
    "        fibo(current, new, terms)\n",
    "\n",
    "old = 1\n",
    "current = 1 \n",
    "print(f'{old}', end = '\\t')\n",
    "print(f'{current}', end = '\\t') \n",
    "fibo(old, current, 13)\n"
   ]
  },
  {
   "cell_type": "markdown",
   "id": "a6808eea-63c1-4783-8096-8ce6c1fd5269",
   "metadata": {},
   "source": [
    "6 - Se introduce un número entero positivo a través del teclado; escriba una función para encontrar el equivalente binario de este número utilizando la recursividad."
   ]
  },
  {
   "cell_type": "code",
   "execution_count": 13,
   "id": "1b16b7c3-8617-42a6-9459-48220817f7b6",
   "metadata": {},
   "outputs": [
    {
     "name": "stdin",
     "output_type": "stream",
     "text": [
      "Enter the number:  2\n"
     ]
    },
    {
     "name": "stdout",
     "output_type": "stream",
     "text": [
      "The binary equivalent is:\n",
      "10"
     ]
    }
   ],
   "source": [
    "import sys # Explicar que hace esta biblioteca de Python\n",
    "\n",
    "def dec_to_binary(n) :\n",
    "    r = n % 2\n",
    "    n = int(n / 2) \n",
    "    if n != 0 :\n",
    "        dec_to_binary(n) \n",
    "    print(r, end = '')\n",
    "\n",
    "sys.setrecursionlimit(10 ** 6)\n",
    "num = int(input('Enter the number: '))\n",
    "print('The binary equivalent is:')\n",
    "dec_to_binary(num)\n"
   ]
  },
  {
   "cell_type": "markdown",
   "id": "f15906fa-3000-4264-9abc-19ad59ef49b0",
   "metadata": {},
   "source": [
    "7 - Escribe una función recursiva para obtener la suma de los 25 primeros números naturales."
   ]
  },
  {
   "cell_type": "code",
   "execution_count": 16,
   "id": "f0b60391-fc99-49b4-a3a7-36163b9208a9",
   "metadata": {},
   "outputs": [
    {
     "name": "stdin",
     "output_type": "stream",
     "text": [
      "Enter the positive largest number for running sum:  -8\n"
     ]
    },
    {
     "name": "stdout",
     "output_type": "stream",
     "text": [
      "Entered number is negative\n"
     ]
    }
   ],
   "source": [
    "def runningSum(n) :\n",
    "    if n == 0 :\n",
    "        return 0\n",
    "    else :\n",
    "        s = n + runningSum(n - 1)\n",
    "        return(s)\n",
    "max = int(input('Enter the positive largest number for running sum: '))\n",
    "if max > 0 :\n",
    "    sum = runningSum(max)\n",
    "    print(f'Running Sum: {sum}')\n",
    "else :\n",
    "    print('Entered number is negative')\n"
   ]
  },
  {
   "cell_type": "markdown",
   "id": "c2f732a5-b1ba-455d-bb82-d2f9bfd9e462",
   "metadata": {},
   "source": [
    "8 - El papel de tamaño A0 tiene unas dimensiones de 1189 mm x 841 mm. Cada tamaño subsiguiente A(n) se define como A(n-1) cortado por la mitad, paralelo a sus lados más cortos.  \n",
    "Escribe un programa para calcular e imprimir los tamaños de papel A0, A1, A2, ... An usando recursividad."
   ]
  },
  {
   "attachments": {
    "0b6e9f0a-65d3-4bc2-94d4-b842918f2afb.png": {
     "image/png": "[encoded data removed]"
    }
   },
   "cell_type": "markdown",
   "id": "42629cbb-ad76-477b-97a6-e3cf1c829a6f",
   "metadata": {},
   "source": [
    "![image.png](attachment:0b6e9f0a-65d3-4bc2-94d4-b842918f2afb.png)"
   ]
  },
  {
   "cell_type": "code",
   "execution_count": 17,
   "id": "935bb2c3-a683-46fe-b090-ba6bb8ec9651",
   "metadata": {},
   "outputs": [
    {
     "name": "stdout",
     "output_type": "stream",
     "text": [
      "A0: L = 1189 B = 841\n",
      "A1: L = 841 B = 594\n",
      "A2: L = 594 B = 420\n",
      "A3: L = 420 B = 297\n",
      "A4: L = 297 B = 210\n",
      "A5: L = 210 B = 148\n",
      "A6: L = 148 B = 105\n"
     ]
    }
   ],
   "source": [
    "def papersizes(i, n, l, b) :\n",
    "    if n != 0 :\n",
    "        print(f'A{i}: L = {int(l)} B = {int(b)}')\n",
    "        newb = l / 2 \n",
    "        newl = b\n",
    "        n -= 1\n",
    "        i += 1\n",
    "        papersizes(i, n, newl, newb)\n",
    "\n",
    "papersizes(0, 7, 1189, 841)"
   ]
  },
  {
   "cell_type": "markdown",
   "id": "63ae1b0e-d3c4-4c8f-aa2b-b33d1a457958",
   "metadata": {},
   "source": [
    "9 - Desarrolle usted mismo un ejemplo donde se utilicen funciones recursivas. Explique con comentarios línea por línea el codigo propuesto."
   ]
  },
  {
   "cell_type": "code",
   "execution_count": null,
   "id": "addd94c4-c2e2-4c95-8246-96caa0cda31d",
   "metadata": {},
   "outputs": [],
   "source": []
  },
  {
   "cell_type": "markdown",
   "id": "722617f5-4b26-4f78-a3ea-044560132e07",
   "metadata": {
    "jp-MarkdownHeadingCollapsed": true
   },
   "source": [
    "## Parte (b): Ejercicios propuestos"
   ]
  },
  {
   "cell_type": "markdown",
   "id": "19dbc8f5-b51c-47dd-ad9b-8bb14ffea15c",
   "metadata": {},
   "source": [
    "10 - Se introduce una cadena a través del teclado. Escribe una función recursiva que cuente el número de vocales de esta cadena."
   ]
  },
  {
   "cell_type": "code",
   "execution_count": null,
   "id": "068bdd66-a992-4e8d-a5fc-3765362fcb19",
   "metadata": {},
   "outputs": [],
   "source": []
  },
  {
   "cell_type": "markdown",
   "id": "4dd55df0-cc0f-423c-9ca7-af95ddb99af7",
   "metadata": {},
   "source": [
    "11 - Se introduce una cadena a través del teclado. Escribe una función recursiva que compruebe si la cadena es un palíndromo o no"
   ]
  },
  {
   "cell_type": "code",
   "execution_count": null,
   "id": "e04ac723-f022-4a31-9a4f-dd2c3585defe",
   "metadata": {},
   "outputs": [],
   "source": []
  },
  {
   "cell_type": "markdown",
   "id": "3a7a42cc-31f2-47ba-97f0-564d3e255bf1",
   "metadata": {},
   "source": [
    "12 - Se reciben dos números a través del teclado en las variables a y b. Escribe una función recursiva que calcule el valor de $ a^{b} $."
   ]
  },
  {
   "cell_type": "code",
   "execution_count": null,
   "id": "5d7e644c-57d2-4387-93e5-6d074e5eef71",
   "metadata": {},
   "outputs": [],
   "source": []
  },
  {
   "cell_type": "markdown",
   "id": "45347e46-2f4e-44a9-849d-166107359833",
   "metadata": {},
   "source": [
    "13 - Escribe una función recursiva para obtener la media de todos los números presentes en una lista dada."
   ]
  },
  {
   "cell_type": "code",
   "execution_count": null,
   "id": "5f67e9ee-f7da-48ab-991c-54cfb5f758ff",
   "metadata": {},
   "outputs": [],
   "source": []
  },
  {
   "cell_type": "markdown",
   "id": "cd7a41fe-961e-4fde-a551-b56c4cc076a4",
   "metadata": {},
   "source": [
    "14 - Explicar linea por linea con la ayuda de los comentarios los siguientes códigos. Ampliar los códigos añadiendo varios 'print()' para ver mejor lo que la función está haciendo."
   ]
  },
  {
   "cell_type": "markdown",
   "id": "cb7a8ae8-848b-4d21-a5c6-d6cb7f77d2c6",
   "metadata": {},
   "source": [
    "(a) "
   ]
  },
  {
   "cell_type": "code",
   "execution_count": 18,
   "id": "3f3cabd9-99ff-42d8-954a-2b2332a00ea2",
   "metadata": {},
   "outputs": [
    {
     "name": "stdout",
     "output_type": "stream",
     "text": [
      "48\n"
     ]
    }
   ],
   "source": [
    "def fun(x, y) :\n",
    "    if x == 0:\n",
    "        return y\n",
    "    else:\n",
    "        return fun(x - 1, x * y) \n",
    "\n",
    "print(fun(4, 2))    "
   ]
  },
  {
   "cell_type": "markdown",
   "id": "6a130b3a-42e0-4887-8285-d196702946f0",
   "metadata": {},
   "source": [
    "(b)"
   ]
  },
  {
   "cell_type": "code",
   "execution_count": 19,
   "id": "447a7c34-1277-4a89-8f49-b52de340d343",
   "metadata": {},
   "outputs": [
    {
     "name": "stdout",
     "output_type": "stream",
     "text": [
      "91\n"
     ]
    }
   ],
   "source": [
    "def fun(num) :\n",
    "    if num > 100 :\n",
    "        return num - 10\n",
    "    return fun(fun(num + 11))\n",
    "print(fun(75))"
   ]
  },
  {
   "cell_type": "markdown",
   "id": "79f33756-1b59-4571-a9be-8147c03d4bd2",
   "metadata": {},
   "source": [
    "(c) "
   ]
  },
  {
   "cell_type": "code",
   "execution_count": 20,
   "id": "b1561fea-c379-4bea-a342-b547afd7ddae",
   "metadata": {},
   "outputs": [
    {
     "name": "stdout",
     "output_type": "stream",
     "text": [
      "True\n"
     ]
    }
   ],
   "source": [
    "def fun(num) :\n",
    "    if num == 0 :\n",
    "        print(\"False\")\n",
    "    if num == 1 :\n",
    "        print(\"True\")\n",
    "    if num % 2 == 0 :\n",
    "        fun(num / 2)\n",
    "fun(256)\n"
   ]
  },
  {
   "cell_type": "code",
   "execution_count": null,
   "id": "6dfe6b32-99d3-4a10-bd58-ab557804645e",
   "metadata": {},
   "outputs": [],
   "source": []
  }
 ],
 "metadata": {
  "kernelspec": {
   "display_name": "Python 3 (ipykernel)",
   "language": "python",
   "name": "python3"
  },
  "language_info": {
   "codemirror_mode": {
    "name": "ipython",
    "version": 3
   },
   "file_extension": ".py",
   "mimetype": "text/x-python",
   "name": "python",
   "nbconvert_exporter": "python",
   "pygments_lexer": "ipython3",
   "version": "3.11.9"
  }
 },
 "nbformat": 4,
 "nbformat_minor": 5
}
