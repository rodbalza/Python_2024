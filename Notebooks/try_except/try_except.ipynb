{
 "cells": [
  {
   "cell_type": "code",
   "execution_count": 1,
   "id": "56e69747-f201-4ec8-b560-01ff577684dc",
   "metadata": {},
   "outputs": [],
   "source": [
    "\n",
    "'''\n",
    "# solucion\n",
    "def dividir(a, b):\n",
    "    # Si b es 0 no podemos dividir por lo que devolvemos None\n",
    "    if b == 0:\n",
    "        return None\n",
    "    # En caso contrario devolvemos el resultado de la división\n",
    "    return a/b\n",
    "'''"
   ]
  },
  {
   "cell_type": "code",
   "execution_count": 11,
   "id": "23c52908-fc56-4c75-b519-bf817169c988",
   "metadata": {},
   "outputs": [
    {
     "name": "stdin",
     "output_type": "stream",
     "text": [
      "Introduce un número:  aaa\n"
     ]
    },
    {
     "name": "stdout",
     "output_type": "stream",
     "text": [
      "Ha ocurrido un error, introduce bien el número\n"
     ]
    }
   ],
   "source": [
    "'''\n",
    "try:\n",
    "    n = float(input(\"Introduce un número: \"))\n",
    "    m = 4.0\n",
    "    print(f\"n/m: {n}/{m} = {n/m}\")\n",
    "except:\n",
    "    print(\"Ha ocurrido un error, introduce bien el número\")\n",
    "'''"
   ]
  },
  {
   "cell_type": "code",
   "execution_count": 13,
   "id": "c83f25e9-3320-49df-9184-fe3b4d8ea71a",
   "metadata": {},
   "outputs": [
    {
     "name": "stdin",
     "output_type": "stream",
     "text": [
      "Introduce un número:  ccc\n"
     ]
    },
    {
     "name": "stdout",
     "output_type": "stream",
     "text": [
      "Ha ocurrido un error, introduce bien el número\n"
     ]
    },
    {
     "name": "stdin",
     "output_type": "stream",
     "text": [
      "Introduce un número:  ftf\n"
     ]
    },
    {
     "name": "stdout",
     "output_type": "stream",
     "text": [
      "Ha ocurrido un error, introduce bien el número\n"
     ]
    },
    {
     "name": "stdin",
     "output_type": "stream",
     "text": [
      "Introduce un número:  16.0\n"
     ]
    },
    {
     "name": "stdout",
     "output_type": "stream",
     "text": [
      "n/m: 16.0/4.0 = 4.0\n"
     ]
    }
   ],
   "source": [
    "'''\n",
    "while(True):\n",
    "    try:\n",
    "        n = float(input(\"Introduce un número: \"))\n",
    "        m = 4.0\n",
    "        print(f\"n/m: {n}/{m} = {n/m}\")\n",
    "        break  # Importante romper la iteración si todo ha salido bien\n",
    "    except:\n",
    "        print(\"Ha ocurrido un error, introduce bien el número\")\n",
    "'''"
   ]
  },
  {
   "cell_type": "code",
   "execution_count": 1,
   "id": "1a3804e8-446b-4cf9-b4a2-3d304ddd4505",
   "metadata": {},
   "outputs": [
    {
     "name": "stdin",
     "output_type": "stream",
     "text": [
      "Introduce un número:  8.0\n"
     ]
    },
    {
     "name": "stdout",
     "output_type": "stream",
     "text": [
      "n/m: 8.0/4.0 = 2.0\n",
      "Todo ha funcionado correctamente\n"
     ]
    }
   ],
   "source": [
    "'''\n",
    "while(True):\n",
    "    try:\n",
    "        n = float(input(\"Introduce un número: \"))\n",
    "        m = 4.0\n",
    "        print(f\"n/m: {n}/{m} = {n/m}\")\n",
    "    except:\n",
    "        print(\"Ha ocurrido un error, introduce bien el número\")\n",
    "    else:\n",
    "        print(\"Todo ha funcionado correctamente\")\n",
    "        break  # Importante romper la iteración si todo ha salido bien\n",
    "\n",
    "'''"
   ]
  },
  {
   "cell_type": "code",
   "execution_count": 4,
   "id": "879b9711-2330-42d0-9155-8097e9d4510d",
   "metadata": {},
   "outputs": [
    {
     "name": "stdin",
     "output_type": "stream",
     "text": [
      "Introduce un número:  0\n"
     ]
    },
    {
     "name": "stdout",
     "output_type": "stream",
     "text": [
      "n/m: 0.0/4 = 0.0\n",
      "Todo ha funcionado correctamente\n",
      "Fin de la iteración\n"
     ]
    }
   ],
   "source": [
    "'''\n",
    "while(True):\n",
    "    try:\n",
    "        n = float(input(\"Introduce un número: \"))\n",
    "        m = 4\n",
    "        print(f\"n/m: {n}/{m} = {n/m}\")\n",
    "    except:\n",
    "        print(\"Ha ocurrido un error, introduce bien el número\")\n",
    "    else:\n",
    "        print(\"Todo ha funcionado correctamente\")\n",
    "        break  # Importante romper la iteración si todo ha salido bien\n",
    "    finally:\n",
    "        print(\"Fin de la iteración\") # Siempre se ejecuta\n",
    "'''"
   ]
  },
  {
   "cell_type": "code",
   "execution_count": 7,
   "id": "931b2e4f-f5a9-42ee-be6a-50bcbb87d3ea",
   "metadata": {},
   "outputs": [
    {
     "name": "stdin",
     "output_type": "stream",
     "text": [
      "Introduce un número:  5\n"
     ]
    },
    {
     "name": "stdout",
     "output_type": "stream",
     "text": [
      "Ha ocurrido un error => TypeError\n"
     ]
    }
   ],
   "source": [
    "'''\n",
    "try:\n",
    "    n = input(\"Introduce un número: \")  # no transformamos a número\n",
    "    5/n\n",
    "except Exception as e:  # guardamos la excepción como una variable e\n",
    "    print(\"Ha ocurrido un error =>\", type(e).__name__)\n",
    "'''"
   ]
  },
  {
   "cell_type": "code",
   "execution_count": 13,
   "id": "67781b57-1360-4fb9-adde-b599edc2febe",
   "metadata": {},
   "outputs": [
    {
     "name": "stdin",
     "output_type": "stream",
     "text": [
      "Introduce un número divisor:  0\n"
     ]
    },
    {
     "name": "stdout",
     "output_type": "stream",
     "text": [
      "No se puede dividir por cero, prueba otro número\n"
     ]
    }
   ],
   "source": [
    "try:\n",
    "    n = float(input(\"Introduce un número divisor: \"))\n",
    "    5/n\n",
    "except TypeError:\n",
    "    print(\"No se puede dividir el número entre una cadena\")\n",
    "except ValueError:\n",
    "    print(\"Debes introducir una cadena que sea un número\")\n",
    "except ZeroDivisionError:\n",
    "    print(\"No se puede dividir por cero, prueba otro número\")\n",
    "except Exception as e:\n",
    "    print(\"Ha ocurrido un error no previsto\", type(e).__name__ )"
   ]
  },
  {
   "cell_type": "code",
   "execution_count": null,
   "id": "c5fdde8a-5d0c-4bc8-a329-e4802f6d3433",
   "metadata": {},
   "outputs": [],
   "source": []
  }
 ],
 "metadata": {
  "kernelspec": {
   "display_name": "Python 3 (ipykernel)",
   "language": "python",
   "name": "python3"
  },
  "language_info": {
   "codemirror_mode": {
    "name": "ipython",
    "version": 3
   },
   "file_extension": ".py",
   "mimetype": "text/x-python",
   "name": "python",
   "nbconvert_exporter": "python",
   "pygments_lexer": "ipython3",
   "version": "3.11.9"
  }
 },
 "nbformat": 4,
 "nbformat_minor": 5
}
