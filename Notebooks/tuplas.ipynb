{
 "cells": [
  {
   "cell_type": "code",
   "execution_count": 1,
   "id": "7705d5de-a82a-40bc-9c94-a53c6ed4be72",
   "metadata": {},
   "outputs": [],
   "source": [
    "# tup = ('Alice', 34, ['Ronnie', 'Sidney'])"
   ]
  },
  {
   "cell_type": "code",
   "execution_count": 2,
   "id": "9628c87d-5932-41ab-9aee-1fbb32c1515b",
   "metadata": {},
   "outputs": [
    {
     "data": {
      "text/plain": [
       "('Alice', 34, ['Ronnie', 'Sidney'])"
      ]
     },
     "execution_count": 2,
     "metadata": {},
     "output_type": "execute_result"
    }
   ],
   "source": [
    "# tup\n"
   ]
  },
  {
   "cell_type": "code",
   "execution_count": 3,
   "id": "60e784a4-5011-42d2-8c7e-422d7eabc8fe",
   "metadata": {},
   "outputs": [
    {
     "data": {
      "text/plain": [
       "['Ronnie', 'Sidney']"
      ]
     },
     "execution_count": 3,
     "metadata": {},
     "output_type": "execute_result"
    }
   ],
   "source": [
    "# tup[2]"
   ]
  },
  {
   "cell_type": "code",
   "execution_count": 4,
   "id": "aab9bf93-dc2b-4344-8498-183cee3db5a5",
   "metadata": {},
   "outputs": [
    {
     "ename": "TypeError",
     "evalue": "'tuple' object does not support item assignment",
     "output_type": "error",
     "traceback": [
      "\u001b[1;31m---------------------------------------------------------------------------\u001b[0m",
      "\u001b[1;31mTypeError\u001b[0m                                 Traceback (most recent call last)",
      "Cell \u001b[1;32mIn[4], line 1\u001b[0m\n\u001b[1;32m----> 1\u001b[0m \u001b[43mtup\u001b[49m\u001b[43m[\u001b[49m\u001b[38;5;241;43m2\u001b[39;49m\u001b[43m]\u001b[49m \u001b[38;5;241m=\u001b[39m \u001b[38;5;124m'\u001b[39m\u001b[38;5;124mstronger\u001b[39m\u001b[38;5;124m'\u001b[39m\n",
      "\u001b[1;31mTypeError\u001b[0m: 'tuple' object does not support item assignment"
     ]
    }
   ],
   "source": [
    "# tup[2] = 'stronger'"
   ]
  },
  {
   "cell_type": "code",
   "execution_count": 7,
   "id": "c3195429-622a-4a0a-8d74-379a39d6a7e6",
   "metadata": {},
   "outputs": [
    {
     "data": {
      "text/plain": [
       "(0, 1, 2, 3, 'Geeks', 'For', 'Geeks')"
      ]
     },
     "execution_count": 7,
     "metadata": {},
     "output_type": "execute_result"
    }
   ],
   "source": [
    "Tuple1 = (0, 1,2, 3)\n",
    "Tuple2 = ('Geeks', 'For', 'Geeks')\n",
    "Tuple3 = Tuple1 + Tuple2\n",
    "Tuple3"
   ]
  },
  {
   "cell_type": "code",
   "execution_count": null,
   "id": "2f9cd41a-77ad-4beb-8a04-b019bf37f5a3",
   "metadata": {},
   "outputs": [],
   "source": []
  }
 ],
 "metadata": {
  "kernelspec": {
   "display_name": "Python 3 (ipykernel)",
   "language": "python",
   "name": "python3"
  },
  "language_info": {
   "codemirror_mode": {
    "name": "ipython",
    "version": 3
   },
   "file_extension": ".py",
   "mimetype": "text/x-python",
   "name": "python",
   "nbconvert_exporter": "python",
   "pygments_lexer": "ipython3",
   "version": "3.11.9"
  }
 },
 "nbformat": 4,
 "nbformat_minor": 5
}
