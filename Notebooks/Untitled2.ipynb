{
 "cells": [
  {
   "cell_type": "code",
   "execution_count": 5,
   "id": "977fcef8",
   "metadata": {},
   "outputs": [
    {
     "name": "stdout",
     "output_type": "stream",
     "text": [
      "Hi\n"
     ]
    }
   ],
   "source": [
    "'''\n",
    "a = 10\n",
    "b = 60\n",
    "if (a > 20 and b > 20):\n",
    "    print('Hello')\n",
    "else:\n",
    "    print('Hi')\n",
    "'''"
   ]
  },
  {
   "cell_type": "code",
   "execution_count": 2,
   "id": "0ff92bc6",
   "metadata": {},
   "outputs": [
    {
     "name": "stdin",
     "output_type": "stream",
     "text": [
      "Introduce un entero:  11\n"
     ]
    },
    {
     "name": "stdout",
     "output_type": "stream",
     "text": [
      "30\n",
      "fin del programa\n"
     ]
    }
   ],
   "source": [
    "'''\n",
    "a = int(input('Introduce un entero: '))\n",
    "b = 20\n",
    "if a < 10:\n",
    "    print(b)\n",
    "else:\n",
    "    b = 30\n",
    "    print(b)\n",
    "print('fin del programa')\n",
    "'''"
   ]
  },
  {
   "cell_type": "markdown",
   "id": "8a500451-893f-4272-af75-67c42c8dbb6e",
   "metadata": {},
   "source": [
    "List Comprehension\n"
   ]
  },
  {
   "cell_type": "markdown",
   "id": "36847abe-7a30-4ab0-81c8-75b7c48628a2",
   "metadata": {},
   "source": [
    "1. Generar 20 numeros aleatorios en el rango de 10 hasta 100. "
   ]
  },
  {
   "cell_type": "code",
   "execution_count": 8,
   "id": "6625df7f-fd7b-4f84-b6df-5e6d7a9802aa",
   "metadata": {},
   "outputs": [
    {
     "name": "stdout",
     "output_type": "stream",
     "text": [
      "[75, 77, 19, 73, 26, 95, 89, 62, 31, 90, 54, 26, 32, 33, 62, 49, 16, 59, 95, 21]\n"
     ]
    }
   ],
   "source": [
    "'''\n",
    "import random\n",
    "a = [random.randint(10, 100) for n in range (20)]\n",
    "print(a)\n",
    "'''"
   ]
  },
  {
   "cell_type": "markdown",
   "id": "9596863a-9a76-49ea-87f1-73bbdc337aef",
   "metadata": {},
   "source": [
    "2. Generar una lista que contenga el cuadrado y el cubo de todos los numeros entre 0 y 100"
   ]
  },
  {
   "cell_type": "code",
   "execution_count": 9,
   "id": "7159d165-cfdd-41cd-b088-7f567753aff4",
   "metadata": {},
   "outputs": [
    {
     "name": "stdout",
     "output_type": "stream",
     "text": [
      "[(0, 0, 0), (1, 1, 1), (2, 4, 8), (3, 9, 27), (4, 16, 64), (5, 25, 125), (6, 36, 216), (7, 49, 343), (8, 64, 512), (9, 81, 729)]\n"
     ]
    }
   ],
   "source": [
    "'''\n",
    "b = [(x,x**2, x**3) for x in range(10)]\n",
    "print(b)\n",
    "'''"
   ]
  },
  {
   "cell_type": "code",
   "execution_count": 11,
   "id": "e989f8b9-d18d-4e92-a28a-0ca8692aaeb6",
   "metadata": {},
   "outputs": [
    {
     "data": {
      "text/plain": [
       "\"\\ncompra = ['Agua', 'Huevos', 'Aceite', 'Sal', 'Limón']\\ncompra[-1:-4:-1]\\n\""
      ]
     },
     "execution_count": 11,
     "metadata": {},
     "output_type": "execute_result"
    }
   ],
   "source": [
    "'''\n",
    "compra = ['Agua', 'Huevos', 'Aceite', 'Sal', 'Limón']\n",
    "compra[-1:-4:-1]\n",
    "'''"
   ]
  },
  {
   "cell_type": "code",
   "execution_count": 18,
   "id": "e67c08bf-0c27-40b3-b6d4-0f380b1b8bbf",
   "metadata": {},
   "outputs": [
    {
     "data": {
      "text/plain": [
       "['Limón', 'Sal', 'Aceite', 'Huevos', 'Agua']"
      ]
     },
     "execution_count": 18,
     "metadata": {},
     "output_type": "execute_result"
    }
   ],
   "source": [
    "'''\n",
    "compra = ['Agua', 'Huevos', 'Aceite', 'Sal', 'Limón']\n",
    "list(reversed(compra))\n",
    "'''"
   ]
  },
  {
   "cell_type": "code",
   "execution_count": 19,
   "id": "f900c595-1b2c-41bb-91cf-4862ce54a9c8",
   "metadata": {},
   "outputs": [
    {
     "data": {
      "text/plain": [
       "['Agua', 'Huevos', 'Aceite', 'Sal', 'Limón']"
      ]
     },
     "execution_count": 19,
     "metadata": {},
     "output_type": "execute_result"
    }
   ],
   "source": [
    "# compra"
   ]
  },
  {
   "cell_type": "code",
   "execution_count": 16,
   "id": "a1b4b974-f76f-4d80-891f-5ecc4405a668",
   "metadata": {},
   "outputs": [
    {
     "data": {
      "text/plain": [
       "['Agua', 'Huevos', 'Aceite', 'Sal', 'Limón']"
      ]
     },
     "execution_count": 16,
     "metadata": {},
     "output_type": "execute_result"
    }
   ],
   "source": [
    "'''\n",
    "compra.reverse()\n",
    "compra\n",
    "'''"
   ]
  },
  {
   "cell_type": "code",
   "execution_count": 17,
   "id": "7d0d9b03-21ed-4c8d-9c7e-5b0561953030",
   "metadata": {},
   "outputs": [
    {
     "data": {
      "text/plain": [
       "['Agua', 'Huevos', 'Aceite', 'Sal', 'Limón']"
      ]
     },
     "execution_count": 17,
     "metadata": {},
     "output_type": "execute_result"
    }
   ],
   "source": [
    "# compra"
   ]
  },
  {
   "cell_type": "code",
   "execution_count": 24,
   "id": "98d0edc2-8264-4232-89b6-d74e12de0cce",
   "metadata": {},
   "outputs": [],
   "source": [
    "'''\n",
    "valores = '32,45,11,87,20,48'\n",
    "svalores = valores.split(',')\n",
    "combinaciones = [f'{v1}x{v2}' for v1, v2 in svalores]\n",
    "'''"
   ]
  },
  {
   "cell_type": "code",
   "execution_count": 25,
   "id": "5a05a1d1-c3aa-42bb-b618-b93c9a58f637",
   "metadata": {},
   "outputs": [
    {
     "data": {
      "text/plain": [
       "['3x2', '4x5', '1x1', '8x7', '2x0', '4x8']"
      ]
     },
     "execution_count": 25,
     "metadata": {},
     "output_type": "execute_result"
    }
   ],
   "source": [
    "# combinaciones"
   ]
  },
  {
   "cell_type": "code",
   "execution_count": 26,
   "id": "d8dc154c-e27e-44b1-a879-54e9eb2343df",
   "metadata": {},
   "outputs": [
    {
     "data": {
      "text/plain": [
       "['32', '45', '11', '87', '20', '48']"
      ]
     },
     "execution_count": 26,
     "metadata": {},
     "output_type": "execute_result"
    }
   ],
   "source": [
    "# svalores"
   ]
  },
  {
   "cell_type": "code",
   "execution_count": 27,
   "id": "8a07e4dd-c34e-446f-9216-4e9827805d48",
   "metadata": {},
   "outputs": [
    {
     "ename": "ValueError",
     "evalue": "list.remove(x): x not in list",
     "output_type": "error",
     "traceback": [
      "\u001b[1;31m---------------------------------------------------------------------------\u001b[0m",
      "\u001b[1;31mValueError\u001b[0m                                Traceback (most recent call last)",
      "Cell \u001b[1;32mIn[27], line 4\u001b[0m\n\u001b[0;32m      2\u001b[0m lst\u001b[38;5;241m.\u001b[39mappend(\u001b[38;5;241m22\u001b[39m) \u001b[38;5;66;03m# añade un nuevo item al final de la lista\u001b[39;00m\n\u001b[0;32m      3\u001b[0m lst\u001b[38;5;241m.\u001b[39mremove(\u001b[38;5;241m13\u001b[39m) \u001b[38;5;66;03m# borra el item 13 de la lista\u001b[39;00m\n\u001b[1;32m----> 4\u001b[0m \u001b[43mlst\u001b[49m\u001b[38;5;241;43m.\u001b[39;49m\u001b[43mremove\u001b[49m\u001b[43m(\u001b[49m\u001b[38;5;241;43m30\u001b[39;49m\u001b[43m)\u001b[49m \u001b[38;5;66;03m# devuelve valueError porque 30 no está en la lista\u001b[39;00m\n\u001b[0;32m      5\u001b[0m lst\u001b[38;5;241m.\u001b[39mpop() \u001b[38;5;66;03m# remueve el último item de la lista\u001b[39;00m\n",
      "\u001b[1;31mValueError\u001b[0m: list.remove(x): x not in list"
     ]
    }
   ],
   "source": [
    "'''\n",
    "lst = [12, 15, 13, 23, 22, 16, 17]    # Crear lista\n",
    "lst.append(22) # añade un nuevo item al final de la lista\n",
    "lst.remove(13) # borra el item 13 de la lista\n",
    "lst.remove(30) # devuelve valueError porque 30 no está en la lista\n",
    "lst.pop() # remueve el último item de la lista\n",
    "lst.pop(3) # remueve el tercer item de la lista\n",
    "lst.insert(3,21) # inserta el 21 en la tercera posicion\n",
    "lst.count(23) # deuvelve el número de veces que aparece el numero 23 en la lista\n",
    "idx = lst.index(22) # retorna el índice del item 22\n",
    "idx1 = lst.index(50) # retorna un valueError dado que el 50 no se encuentra en la lista\n",
    "''' \n"
   ]
  },
  {
   "cell_type": "code",
   "execution_count": 7,
   "id": "60290eec-8aed-4a72-9fd4-ba840a2f90e5",
   "metadata": {},
   "outputs": [],
   "source": [
    "abdul = {1:2, 3:4, 5:6}"
   ]
  },
  {
   "cell_type": "code",
   "execution_count": 8,
   "id": "18b75216-18bd-4b33-b303-b4d5f5cdbf5f",
   "metadata": {},
   "outputs": [
    {
     "data": {
      "text/plain": [
       "{1: 2, 3: 4, 5: 6}"
      ]
     },
     "execution_count": 8,
     "metadata": {},
     "output_type": "execute_result"
    }
   ],
   "source": [
    "abdul"
   ]
  },
  {
   "cell_type": "code",
   "execution_count": 9,
   "id": "2373b87a-5deb-4d2f-a960-4cbcab39a327",
   "metadata": {},
   "outputs": [
    {
     "data": {
      "text/plain": [
       "dict"
      ]
     },
     "execution_count": 9,
     "metadata": {},
     "output_type": "execute_result"
    }
   ],
   "source": [
    "type(abdul)"
   ]
  },
  {
   "cell_type": "code",
   "execution_count": 13,
   "id": "3f6c8971-3591-4ad0-9ede-f7d7167f3b1f",
   "metadata": {},
   "outputs": [
    {
     "data": {
      "text/plain": [
       "frozenset({(1, 2), (3, 4), (5, 6)})"
      ]
     },
     "execution_count": 13,
     "metadata": {},
     "output_type": "execute_result"
    }
   ],
   "source": [
    "abdulah = frozenset(abdul.items())\n",
    "abdulah\n"
   ]
  },
  {
   "cell_type": "code",
   "execution_count": 5,
   "id": "224a927c-a672-4367-b5fd-53ce1633fab0",
   "metadata": {},
   "outputs": [
    {
     "data": {
      "text/plain": [
       "frozenset({1, 2, 4, 6})"
      ]
     },
     "execution_count": 5,
     "metadata": {},
     "output_type": "execute_result"
    }
   ],
   "source": [
    "abdulah"
   ]
  },
  {
   "cell_type": "code",
   "execution_count": 6,
   "id": "22780d8b-bcb6-407f-aef9-9a1ae11a05d6",
   "metadata": {},
   "outputs": [
    {
     "name": "stdout",
     "output_type": "stream",
     "text": [
      "frozenset({1, 2, 4, 6})\n"
     ]
    }
   ],
   "source": [
    "print(abdulah)"
   ]
  },
  {
   "cell_type": "code",
   "execution_count": null,
   "id": "96d4626c-8553-4b13-b46a-da7f8899ed2a",
   "metadata": {},
   "outputs": [],
   "source": []
  }
 ],
 "metadata": {
  "kernelspec": {
   "display_name": "Python 3 (ipykernel)",
   "language": "python",
   "name": "python3"
  },
  "language_info": {
   "codemirror_mode": {
    "name": "ipython",
    "version": 3
   },
   "file_extension": ".py",
   "mimetype": "text/x-python",
   "name": "python",
   "nbconvert_exporter": "python",
   "pygments_lexer": "ipython3",
   "version": "3.11.9"
  }
 },
 "nbformat": 4,
 "nbformat_minor": 5
}
