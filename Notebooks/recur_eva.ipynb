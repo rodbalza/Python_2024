{
 "cells": [
  {
   "cell_type": "code",
   "execution_count": 2,
   "id": "1f7b6dec-c84a-485c-a36a-b6e085ea1667",
   "metadata": {},
   "outputs": [
    {
     "name": "stdin",
     "output_type": "stream",
     "text": [
      "Ingrese un número:  8\n"
     ]
    },
    {
     "name": "stdout",
     "output_type": "stream",
     "text": [
      "La representación binaria es:\n",
      "1000\n"
     ]
    }
   ],
   "source": [
    "def dec_to_binary(n):\n",
    "  \"\"\"\n",
    "  Convierte un número decimal a binario recursivamente, imprimiendo los valores intermedios.\n",
    "\n",
    "  Argumentos:\n",
    "    n (int): El número decimal a convertir.\n",
    "\n",
    "  Devuelve:\n",
    "    str: La representación binaria del número decimal.\n",
    "  \"\"\"\n",
    "  r = n % 2  # Residuo de la división por 2\n",
    "  n = int(n / 2)  # Cociente de la división por 2\n",
    "\n",
    "  # Impresión invertida de valores\n",
    "  # La impresión se retrasa hasta el final de la recursión\n",
    "  binario = \"\"  # Almacena la representación binaria final\n",
    "\n",
    "  if n != 0:\n",
    "    # Llamada recursiva\n",
    "    binario += dec_to_binary(n)\n",
    "\n",
    "  # Impresión del dígito binario actual (r)\n",
    "  binario += str(r)\n",
    "\n",
    "  return binario\n",
    "\n",
    "# Ejemplo de uso\n",
    "num = int(input('Ingrese un número: '))\n",
    "print('La representación binaria es:')\n",
    "print(dec_to_binary(num))\n",
    "\n",
    "# Ejemplo de salida para num = 8\n",
    "# La representación binaria invertida es:\n",
    "# 0101\n",
    "# El equivalente binario es: 1000"
   ]
  },
  {
   "cell_type": "code",
   "execution_count": 3,
   "id": "4e3de3bf-5a37-4e24-8519-912bd4b937c3",
   "metadata": {},
   "outputs": [
    {
     "name": "stdin",
     "output_type": "stream",
     "text": [
      "Enter the number:  8\n"
     ]
    },
    {
     "name": "stdout",
     "output_type": "stream",
     "text": [
      "The binary equivalent is:\n",
      "1000"
     ]
    }
   ],
   "source": [
    "import sys # Explicar que hace esta biblioteca de Python\n",
    "\n",
    "def dec_to_binary(n) :\n",
    "    r = n % 2\n",
    "    n = int(n / 2)\n",
    "    \n",
    "    if n != 0 :\n",
    "        dec_to_binary(n) \n",
    "    \n",
    "    print(r, end = '')\n",
    "\n",
    "sys.setrecursionlimit(10 ** 6)\n",
    "num = int(input('Enter the number: '))\n",
    "print('The binary equivalent is:')\n",
    "dec_to_binary(num)"
   ]
  },
  {
   "cell_type": "code",
   "execution_count": null,
   "id": "634c312d-21a8-45fa-84e4-4d7945b254d2",
   "metadata": {},
   "outputs": [],
   "source": []
  }
 ],
 "metadata": {
  "kernelspec": {
   "display_name": "Python 3 (ipykernel)",
   "language": "python",
   "name": "python3"
  },
  "language_info": {
   "codemirror_mode": {
    "name": "ipython",
    "version": 3
   },
   "file_extension": ".py",
   "mimetype": "text/x-python",
   "name": "python",
   "nbconvert_exporter": "python",
   "pygments_lexer": "ipython3",
   "version": "3.11.9"
  }
 },
 "nbformat": 4,
 "nbformat_minor": 5
}
