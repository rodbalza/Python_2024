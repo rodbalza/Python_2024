{
 "cells": [
  {
   "cell_type": "markdown",
   "id": "7e4c1ad9-0df3-4d01-aaa0-ca633940a603",
   "metadata": {},
   "source": [
    "1 -  Cree un diccionario que contenga los nombres de los estudiantes y las calificaciones obtenidas por ellos en tres materias. Escriba un programa para reemplazar las calificaciones de tres materias con el total de tres materias y las calificaciones promedio. Informe también quién es el mejor de la clase."
   ]
  },
  {
   "cell_type": "code",
   "execution_count": null,
   "id": "1c50e8f6-fd55-4ff0-8041-cacfbfb90334",
   "metadata": {},
   "outputs": [],
   "source": [
    "'''\n",
    "# Crear el diccionario con nombres de estudiantes y calificaciones\n",
    "estudiantes = {\n",
    "    \"Juan\": [8, 7, 9],\n",
    "    \"María\": [6, 8, 7],\n",
    "    \"Pedro\": [9, 9, 8],\n",
    "    \"Ana\": [7, 6, 7],\n",
    "    \"Luis\": [8, 8, 9]\n",
    "}\n",
    "\n",
    "# Calcular el total y el promedio de las calificaciones para cada estudiante\n",
    "for estudiante, calificaciones in estudiantes.items():\n",
    "    total = sum(calificaciones)\n",
    "    promedio = total / len(calificaciones)\n",
    "    estudiantes[estudiante] = {\"Total\": total, \"Promedio\": promedio}\n",
    "\n",
    "# Encontrar al mejor estudiante (mayor promedio)\n",
    "mejor_promedio = 0\n",
    "mejor_estudiante = \"\"\n",
    "for estudiante, datos in estudiantes.items():\n",
    "    if datos[\"Promedio\"] > mejor_promedio:\n",
    "        mejor_promedio = datos[\"Promedio\"]\n",
    "        mejor_estudiante = estudiante\n",
    "\n",
    "# Imprimir los resultados\n",
    "print(\"Calificaciones de los estudiantes:\")\n",
    "for estudiante, datos in estudiantes.items():\n",
    "    print(f\"{estudiante}: Total = {datos['Total']}, Promedio = {datos['Promedio']}\")\n",
    "\n",
    "print(f\"El mejor estudiante es: {mejor_estudiante}\")\n",
    "'''"
   ]
  },
  {
   "cell_type": "markdown",
   "id": "89873b96-8190-41ee-8dd1-03929a513c89",
   "metadata": {},
   "source": [
    "2 - Crear un diccionario que almacene los siguientes datos:"
   ]
  },
  {
   "cell_type": "markdown",
   "id": "fc451429-697b-4327-8548-282d7ef9a334",
   "metadata": {},
   "source": [
    "Interface\t    IP            Address status\n",
    "eth0\t      1.1.1.1\t            up\n",
    "eth1\t      2.2.2.2\t            up\n",
    "wlan0\t      3.3.3.3\t           down\n",
    "wlan1\t      4.4.4.4\t            up\n"
   ]
  },
  {
   "cell_type": "markdown",
   "id": "6666470d-45c7-4515-b5d7-15a2dffeaeeb",
   "metadata": {},
   "source": [
    "Escriba un programa para realizar las siguientes operaciones:\n",
    "- Encontrar el estado de una interfaz determinada.\n",
    "- Encuentra la interfaz y la IP de todas las interfaces que están activas.\n",
    "- Encuentra el número total de interfaces.\n",
    "- Añadir dos nuevas entradas al diccionario."
   ]
  },
  {
   "cell_type": "code",
   "execution_count": null,
   "id": "4b5b9db2-f3af-4243-8efa-00433a3dba42",
   "metadata": {},
   "outputs": [],
   "source": [
    "'''\n",
    "# Crear el diccionario con los datos iniciales\n",
    "datos_interfaces = {\n",
    "    \"eth0\": {\"IP\": \"1.1.1.1\", \"Estado\": \"up\"},\n",
    "    \"eth1\": {\"IP\": \"2.2.2.2\", \"Estado\": \"up\"},\n",
    "    \"wlan0\": {\"IP\": \"3.3.3.3\", \"Estado\": \"down\"},\n",
    "    \"wlan1\": {\"IP\": \"4.4.4.4\", \"Estado\": \"up\"}\n",
    "}\n",
    "\n",
    "# 1. Encontrar el estado de una interfaz determinada\n",
    "interfaz_buscar = \"eth0\"\n",
    "if interfaz_buscar in datos_interfaces:\n",
    "    estado_interfaz = datos_interfaces[interfaz_buscar][\"Estado\"]\n",
    "    print(f\"El estado de la interfaz {interfaz_buscar} es: {estado_interfaz}\")\n",
    "\n",
    "# 2. Encontrar la interfaz y la IP de todas las interfaces activas\n",
    "interfaces_activas = [(interfaz, datos[\"IP\"]) for interfaz, datos in datos_interfaces.items() if datos[\"Estado\"] == \"up\"]\n",
    "print(\"Interfaces activas:\")\n",
    "for interfaz, ip in interfaces_activas:\n",
    "    print(f\"{interfaz}: {ip}\")\n",
    "\n",
    "# 3. Encontrar el número total de interfaces\n",
    "total_interfaces = len(datos_interfaces)\n",
    "print(f\"Número total de interfaces: {total_interfaces}\")\n",
    "\n",
    "# 4. Añadir dos nuevas entradas al diccionario\n",
    "datos_interfaces[\"eth2\"] = {\"IP\": \"5.5.5.5\", \"Estado\": \"up\"}\n",
    "datos_interfaces[\"eth3\"] = {\"IP\": \"6.6.6.6\", \"Estado\": \"down\"}\n",
    "\n",
    "print(\"\\nDiccionario actualizado:\")\n",
    "for interfaz, datos in datos_interfaces.items():\n",
    "    print(f\"{interfaz}: IP={datos['IP']}, Estado={datos['Estado']}\")\n",
    "'''"
   ]
  },
  {
   "cell_type": "markdown",
   "id": "25e93249-b722-4cfc-8262-e4185e7c8caf",
   "metadata": {},
   "source": [
    "3 - Crear un diccionario de 10 nombres de usuario y contraseñas. El programa recibe el nombre de usuario y la contraseña por el teclado y luego los busca en el diccionario. Imprima el mensaje apropiado en la pantalla en función de si se encuentra una coincidencia o no."
   ]
  },
  {
   "cell_type": "code",
   "execution_count": 5,
   "id": "11327b98-7e8e-42ee-81e4-c950c1dcd0e9",
   "metadata": {},
   "outputs": [
    {
     "data": {
      "text/plain": [
       "'\\n# Crear el diccionario con nombres de usuario y contraseñas\\nusuarios_contraseñas = {\\n    \"usuario1\": \"contraseña1\",\\n    \"usuario2\": \"contraseña2\",\\n    \"usuario3\": \"contraseña3\",\\n    # Agrega más usuarios y contraseñas aquí...\\n}\\n\\n# Solicitar al usuario que ingrese su nombre de usuario y contraseña\\nnombre_usuario = input(\"Ingresa tu nombre de usuario: \")\\ncontraseña = input(\"Ingresa tu contraseña: \")\\n\\n# Verificar si las credenciales coinciden con las almacenadas en el diccionario\\nif nombre_usuario in usuarios_contraseñas:\\n    if usuarios_contraseñas[nombre_usuario] == contraseña:\\n        print(\"¡Acceso concedido! Bienvenido,\", nombre_usuario)\\n    else:\\n        print(\"Contraseña incorrecta. Inténtalo nuevamente.\")\\nelse:\\n    print(\"Nombre de usuario no encontrado. Regístrate o verifica tus credenciales.\")\\n\\n# Puedes agregar más lógica según tus necesidades, como bloquear cuentas después de varios intentos fallidos, etc.\\n'"
      ]
     },
     "execution_count": 5,
     "metadata": {},
     "output_type": "execute_result"
    }
   ],
   "source": [
    "'''\n",
    "# Crear el diccionario con nombres de usuario y contraseñas\n",
    "usuarios_contraseñas = {\n",
    "    \"usuario1\": \"contraseña1\",\n",
    "    \"usuario2\": \"contraseña2\",\n",
    "    \"usuario3\": \"contraseña3\",\n",
    "    # Agrega más usuarios y contraseñas aquí...\n",
    "}\n",
    "\n",
    "# Solicitar al usuario que ingrese su nombre de usuario y contraseña\n",
    "nombre_usuario = input(\"Ingresa tu nombre de usuario: \")\n",
    "contraseña = input(\"Ingresa tu contraseña: \")\n",
    "\n",
    "# Verificar si las credenciales coinciden con las almacenadas en el diccionario\n",
    "if nombre_usuario in usuarios_contraseñas:\n",
    "    if usuarios_contraseñas[nombre_usuario] == contraseña:\n",
    "        print(\"¡Acceso concedido! Bienvenido,\", nombre_usuario)\n",
    "    else:\n",
    "        print(\"Contraseña incorrecta. Inténtalo nuevamente.\")\n",
    "else:\n",
    "    print(\"Nombre de usuario no encontrado. Regístrate o verifica tus credenciales.\")\n",
    "\n",
    "# Puedes agregar más lógica según tus necesidades, como bloquear cuentas después de varios intentos fallidos, etc.\n",
    "'''"
   ]
  },
  {
   "cell_type": "markdown",
   "id": "ae7acff9-03e3-4db6-bbf0-c6cb6b6b8828",
   "metadata": {},
   "source": [
    "[No incluir] Suponga que un diccionario contiene 5 pares clave-valor de nombre y notas. Escriba un programa para imprimirlos desde el último par hasta el primer par. Continúe eliminando cada par impreso, de modo que el final de la impresión del diccionario este quede vacío."
   ]
  },
  {
   "cell_type": "code",
   "execution_count": null,
   "id": "c359d034-9493-49fa-bf3d-f29407abd7f4",
   "metadata": {},
   "outputs": [],
   "source": [
    "'''\n",
    "# Definir el diccionario con nombres y notas\n",
    "notas = {\n",
    "    \"Juan\": 8,\n",
    "    \"María\": 7,\n",
    "    \"Pedro\": 9,\n",
    "    \"Ana\": 6,\n",
    "    \"Luis\": 8\n",
    "}\n",
    "\n",
    "# Imprimir los pares desde el último hasta el primero\n",
    "while notas:\n",
    "    clave, valor = notas.popitem()\n",
    "    print(f\"{clave}: {valor}\")\n",
    "\n",
    "print(\"El diccionario está vacío.\")\n",
    "\n",
    "'''"
   ]
  },
  {
   "cell_type": "markdown",
   "id": "fd875e2d-cedf-4c44-b735-054df077a029",
   "metadata": {},
   "source": [
    "4 - Escriba un programa en Python que imprima un diccionario donde las claves sean números entre 1 y 15 (ambos incluidos) y los valores sean los cuadrados de sus claves respectivas."
   ]
  },
  {
   "cell_type": "code",
   "execution_count": null,
   "id": "d6832392-c3e3-48d6-96f2-0a226ec40085",
   "metadata": {},
   "outputs": [],
   "source": [
    "'''\n",
    "dictionary = {}\n",
    "for i in range(1, 16):\n",
    "    dictionary[i] = i*i\n",
    "dictionary\n",
    "'''"
   ]
  },
  {
   "cell_type": "raw",
   "id": "0758a7b4-01aa-4058-816c-604bc636c0b2",
   "metadata": {},
   "source": []
  },
  {
   "cell_type": "code",
   "execution_count": null,
   "id": "3947e3da-23bf-482e-b5fd-b992815688e4",
   "metadata": {},
   "outputs": [],
   "source": []
  },
  {
   "cell_type": "markdown",
   "id": "9b57b677-6a7b-4721-ab0c-2a1f47d76683",
   "metadata": {},
   "source": [
    "5 - Escriba un programa Python que imprima la suma todos los valores de un diccionario. Puede utilizar numeros enteros para los pares clave:valor."
   ]
  },
  {
   "cell_type": "code",
   "execution_count": null,
   "id": "64e77d3f-2901-4e31-aa1b-a33c5b5acfca",
   "metadata": {},
   "outputs": [],
   "source": [
    "'''\n",
    "dictionary = {1: 10, 2: 20, 3: 30, 4: 40, 5: 50, 6: 60}\n",
    "total = 0\n",
    "for val in dictionary.values():\n",
    "    total+= val \n",
    "total                 #OR\n",
    "\n",
    "print(sum(dictionary.values()))\n",
    "'''"
   ]
  },
  {
   "cell_type": "markdown",
   "id": "ea9c99c3-557d-4d39-9202-80a11f9d6159",
   "metadata": {},
   "source": [
    "6 - Escriba un programa en Python que multiplique todos los valores de un diccionario. Puede utilizar numeros enteros para los pares clave:valor."
   ]
  },
  {
   "cell_type": "code",
   "execution_count": 1,
   "id": "ba2439fc-bcd0-4b0c-bd53-0a6af120b092",
   "metadata": {},
   "outputs": [
    {
     "data": {
      "text/plain": [
       "720000000"
      ]
     },
     "execution_count": 1,
     "metadata": {},
     "output_type": "execute_result"
    }
   ],
   "source": [
    "\n",
    "dictionary = {1: 10, 2: 20, 3: 30, 4: 40, 5: 50, 6: 60}\n",
    "total = 1\n",
    "for val in dictionary.values():\n",
    "    total*= val \n",
    "total\n"
   ]
  },
  {
   "cell_type": "markdown",
   "id": "4504b493-8751-44d0-abba-876e38355ca0",
   "metadata": {},
   "source": [
    "7 - Escriba un programa Python que cuente la cantidad  de valores (values) que contiene cada clave (key)  del diccionario. El valor (o valores) de cada clave están guardados en una lista.  \n",
    "Ejemplo: dict = {'clave_1': [val1, val2], 'clave_2': [val3, val4],,,'clave_n': [valn, valn+1]}"
   ]
  },
  {
   "cell_type": "code",
   "execution_count": null,
   "id": "3eb5fb5f-cee9-473f-a9fd-8ffc79b12965",
   "metadata": {},
   "outputs": [],
   "source": [
    "'''\n",
    "dict =  {'Alex': ['subj1', 'subj2', 'subj3'], 'David': ['subj1', 'subj2']}\n",
    "total = 0\n",
    "for val in dict.values():\n",
    "    total+= len(val)\n",
    "total\n",
    "'''"
   ]
  },
  {
   "cell_type": "markdown",
   "id": "a7038c76-bc02-4866-b3df-9f83788df548",
   "metadata": {},
   "source": [
    "8 - Escriba un programa en Python que ordene los elementos de una lista (contenida como valores en un diccionario) alfabéticamente. Ejemplo del Diccionario:  \n",
    "```\n",
    "profes = { 'Math' : ['Julia', 'Miguel', 'Francisco', 'Eduardo', 'Elizabeth'],\n",
    "            'Physics' : ['Antonio', 'Adela', 'Maria'],\n",
    "            'Chemistry': ['Rosa', 'Adela']}\n",
    "```"
   ]
  },
  {
   "cell_type": "code",
   "execution_count": null,
   "id": "b59f9cd7-0108-4673-ac17-ed66d75459c4",
   "metadata": {},
   "outputs": [],
   "source": [
    "'''\n",
    "teachers = {\"Math\": ['Naseem', 'Ahmer', 'Noshad', 'Faisal', 'Maria'],\n",
    "             \"Physics\": ['Farooq', 'Adeel', 'Kanwal'],\n",
    "           \"Chemistry\": ['Noman','Fahad']}\n",
    "for k, v in teachers.items():\n",
    "    teachers[k] = sorted(v)\n",
    "teachers\n",
    "'''"
   ]
  },
  {
   "cell_type": "markdown",
   "id": "b4e397a3-cd6a-4fe6-a89e-cfc604544f1c",
   "metadata": {},
   "source": [
    "9 - Escriba un programa en Python que combine dos diccionarios en uno solo sumando los valores de aquellas claves que estén repetidas en dicho diccionario.  \n",
    "Datos de muestra:  \n",
    "d1 = {'a': 100, 'b': 200, 'c':300}  \n",
    "d2 = {'a': 300, 'b': 200, 'd':400}  \n",
    "\n",
    "Salida esperada:  \n",
    "`Counter({'a': 400, 'b': 400, 'd': 400, 'c': 300})}`\n"
   ]
  },
  {
   "cell_type": "code",
   "execution_count": null,
   "id": "e00f3b5c-9e6c-4614-bb30-f288684b7866",
   "metadata": {},
   "outputs": [],
   "source": [
    "'''\n",
    "d1 = {'a': 100, 'b': 200, 'c':300}\n",
    "d2 = {'a': 300, 'b': 200, 'd':400}\n",
    "combine_dict = {}\n",
    "for k1, v1 in d1.items():\n",
    "    for k2,v2 in d2.items():\n",
    "        if k1 == k2:\n",
    "            combine_dict[k1] = v1 + v2\n",
    "        else:\n",
    "            combine_dict[k1] = v1\n",
    "            combine_dict[k2] = v2\n",
    "combine_dict\n",
    "'''"
   ]
  },
  {
   "cell_type": "markdown",
   "id": "4278a43b-307d-445e-89da-d2a6d61ed3fa",
   "metadata": {},
   "source": [
    "(No) Escribir un programa en Python que imprima todos los valores únicos de un diccionario.  \n",
    "\n",
    "Datos_Muestra : [{\"V\":\"S001\"}, {\"V\": \"S002\"}, {\"VI\": \"S001\"}, {\"VI\": \"S005\"}, {\"VII\":\"S005\"}, {\"V\":\"S009\"},{\"VIII\":\"S007\"}]  \n",
    "\r",
    "Salida Esperada :Valores unicoss: {'S075', 'S002', 'S097', 'S001', 'S059'}"
   ]
  },
  {
   "cell_type": "code",
   "execution_count": 2,
   "id": "c424d872-90ea-404a-84e9-d28f9229e43e",
   "metadata": {},
   "outputs": [
    {
     "name": "stdout",
     "output_type": "stream",
     "text": [
      "{'S007', 'S002', 'S009', 'S001', 'S005'}\n"
     ]
    }
   ],
   "source": [
    "'''\n",
    "datos_muestra = [{\"V\": \"S001\"}, {\"V\": \"S002\"}, {\"VI\": \"S001\"}, {\"VI\": \"S005\"}, {\"VII\": \"S005\"}, {\"V\": \"S009\"}, {\"VIII\": \"S007\"}]\n",
    "\n",
    "valores_unicos = {valor for elemento in datos_muestra for valor in elemento.values()}\n",
    "print(valores_unicos)\n",
    "'''\n"
   ]
  },
  {
   "cell_type": "code",
   "execution_count": 3,
   "id": "095a0587-cf01-4cbf-9f9d-14e7d8685f79",
   "metadata": {},
   "outputs": [
    {
     "name": "stdout",
     "output_type": "stream",
     "text": [
      "{'S007', 'S002', 'S009', 'S001', 'S005'}\n"
     ]
    }
   ],
   "source": [
    "datos_muestra = [{\"V\": \"S001\"}, {\"V\": \"S002\"}, {\"VI\": \"S001\"}, {\"VI\": \"S005\"}, {\"VII\": \"S005\"}, {\"V\": \"S009\"}, {\"VIII\": \"S007\"}]\n",
    "\n",
    "# Crear una lista vacía para almacenar los valores únicos\n",
    "valores_unicos = []\n",
    "\n",
    "# Recorrer cada elemento del diccionario\n",
    "for elemento in datos_muestra:\n",
    "    # Recorrer los valores dentro de cada elemento\n",
    "    for valor in elemento.values():\n",
    "        # Si el valor no está en la lista, agregarlo\n",
    "        if valor not in valores_unicos:\n",
    "            valores_unicos.append(valor)\n",
    "\n",
    "# Imprimir los valores únicos\n",
    "print(valores_unicos)  # Resultado: ['S001', 'S002', 'S005', 'S007', 'S009']\n",
    "\n"
   ]
  },
  {
   "cell_type": "code",
   "execution_count": null,
   "id": "f8ef3e58-4d3d-467d-b9e7-6fa4e39f735b",
   "metadata": {},
   "outputs": [],
   "source": []
  }
 ],
 "metadata": {
  "kernelspec": {
   "display_name": "Python 3 (ipykernel)",
   "language": "python",
   "name": "python3"
  },
  "language_info": {
   "codemirror_mode": {
    "name": "ipython",
    "version": 3
   },
   "file_extension": ".py",
   "mimetype": "text/x-python",
   "name": "python",
   "nbconvert_exporter": "python",
   "pygments_lexer": "ipython3",
   "version": "3.11.9"
  }
 },
 "nbformat": 4,
 "nbformat_minor": 5
}
