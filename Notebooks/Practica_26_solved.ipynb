{
 "cells": [
  {
   "cell_type": "markdown",
   "id": "aca85ac7-18f9-4651-b2c7-c15d8b34c569",
   "metadata": {},
   "source": [
    "### Usando lambda, map(), filter() y reduce() o una combinación de ellos para realizar las siguientes tareas:"
   ]
  },
  {
   "cell_type": "markdown",
   "id": "80d07ad6-3e6b-4a2a-856c-33953fecc7db",
   "metadata": {},
   "source": [
    "1 - Supongamos que un diccionario contiene el tipo de mascota (gato, perro, etc.), el nombre de la mascota y la edad de la mascota. Escribe un programa que obtenga la suma de las edades de todos los perros."
   ]
  },
  {
   "cell_type": "code",
   "execution_count": null,
   "id": "2efd4b97-195d-406a-b6e7-0e7bf457aa84",
   "metadata": {},
   "outputs": [],
   "source": []
  },
  {
   "cell_type": "markdown",
   "id": "bf1ba130-4ff6-4d87-84df-212dd2b26124",
   "metadata": {},
   "source": [
    "2 - Considere la siguiente lista:  \n",
    "lst = [1.25, 3.22, 4.68, 10.95, 32.55, 12.54]  \n",
    "Los números de la lista representan radios de circunferencias. Escribe un programa para obtener una lista de áreas de estos círculos redondeada a dos decimales."
   ]
  },
  {
   "cell_type": "code",
   "execution_count": null,
   "id": "98a8456a-cf2a-4e21-96df-a96b13fe9c84",
   "metadata": {},
   "outputs": [],
   "source": []
  },
  {
   "cell_type": "markdown",
   "id": "e476c7d4-2399-4eec-b8f1-b37e5488282b",
   "metadata": {},
   "source": [
    "3 - Considere las siguientes listas:  \n",
    "nums = [10, 20, 30, 40, 50, 60, 70, 80]  \n",
    "strs = ['A', 'B', 'C', 'D', 'E', 'F', 'G', 'H']  \n",
    "Escribe un programa para obtener una lista de tuplas, donde cada tupla contenga un número de una lista y una cadena de otra, en el mismo orden en que aparecen en las listas originales."
   ]
  },
  {
   "cell_type": "code",
   "execution_count": null,
   "id": "2cfc9465-40eb-4f53-adc3-b6c57b47788c",
   "metadata": {},
   "outputs": [],
   "source": []
  },
  {
   "cell_type": "markdown",
   "id": "2f5a2236-8003-45c7-93e9-429fc5c65761",
   "metadata": {},
   "source": [
    "4 - Considere la siguiente lista:  \n",
    "lst = ['Malayalam', 'Drawing', 'madamIamadam', '1234321']  \n",
    "Escribe un programa que imprima las cadenas que son palíndromos."
   ]
  },
  {
   "cell_type": "code",
   "execution_count": null,
   "id": "4b5216d4-3da9-46cb-ab66-3c92d6713625",
   "metadata": {},
   "outputs": [],
   "source": []
  },
  {
   "cell_type": "markdown",
   "id": "ae61e557-4188-4c03-bc22-be53a4097266",
   "metadata": {},
   "source": [
    "5 - Una lista contiene nombres de empleados. Escribe un programa para filtrar aquellos nombres cuya longitud sea superior a 8 caracteres."
   ]
  },
  {
   "cell_type": "code",
   "execution_count": null,
   "id": "5bbc6b37-c1cc-4431-8e7a-4090252dc319",
   "metadata": {},
   "outputs": [],
   "source": []
  },
  {
   "cell_type": "markdown",
   "id": "2066ad6a-f374-4adf-87a0-d40cceccadf3",
   "metadata": {},
   "source": [
    "6 - Utilizando la función de filter(), encuentre los valores comunes a las dos listas siguientes.   \n",
    "a = [1,2,3,5,7,9]  \n",
    "\n",
    "b = [2,3,5,6,7,8]  \n",
    "\n",
    "El resultado debe estar guardado en otra lista.\n"
   ]
  },
  {
   "cell_type": "code",
   "execution_count": null,
   "id": "25c5a8b8-be97-4414-9989-e8ccd98ccc5f",
   "metadata": {},
   "outputs": [],
   "source": []
  },
  {
   "cell_type": "markdown",
   "id": "6f95561f-c3f2-48d8-a08a-e7b59c152bcc",
   "metadata": {},
   "source": [
    "6 - Teniendo en cuenta el rango de valores de abajo, utilice filter() para devolver una lista que contenga sólo números negativos.  \n",
    "range(-17, 17)"
   ]
  },
  {
   "cell_type": "code",
   "execution_count": null,
   "id": "81f29282-28db-4255-95d3-5d759168cfca",
   "metadata": {},
   "outputs": [],
   "source": []
  },
  {
   "cell_type": "markdown",
   "id": "6b522fee-3b2e-4e2d-88c3-29a6261e5645",
   "metadata": {},
   "source": [
    "7 - Basado en la cadena de texto de abajo, utilice map() y lambda para imprimir una lista de listas que contenga cada palabra en mayúsculas, otra en minúsculas y el número de caracteres de la palabra.  \n",
    "words = 'Data Science Academy offers the best data analysis courses in Spain'"
   ]
  },
  {
   "cell_type": "code",
   "execution_count": 10,
   "id": "ca9060c5-bd7e-4eb0-95ba-a45a3927a602",
   "metadata": {},
   "outputs": [
    {
     "name": "stdout",
     "output_type": "stream",
     "text": [
      "[['DATA', 'data', 4], ['SCIENCE', 'science', 7], ['ACADEMY', 'academy', 7], ['OFFERS', 'offers', 6], ['THE', 'the', 3], ['BEST', 'best', 4], ['DATA', 'data', 4], ['ANALYSIS', 'analysis', 8], ['COURSES', 'courses', 7], ['IN', 'in', 2], ['SPAIN', 'spain', 5]]\n"
     ]
    }
   ],
   "source": [
    "words = 'Data Science Academy offers the best data analysis courses in Spain'.split()  \n",
    "\n",
    "# results = list(map(lambda w: [w.upper(), w.lower(), len(w)], words))\n",
    "print(list(map(lambda w: [w.upper(), w.lower(), len(w)], words)))"
   ]
  }
 ],
 "metadata": {
  "kernelspec": {
   "display_name": "Python 3 (ipykernel)",
   "language": "python",
   "name": "python3"
  },
  "language_info": {
   "codemirror_mode": {
    "name": "ipython",
    "version": 3
   },
   "file_extension": ".py",
   "mimetype": "text/x-python",
   "name": "python",
   "nbconvert_exporter": "python",
   "pygments_lexer": "ipython3",
   "version": "3.11.9"
  }
 },
 "nbformat": 4,
 "nbformat_minor": 5
}
