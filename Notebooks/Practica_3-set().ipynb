{
 "cells": [
  {
   "cell_type": "markdown",
   "id": "b9344edd",
   "metadata": {},
   "source": [
    "# Practica 23. Conjuntos - Set()"
   ]
  },
  {
   "cell_type": "markdown",
   "id": "5ad6ad8b",
   "metadata": {},
   "source": [
    "1-\tCrear dos conjuntos, uno que contenga enteros y otro que contenga cadenas. Iterar cada conjunto e imprimirlo."
   ]
  },
  {
   "cell_type": "code",
   "execution_count": null,
   "id": "aa210fef",
   "metadata": {},
   "outputs": [],
   "source": []
  },
  {
   "cell_type": "markdown",
   "id": "53e61769",
   "metadata": {},
   "source": [
    "2-\tCrear un set() (conjunto) que se llame zoológico con al menos dos animales y luego actualice ese conjunto añadiendo por lo menos tres animales más."
   ]
  },
  {
   "cell_type": "code",
   "execution_count": null,
   "id": "2d53b9e7",
   "metadata": {},
   "outputs": [],
   "source": []
  },
  {
   "cell_type": "markdown",
   "id": "24a6b5ca",
   "metadata": {},
   "source": [
    "3-\tCrear un conjunto con nombres de Países , puede añadir los que quiera. Luego actualice dicho conjunto eliminando dos países."
   ]
  },
  {
   "cell_type": "code",
   "execution_count": null,
   "id": "3605fbfb",
   "metadata": {},
   "outputs": [],
   "source": []
  },
  {
   "cell_type": "markdown",
   "id": "6e0ddbb9",
   "metadata": {},
   "source": [
    "4-\tEscriba un programa para crear una intersección de dos conjuntos cualesquiera."
   ]
  },
  {
   "cell_type": "code",
   "execution_count": null,
   "id": "17b8f9a6",
   "metadata": {},
   "outputs": [],
   "source": []
  },
  {
   "cell_type": "markdown",
   "id": "d7325ad2",
   "metadata": {},
   "source": [
    "5-\tEscriba un programa que encuentre la unión, diferencia simétrica e intersección de dos conjuntos cualesquiera. Imprima los resultados."
   ]
  },
  {
   "cell_type": "code",
   "execution_count": null,
   "id": "58c2ad37",
   "metadata": {},
   "outputs": [],
   "source": []
  },
  {
   "cell_type": "markdown",
   "id": "820a7316",
   "metadata": {},
   "source": [
    "6-\tEscriba un programa que verifique si un valor específico existe o no en un conjunto."
   ]
  },
  {
   "cell_type": "code",
   "execution_count": null,
   "id": "06d7c221",
   "metadata": {},
   "outputs": [],
   "source": []
  },
  {
   "cell_type": "markdown",
   "id": "9ce93d16",
   "metadata": {},
   "source": [
    "7-\tEscriba un programa que verifique si dos conjuntos cualesquiera tienen elementos en común si es así imprima dichos elementos comunes."
   ]
  },
  {
   "cell_type": "code",
   "execution_count": null,
   "id": "c4f5b805",
   "metadata": {},
   "outputs": [],
   "source": []
  },
  {
   "cell_type": "markdown",
   "id": "c1727bbf",
   "metadata": {},
   "source": [
    "8-\tEscriba un programa que verifique a partir de dos conjuntos si uno es ‘subconjunto’ o ‘superconjunto’ del otro. "
   ]
  },
  {
   "cell_type": "code",
   "execution_count": null,
   "id": "47bb5267",
   "metadata": {},
   "outputs": [],
   "source": []
  },
  {
   "cell_type": "markdown",
   "id": "40304948",
   "metadata": {},
   "source": [
    "9-\tEscriba un programa que devuelva un nuevo conjunto con elementos únicos de un par de conjuntos mediante la eliminación de duplicados."
   ]
  },
  {
   "cell_type": "code",
   "execution_count": null,
   "id": "5fa09562",
   "metadata": {},
   "outputs": [],
   "source": []
  },
  {
   "cell_type": "markdown",
   "id": "7596028a",
   "metadata": {},
   "source": [
    "10-\tEscriba un programa que convierta un string a un set."
   ]
  },
  {
   "cell_type": "code",
   "execution_count": null,
   "id": "5c44b7c6",
   "metadata": {},
   "outputs": [],
   "source": []
  },
  {
   "cell_type": "markdown",
   "id": "fbf7d664",
   "metadata": {},
   "source": [
    "11-\tEscriba un programa que convierta un set a un string."
   ]
  },
  {
   "cell_type": "code",
   "execution_count": null,
   "id": "7031d388",
   "metadata": {},
   "outputs": [],
   "source": []
  },
  {
   "cell_type": "markdown",
   "id": "bcef3c64",
   "metadata": {},
   "source": [
    "12-\tEscriba un programa que convierta un set a una lista.\n",
    "\n"
   ]
  },
  {
   "cell_type": "code",
   "execution_count": null,
   "id": "95de7b59",
   "metadata": {},
   "outputs": [],
   "source": []
  },
  {
   "cell_type": "markdown",
   "id": "ea290bf1",
   "metadata": {},
   "source": [
    "13-\tEscriba un programa que convierta un set a una tupla."
   ]
  },
  {
   "cell_type": "code",
   "execution_count": null,
   "id": "42b8c903",
   "metadata": {},
   "outputs": [],
   "source": []
  },
  {
   "cell_type": "markdown",
   "id": "7cc0a5ed",
   "metadata": {},
   "source": [
    "14-\tEscriba un programa que convierta una tupla a un set."
   ]
  },
  {
   "cell_type": "code",
   "execution_count": null,
   "id": "dc020fbb",
   "metadata": {},
   "outputs": [],
   "source": []
  },
  {
   "cell_type": "markdown",
   "id": "84c1f30f",
   "metadata": {},
   "source": [
    "15-\tEscriba un programa que le pida al usuario una cadena cualquiera y cuente las vocales que tenga tanto mayúsculas como minúsculas. Luego que imprima el número de vocales contados y también que imprima en un conjunto aquellas vocales encontradas."
   ]
  },
  {
   "cell_type": "code",
   "execution_count": null,
   "id": "712ff52f",
   "metadata": {},
   "outputs": [],
   "source": []
  }
 ],
 "metadata": {
  "kernelspec": {
   "display_name": "Python 3 (ipykernel)",
   "language": "python",
   "name": "python3"
  },
  "language_info": {
   "codemirror_mode": {
    "name": "ipython",
    "version": 3
   },
   "file_extension": ".py",
   "mimetype": "text/x-python",
   "name": "python",
   "nbconvert_exporter": "python",
   "pygments_lexer": "ipython3",
   "version": "3.11.4"
  }
 },
 "nbformat": 4,
 "nbformat_minor": 5
}
