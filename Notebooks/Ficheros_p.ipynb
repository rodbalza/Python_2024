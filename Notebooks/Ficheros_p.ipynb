{
 "cells": [
  {
   "cell_type": "markdown",
   "id": "249ddf6c-9b4a-468b-b798-5d43aa5ca3b5",
   "metadata": {},
   "source": [
    "# Ficheros"
   ]
  },
  {
   "cell_type": "markdown",
   "id": "bcced247-e453-41e7-8fff-8a048cc2788a",
   "metadata": {},
   "source": [
    "Hay varias formas de abrir un fichero, la más común es utilizando la función open del módulo io.\r\n"
   ]
  },
  {
   "cell_type": "markdown",
   "id": "aed512ac-e5ac-4823-a78d-0b65edb06bfe",
   "metadata": {},
   "source": [
    "**Creación y Escritura**"
   ]
  },
  {
   "cell_type": "code",
   "execution_count": 1,
   "id": "013011bd-ba6f-412e-9523-ae3041190bad",
   "metadata": {},
   "outputs": [],
   "source": [
    "from io import open # Desde Jupyter Notebooks no es necesario importar open\n",
    "\n",
    "texto = \"Una línea con texto\\nOtra línea con texto\"\n",
    "\n",
    "# Ruta donde crearemos el fichero, w indica escritura (puntero al principio)\n",
    "fichero = open('fichero.txt','w')\n",
    "\n",
    "# Escribimos el texto\n",
    "fichero.write(texto)\n",
    "\n",
    "# Cerramos el fichero\n",
    "fichero.close()"
   ]
  },
  {
   "cell_type": "markdown",
   "id": "7c677cc7-6e3d-4e6e-8298-6c891a564aeb",
   "metadata": {},
   "source": [
    "**Lectura**"
   ]
  },
  {
   "cell_type": "code",
   "execution_count": null,
   "id": "9e92b9b4-c7fc-479a-a304-ca91880cb2ba",
   "metadata": {},
   "outputs": [],
   "source": [
    "from io import open\n",
    "\n",
    "# Ruta donde leeremos el fichero, r indica lectura (por defecto ya es r)\n",
    "fichero = open('fichero.txt','r')\n",
    "\n",
    "# Lectura completa\n",
    "texto = fichero.read()\n",
    "\n",
    "# Cerramos el fichero\n",
    "fichero.close()\n",
    "\n",
    "print(texto)"
   ]
  },
  {
   "cell_type": "markdown",
   "id": "fc0ae833-3901-4a6c-bf02-1945e53ce321",
   "metadata": {},
   "source": [
    "Podemos usar el método readlines() del fichero para generar una lista con las líneas:"
   ]
  },
  {
   "cell_type": "code",
   "execution_count": 2,
   "id": "25d817d1-34e1-4673-acaa-01a9050f36e0",
   "metadata": {},
   "outputs": [
    {
     "name": "stdout",
     "output_type": "stream",
     "text": [
      "['Una línea con texto\\n', 'Otra línea con texto']\n"
     ]
    }
   ],
   "source": [
    "from io import open\n",
    "fichero = open('fichero.txt','r')\n",
    "\n",
    "# Leemos creando una lista de líneas\n",
    "texto = fichero.readlines()\n",
    "\n",
    "fichero.close()\n",
    "print(texto)"
   ]
  },
  {
   "cell_type": "markdown",
   "id": "1ae05077-14fb-4c85-ae74-35336c24a21c",
   "metadata": {},
   "source": [
    "También se puede leer un fichero utilizando la instrucción estándar with de la siguiente forma:"
   ]
  },
  {
   "cell_type": "code",
   "execution_count": 3,
   "id": "bb057203-96b8-4b03-81bb-53a8364643ee",
   "metadata": {},
   "outputs": [
    {
     "name": "stdout",
     "output_type": "stream",
     "text": [
      "Una línea con texto\n",
      "\n",
      "Otra línea con texto\n"
     ]
    }
   ],
   "source": [
    "with open(\"fichero.txt\", \"r\") as fichero:\n",
    "    for linea in fichero:\n",
    "        print(linea)"
   ]
  },
  {
   "cell_type": "markdown",
   "id": "9bebc168-2806-421a-8363-091f1e53c899",
   "metadata": {},
   "source": [
    "**Extensión**"
   ]
  },
  {
   "cell_type": "markdown",
   "id": "d4eacc16-2d7f-40f1-9bb0-8d5be30fe624",
   "metadata": {},
   "source": [
    "Este modo nos permite añadir datos al final de un fichero:"
   ]
  },
  {
   "cell_type": "code",
   "execution_count": null,
   "id": "1c63dfdb-f35f-4d81-b0d6-2e1b73311e58",
   "metadata": {},
   "outputs": [],
   "source": [
    "from io import open\n",
    "\n",
    "# Ruta donde leeremos el fichero, a indica extensión (puntero al final)\n",
    "fichero = open('fichero.txt','a')\n",
    "\n",
    "fichero.write('\\nOtra línea más abajo del todo')\n",
    "\n",
    "fichero.close()"
   ]
  },
  {
   "cell_type": "markdown",
   "id": "7958eed7-3bba-4db9-87db-4f08f61659d5",
   "metadata": {},
   "source": [
    "La variante 'a+' permite crear el fichero si no existe:"
   ]
  },
  {
   "cell_type": "code",
   "execution_count": null,
   "id": "ba1eeec5-8778-4ffb-98f8-3c33d64c0522",
   "metadata": {},
   "outputs": [],
   "source": [
    "fichero = open('fichero_inventado.txt','a+')"
   ]
  },
  {
   "cell_type": "markdown",
   "id": "ca7a5aaa-296e-495c-91e0-ee7481cfc8f1",
   "metadata": {},
   "source": [
    "**Manejando el puntero**"
   ]
  },
  {
   "cell_type": "markdown",
   "id": "f45875d9-d8bc-4e9c-a030-890408939505",
   "metadata": {},
   "source": [
    "Es posible posicionar el puntero en el fichero manualmente usando el método **seek** e indicando un número de caracteres para luego leer una cantidad de caracteres con el método read:"
   ]
  },
  {
   "cell_type": "code",
   "execution_count": 4,
   "id": "e924f8a7-06d8-4f2d-b6fc-68e6a1269d54",
   "metadata": {},
   "outputs": [
    {
     "data": {
      "text/plain": [
       "'Una línea '"
      ]
     },
     "execution_count": 4,
     "metadata": {},
     "output_type": "execute_result"
    }
   ],
   "source": [
    "fichero = open('fichero.txt','r')\n",
    "fichero.seek(0)   # Puntero al principio\n",
    "fichero.read(10)  # Leemos 10 carácteres"
   ]
  },
  {
   "cell_type": "code",
   "execution_count": 5,
   "id": "e0e90221-6095-4b84-9e68-8ee7b502182b",
   "metadata": {},
   "outputs": [
    {
     "data": {
      "text/plain": [
       "'\\nOtra línea con texto'"
      ]
     },
     "execution_count": 5,
     "metadata": {},
     "output_type": "execute_result"
    }
   ],
   "source": [
    "fichero = open('fichero.txt','r')\n",
    "fichero.seek(0)\n",
    "\n",
    "# Leemos la primera línea y situamos el puntero al principio de la segunda\n",
    "fichero.seek( len(fichero.readline()) )\n",
    "\n",
    "# Leemos todo lo que queda del puntero hasta el final\n",
    "fichero.read()"
   ]
  },
  {
   "cell_type": "markdown",
   "id": "09289065-6ec5-4796-8873-b0379c702c32",
   "metadata": {},
   "source": [
    "**Lectura con escritura**"
   ]
  },
  {
   "cell_type": "markdown",
   "id": "2006e5ab-fe5b-4093-b59d-eb0f1c89746e",
   "metadata": {},
   "source": [
    "Se puede abrir un fichero en modo lectura con escritura, pero éste debe existir préviamente. Además por defecto el puntero estará al principio y si escribimos algo sobreescribiremos el contenido actual, así que prestad atención a los saltos de línea y caracteres especiales:"
   ]
  },
  {
   "cell_type": "code",
   "execution_count": 8,
   "id": "d7698fb0-f599-4c33-ab54-ae598ead7bc0",
   "metadata": {},
   "outputs": [],
   "source": [
    "# Creamos un fichero de prueba con 4 líneas\n",
    "fichero = open('fichero2.txt','w')\n",
    "texto = \"Línea 1\\nLínea 2\\nLínea 3\\nLínea 4\"\n",
    "fichero.write(texto)\n",
    "fichero.close()\n",
    "\n",
    "# Lo abrimos en lectura con escritura y escribimos algo\n",
    "fichero = open('fichero2.txt','r+')\n",
    "fichero.write(\"0123456\")\n",
    "\n",
    "# Volvemos a ponter el puntero al inicio y leemos hasta el final\n",
    "fichero.seek(0)\n",
    "fichero.read()\n",
    "fichero.close()"
   ]
  },
  {
   "cell_type": "markdown",
   "id": "79f4a6ec-9bbb-4b88-bd21-34d8e4a1c1fc",
   "metadata": {},
   "source": [
    "**Modificar una línea**"
   ]
  },
  {
   "cell_type": "markdown",
   "id": "0763922d-693f-4959-a0ce-6a2db2bd27eb",
   "metadata": {},
   "source": [
    "Para lograr este fin lo mejor es leer todas las líneas en una lista, modificar la línea en la lista, posicionar el puntero al principio y reescribir de nuevo todas las líneas:"
   ]
  },
  {
   "cell_type": "code",
   "execution_count": 9,
   "id": "cea5d622-7e1e-495f-b921-b141df9c8cd2",
   "metadata": {},
   "outputs": [
    {
     "name": "stdout",
     "output_type": "stream",
     "text": [
      "0123456\n",
      "Línea 2\n",
      "Esta es la línea 3 modificada\n",
      "Línea 4\n"
     ]
    }
   ],
   "source": [
    "fichero = open('fichero2.txt','r+')\n",
    "texto = fichero.readlines()\n",
    "\n",
    "# Modificamos la línea que queramos a partir del índice\n",
    "texto[2] = \"Esta es la línea 3 modificada\\n\"\n",
    "\n",
    "# Volvemos a ponter el puntero al inicio y reescribimos\n",
    "fichero.seek(0)\n",
    "fichero.writelines(texto)\n",
    "fichero.close()\n",
    "\n",
    "# Leemos el fichero de nuevo\n",
    "with open(\"fichero2.txt\", \"r\") as fichero:\n",
    "    print(fichero.read())"
   ]
  },
  {
   "cell_type": "markdown",
   "id": "008fcad0-3700-4f21-8c74-75f27f3738ab",
   "metadata": {},
   "source": [
    "## Módulo pickle"
   ]
  },
  {
   "cell_type": "markdown",
   "id": "46e64662-6c07-4af8-8abb-5771b1a194e8",
   "metadata": {},
   "source": [
    "Este módulo nos permite almacenar fácilmente colecciones y objetos en ficheros binarios abstrayendo todo la parte de escritura y lectura binaria."
   ]
  },
  {
   "cell_type": "markdown",
   "id": "0021fc74-21b4-4be4-9df9-696b800a840f",
   "metadata": {},
   "source": [
    "**Escritura de colecciones**"
   ]
  },
  {
   "cell_type": "code",
   "execution_count": 12,
   "id": "66233787-cee2-428e-bc9b-90d9437a82d1",
   "metadata": {},
   "outputs": [],
   "source": [
    "import pickle\n",
    "\n",
    "# Podemos guardar lo que queramos, listas, diccionarios, tuplas...\n",
    "lista = [1,2,3,4,5]\n",
    "\n",
    "# Escritura en modo binario, vacía el fichero si existe\n",
    "fichero = open('lista.pckl','wb')\n",
    "\n",
    "# Escribe la colección en el fichero \n",
    "pickle.dump(lista, fichero) \n",
    "\n",
    "fichero.close()"
   ]
  },
  {
   "cell_type": "markdown",
   "id": "08f184e1-050c-431b-b77e-6f7f1e225e83",
   "metadata": {},
   "source": [
    "**Lectura de colecciones**"
   ]
  },
  {
   "cell_type": "code",
   "execution_count": 14,
   "id": "48c012ac-e3c9-4856-aa20-64172c2b422c",
   "metadata": {},
   "outputs": [],
   "source": [
    "# Lectura en modo binario \n",
    "fichero = open('lista.pckl','rb') "
   ]
  },
  {
   "cell_type": "code",
   "execution_count": 15,
   "id": "dc97a29a-f617-413e-b381-c762e3e2533f",
   "metadata": {},
   "outputs": [
    {
     "name": "stdout",
     "output_type": "stream",
     "text": [
      "[1, 2, 3, 4, 5]\n"
     ]
    }
   ],
   "source": [
    "# Cargamos los datos del fichero\n",
    "lista_fichero = pickle.load(fichero)\n",
    "print(lista_fichero)\n",
    "\n",
    "fichero.close()"
   ]
  },
  {
   "cell_type": "markdown",
   "id": "0a8bbcb4-6259-41d4-acc2-c49c9ed40701",
   "metadata": {},
   "source": [
    "**Ejercicios resueltos**"
   ]
  },
  {
   "cell_type": "markdown",
   "id": "39c68318-a0f1-491f-8dd1-2c372f4fb629",
   "metadata": {},
   "source": [
    "1- En este ejercicio deberás crear un script llamado personas.py que lea los datos de un fichero de texto, que transforme cada fila en un diccionario y lo añada a una lista llamada personas. Luego recorre las personas de la lista y para cada una muestra de forma amigable todos sus campos"
   ]
  },
  {
   "cell_type": "markdown",
   "id": "f51d4149-2648-4f68-ba01-d42012c061d8",
   "metadata": {},
   "source": [
    "El fichero de texto se denominará personas.txt y tendrá el siguiente contenido en texto plano (créalo previamente):"
   ]
  },
  {
   "cell_type": "markdown",
   "id": "dbf1c6e1-b72b-452a-ab80-ffd3bcc75364",
   "metadata": {},
   "source": [
    "```\n",
    "1;Carlos;Pérez;05/01/1989\n",
    "2;Manuel;Heredia;26/12/1973\n",
    "3;Rosa;Campos;12/06/1961\n",
    "4;David;García;25/07/2006\n",
    "```"
   ]
  },
  {
   "cell_type": "markdown",
   "id": "9ca27d95-8258-451e-84ed-55946fa5c15d",
   "metadata": {},
   "source": [
    "Los campos del diccionario serán por orden: id, nombre, apellido y nacimiento."
   ]
  },
  {
   "cell_type": "markdown",
   "id": "1fe485c9-4c6f-4295-ad49-0eb428ee9bb6",
   "metadata": {},
   "source": [
    "Si quieres leer un fichero que no se ha escrito directamente con Python, entonces es posible que encuentres errores de codificación al mostrar algunos caracteres. Asegúrate de indicar la codificación del fichero manualmente durante la apertura como argumento en el open, por ejemplo con UTF-8:"
   ]
  },
  {
   "cell_type": "markdown",
   "id": "ef15147d-8229-4fb0-b705-5dea0645acd2",
   "metadata": {},
   "source": [
    "```\n",
    "open(..., encoding=\"utf8\")\n",
    "```"
   ]
  },
  {
   "cell_type": "code",
   "execution_count": null,
   "id": "03c88226-d540-4263-9f1d-783882d16b7d",
   "metadata": {},
   "outputs": [],
   "source": []
  }
 ],
 "metadata": {
  "kernelspec": {
   "display_name": "Python 3 (ipykernel)",
   "language": "python",
   "name": "python3"
  },
  "language_info": {
   "codemirror_mode": {
    "name": "ipython",
    "version": 3
   },
   "file_extension": ".py",
   "mimetype": "text/x-python",
   "name": "python",
   "nbconvert_exporter": "python",
   "pygments_lexer": "ipython3",
   "version": "3.11.9"
  }
 },
 "nbformat": 4,
 "nbformat_minor": 5
}
