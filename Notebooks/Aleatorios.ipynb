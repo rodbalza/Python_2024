{
 "cells": [
  {
   "cell_type": "code",
   "execution_count": 3,
   "id": "1e9ae2af-0e98-4eab-a5d8-29aff9116cea",
   "metadata": {},
   "outputs": [
    {
     "name": "stdout",
     "output_type": "stream",
     "text": [
      "Número aleatorio: 2\n",
      "Nombre asociado: Reinaldo\n"
     ]
    }
   ],
   "source": [
    "'''\n",
    "import random\n",
    "nombres = {\n",
    "    1: \"Pedro\",\n",
    "    2: \"Reinaldo\",\n",
    "    3: \"Juan D\",\n",
    "    4: \"Leidy P\",\n",
    "    5: \"Olga G\",\n",
    "    6: \"Carlos O\",\n",
    "    7: \"Angélica R\",\n",
    "    8: \"Humberto S\"\n",
    "}\n",
    "numero_aleatorio = random.randint(1, 8)\n",
    "print(f\"Número aleatorio: {numero_aleatorio}\")\n",
    "print(f\"Nombre asociado: {nombres[numero_aleatorio]}\")\n",
    "'''"
   ]
  },
  {
   "cell_type": "code",
   "execution_count": 4,
   "id": "0d914553-0264-4aa2-b663-4b5964c60cc4",
   "metadata": {},
   "outputs": [
    {
     "name": "stdout",
     "output_type": "stream",
     "text": [
      "Número aleatorio: 3 - Nombre asociado: Juan D\n",
      "Número aleatorio: 5 - Nombre asociado: Olga G\n",
      "Número aleatorio: 2 - Nombre asociado: Reinaldo\n"
     ]
    }
   ],
   "source": [
    "import random\n",
    "\n",
    "# Diccionario con los nombres asociados a los números\n",
    "nombres = {\n",
    "    1: \"Pedro\",\n",
    "    2: \"Reinaldo\",\n",
    "    3: \"Juan D\",\n",
    "    4: \"Leidy P\",\n",
    "    5: \"Olga G\",\n",
    "    6: \"Carlos O\",\n",
    "    7: \"Angélica R\",\n",
    "    8: \"Humberto S\"\n",
    "}\n",
    "\n",
    "# Generar tres números aleatorios sin repetir\n",
    "numeros_aleatorios = random.sample(range(1, 9), 3)\n",
    "\n",
    "# Imprimir los números y los nombres asociados en una misma línea\n",
    "for numero in numeros_aleatorios:\n",
    "    print(f\"Número aleatorio: {numero} - Nombre asociado: {nombres[numero]}\")"
   ]
  },
  {
   "cell_type": "code",
   "execution_count": null,
   "id": "524011e1-4e6e-4a38-9dff-fab47fc7095d",
   "metadata": {},
   "outputs": [],
   "source": []
  }
 ],
 "metadata": {
  "kernelspec": {
   "display_name": "Python 3 (ipykernel)",
   "language": "python",
   "name": "python3"
  },
  "language_info": {
   "codemirror_mode": {
    "name": "ipython",
    "version": 3
   },
   "file_extension": ".py",
   "mimetype": "text/x-python",
   "name": "python",
   "nbconvert_exporter": "python",
   "pygments_lexer": "ipython3",
   "version": "3.11.9"
  }
 },
 "nbformat": 4,
 "nbformat_minor": 5
}
